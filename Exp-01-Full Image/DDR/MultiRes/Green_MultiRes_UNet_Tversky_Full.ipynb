{
 "cells": [
  {
   "cell_type": "code",
   "execution_count": 3,
   "id": "0e8d7f51",
   "metadata": {},
   "outputs": [],
   "source": [
    "import os\n",
    "import cv2\n",
    "import time\n",
    "import random\n",
    "import numpy as np\n",
    "import matplotlib.pyplot as plt\n",
    "from glob import glob\n",
    "from operator import add\n",
    "from tqdm import tqdm\n",
    "\n",
    "import torch\n",
    "import torch.nn as nn\n",
    "import torch.nn.functional as F\n",
    "from torch.utils.data import Dataset, DataLoader, random_split, Subset\n",
    "from sklearn.metrics import accuracy_score, f1_score, jaccard_score, precision_score, recall_score"
   ]
  },
  {
   "cell_type": "code",
   "execution_count": null,
   "id": "5cdbaaf4",
   "metadata": {},
   "outputs": [],
   "source": [
    "# Utility Functions \n",
    "def seeding(seed):\n",
    "    random.seed(seed)\n",
    "    os.environ[\"PYTHONHASHSEED\"] = str(seed)\n",
    "    np.random.seed(seed)\n",
    "    torch.manual_seed(seed)\n",
    "    torch.cuda.manual_seed(seed)\n",
    "    torch.backends.cudnn.deterministic = True\n",
    "\n",
    "def create_directory(path):\n",
    "    if not os.path.exists(path):\n",
    "        os.makedirs(path)\n",
    "\n",
    "def epoch_time(start_time, end_time):\n",
    "    elapsed_time = end_time - start_time\n",
    "    elapsed_mins = int(elapsed_time / 60)\n",
    "    elapsed_secs = int(elapsed_time - (elapsed_mins * 60))\n",
    "    return elapsed_mins, elapsed_secs"
   ]
  },
  {
   "cell_type": "code",
   "execution_count": null,
   "id": "1e7eb778",
   "metadata": {},
   "outputs": [],
   "source": [
    "# Dataset \n",
    "class RetinalDataset(Dataset):\n",
    "    def __init__(self, images_path, masks_path):\n",
    "        self.images_path = images_path\n",
    "        self.masks_path = masks_path\n",
    "        self.n_samples = len(images_path)\n",
    "\n",
    "    def __getitem__(self, index):\n",
    "        img_path = self.images_path[index]\n",
    "        mask_path = self.masks_path[index]\n",
    "\n",
    "        # Load image in BGR format\n",
    "        image = cv2.imread(img_path, cv2.IMREAD_COLOR)\n",
    "\n",
    "        # Extract only the green channel\n",
    "        green = image[:, :, 1]  # Index 1 = green channel in BGR\n",
    "\n",
    "        # Normalize and convert to tensor\n",
    "        green = green / 255.0\n",
    "        green = np.expand_dims(green, axis=0).astype(np.float32)  # Shape: [1, H, W]\n",
    "        image = torch.from_numpy(green)\n",
    "\n",
    "        # Load and process the mask\n",
    "        mask = cv2.imread(mask_path, cv2.IMREAD_GRAYSCALE)\n",
    "        mask = mask / 255.0\n",
    "        mask = np.expand_dims(mask, axis=0).astype(np.float32)\n",
    "        mask = torch.from_numpy(mask)\n",
    "\n",
    "        # Get the filename\n",
    "        filename = os.path.basename(img_path)\n",
    "\n",
    "        return image, mask, filename\n",
    "    def __len__(self):\n",
    "            return self.n_samples"
   ]
  },
  {
   "cell_type": "code",
   "execution_count": 6,
   "id": "acbded60",
   "metadata": {},
   "outputs": [],
   "source": [
    "class TverskyLoss(nn.Module):\n",
    "    def __init__(self, alpha=0.3, beta=0.7, smooth=1e-6):\n",
    "        super().__init__()\n",
    "        self.alpha = alpha\n",
    "        self.beta = beta\n",
    "        self.smooth = smooth\n",
    "\n",
    "    def forward(self, logits, targets):\n",
    "        probs = torch.sigmoid(logits).view(logits.size(0), -1)\n",
    "        targets = targets.view(targets.size(0), -1)\n",
    "\n",
    "        TP = (probs * targets).sum(dim=1)\n",
    "        FP = (probs * (1 - targets)).sum(dim=1)\n",
    "        FN = ((1 - probs) * targets).sum(dim=1)\n",
    "\n",
    "        tversky = (TP + self.smooth) / (TP + self.alpha * FP + self.beta * FN + self.smooth)\n",
    "        return (1 - tversky).mean()\n",
    "\n"
   ]
  },
  {
   "cell_type": "code",
   "execution_count": 7,
   "id": "6698c92a",
   "metadata": {},
   "outputs": [],
   "source": [
    "class conv_block(nn.Module):\n",
    "    def __init__(self, in_c, out_c, kernel_size=3, padding=1, act=True):\n",
    "        super().__init__()\n",
    "\n",
    "        layers = [\n",
    "            nn.Conv2d(in_c, out_c, kernel_size=kernel_size, padding=padding, bias=False),\n",
    "            nn.BatchNorm2d(out_c)\n",
    "        ]\n",
    "        if act == True:\n",
    "            layers.append(nn.ReLU(inplace=True))\n",
    "\n",
    "        self.conv = nn.Sequential(*layers)\n",
    "\n",
    "    def forward(self, x):\n",
    "        return self.conv(x)\n",
    "\n",
    "class multires_block(nn.Module):\n",
    "    def __init__(self, in_c, out_c, alpha=1.67):\n",
    "        super().__init__()\n",
    "\n",
    "        W = out_c * alpha\n",
    "        self.c1 = conv_block(in_c, int(W*0.167))\n",
    "        self.c2 = conv_block(int(W*0.167), int(W*0.333))\n",
    "        self.c3 = conv_block(int(W*0.333), int(W*0.5))\n",
    "\n",
    "        nf = int(W*0.167) + int(W*0.333) + int(W*0.5)\n",
    "        self.b1 = nn.BatchNorm2d(nf)\n",
    "        self.c4 = conv_block(in_c, nf)\n",
    "        self.relu = nn.ReLU(inplace=True)\n",
    "        self.b2 = nn.BatchNorm2d(nf)\n",
    "\n",
    "    def forward(self, x):\n",
    "        x0 = x\n",
    "        x1 = self.c1(x0)\n",
    "        x2 = self.c2(x1)\n",
    "        x3 = self.c3(x2)\n",
    "        xc = torch.cat([x1, x2, x3], dim=1)\n",
    "        xc = self.b1(xc)\n",
    "\n",
    "        sc = self.c4(x0)\n",
    "        x = self.relu(xc + sc)\n",
    "        x = self.b2(x)\n",
    "        return x\n",
    "\n",
    "class res_path_block(nn.Module):\n",
    "    def __init__(self, in_c, out_c):\n",
    "        super().__init__()\n",
    "\n",
    "        self.c1 = conv_block(in_c, out_c, act=False)\n",
    "        self.s1 = conv_block(in_c, out_c, kernel_size=1, padding=0, act=False)\n",
    "        self.relu = nn.ReLU(inplace=True)\n",
    "        self.bn = nn.BatchNorm2d(out_c)\n",
    "\n",
    "    def forward(self, x):\n",
    "        x1 = self.c1(x)\n",
    "        s1 = self.s1(x)\n",
    "        x = self.relu(x1 + s1)\n",
    "        x = self.bn(x)\n",
    "        return x\n",
    "\n",
    "class res_path(nn.Module):\n",
    "    def __init__(self, in_c, out_c, length):\n",
    "        super().__init__()\n",
    "\n",
    "        layers = []\n",
    "        for i in range(length):\n",
    "            layers.append(res_path_block(in_c, out_c))\n",
    "            in_c = out_c\n",
    "\n",
    "        self.conv = nn.Sequential(*layers)\n",
    "\n",
    "    def forward(self, x):\n",
    "        return self.conv(x)\n",
    "\n",
    "def cal_nf(ch, alpha=1.67):\n",
    "    W = ch * alpha\n",
    "    return int(W*0.167) + int(W*0.333) + int(W*0.5)\n",
    "\n",
    "class encoder_block(nn.Module):\n",
    "    def __init__(self, in_c, out_c, length):\n",
    "        super().__init__()\n",
    "\n",
    "        self.c1 = multires_block(in_c, out_c)\n",
    "        nf = cal_nf(out_c)\n",
    "        self.s1 = res_path(nf, out_c, length)\n",
    "        self.pool = nn.MaxPool2d((2, 2))\n",
    "\n",
    "    def forward(self, x):\n",
    "        x = self.c1(x)\n",
    "        s = self.s1(x)\n",
    "        p = self.pool(x)\n",
    "        return s, p\n",
    "\n",
    "class decoder_block(nn.Module):\n",
    "    def __init__(self, in_c, out_c):\n",
    "        super().__init__()\n",
    "\n",
    "        self.c1 = nn.ConvTranspose2d(in_c[0], out_c, kernel_size=2, stride=2, padding=0)\n",
    "        self.c2 = multires_block(out_c+in_c[1], out_c)\n",
    "\n",
    "    def forward(self, x, s):\n",
    "        x = self.c1(x)\n",
    "        x = torch.cat([x, s], dim=1)\n",
    "        x = self.c2(x)\n",
    "        return x\n",
    "\n",
    "class UNet(nn.Module):\n",
    "    def __init__(self):\n",
    "        super().__init__()\n",
    "\n",
    "        \"\"\" Encoder \"\"\"\n",
    "        self.e1 = encoder_block(1, 32, 4)\n",
    "        self.e2 = encoder_block(cal_nf(32), 64, 3)\n",
    "        self.e3 = encoder_block(cal_nf(64), 128, 2)\n",
    "        self.e4 = encoder_block(cal_nf(128), 256, 1)\n",
    "\n",
    "        \"\"\" Bridge \"\"\"\n",
    "        self.b1 = multires_block(cal_nf(256), 512)\n",
    "\n",
    "        \"\"\" Decoder \"\"\"\n",
    "        self.d1 = decoder_block([cal_nf(512), 256], 256)\n",
    "        self.d2 = decoder_block([cal_nf(256), 128], 128)\n",
    "        self.d3 = decoder_block([cal_nf(128), 64], 64)\n",
    "        self.d4 = decoder_block([cal_nf(64), 32], 32)\n",
    "\n",
    "        \"\"\" Output \"\"\"\n",
    "        self.output = nn.Conv2d(cal_nf(32), 1, kernel_size=1, padding=0)\n",
    "\n",
    "    def forward(self, x):\n",
    "        s1, p1 = self.e1(x)\n",
    "        s2, p2 = self.e2(p1)\n",
    "        s3, p3 = self.e3(p2)\n",
    "        s4, p4 = self.e4(p3)\n",
    "\n",
    "        b1 = self.b1(p4)\n",
    "\n",
    "        d1 = self.d1(b1, s4)\n",
    "        d2 = self.d2(d1, s3)\n",
    "        d3 = self.d3(d2, s2)\n",
    "        d4 = self.d4(d3, s1)\n",
    "\n",
    "        output = self.output(d4)\n",
    "        return output\n",
    "\n"
   ]
  },
  {
   "cell_type": "code",
   "execution_count": null,
   "id": "50891b35",
   "metadata": {},
   "outputs": [],
   "source": [
    "# Training and Evaluation\n",
    "def train(model, loader, optimizer, loss_fn, device):\n",
    "    model.train()\n",
    "    total_loss = 0\n",
    "    for x, y, _ in tqdm(loader, desc=\"Training\", leave=False):\n",
    "        x, y = x.to(device), y.to(device)\n",
    "        optimizer.zero_grad()\n",
    "        y_pred = model(x)\n",
    "        loss = loss_fn(y_pred, y)\n",
    "        loss.backward()\n",
    "        optimizer.step()\n",
    "        total_loss += loss.item()\n",
    "    return total_loss / len(loader)\n",
    "\n",
    "def evaluate(model, loader, loss_fn, device):\n",
    "    model.eval()\n",
    "    total_loss = 0\n",
    "    with torch.no_grad():\n",
    "        for x, y, _ in tqdm(loader, desc=\"Validating\", leave=False):\n",
    "            x, y = x.to(device), y.to(device)\n",
    "            y_pred = model(x)\n",
    "            loss = loss_fn(y_pred, y)\n",
    "            total_loss += loss.item()\n",
    "    return total_loss / len(loader)\n",
    "\n",
    "def calculate_metrics(y_true, y_pred):\n",
    "    y_true = y_true.cpu().numpy() > 0.5\n",
    "    y_pred = torch.sigmoid(y_pred).cpu().numpy() > 0.5\n",
    "    y_true = y_true.astype(np.uint8).reshape(-1)\n",
    "    y_pred = y_pred.astype(np.uint8).reshape(-1)\n",
    "\n",
    "    return [\n",
    "        jaccard_score(y_true, y_pred, zero_division=0),\n",
    "        f1_score(y_true, y_pred, zero_division=0),\n",
    "        recall_score(y_true, y_pred, zero_division=0),\n",
    "        precision_score(y_true, y_pred, zero_division=0),\n",
    "        accuracy_score(y_true, y_pred)\n",
    "    ]\n",
    "\n",
    "def mask_parse(mask):\n",
    "    mask = np.expand_dims(mask, axis=-1)\n",
    "    return np.concatenate([mask]*3, axis=-1)"
   ]
  },
  {
   "cell_type": "code",
   "execution_count": 9,
   "id": "88bb673e",
   "metadata": {},
   "outputs": [],
   "source": [
    "seeding(42)\n",
    "MODEL_NAME = \"Green_AMultiRes_UNet_Tversky_Full\"\n",
    "MODEL_DIRECTORY = \"Green_Model_MultiRes_UNet_Tversky_Full\"\n",
    "create_directory(MODEL_DIRECTORY)\n",
    "RESULT_DIRECTORY = \"Green_Results_MultiRes_UNet_Tversky_Full\"\n",
    "create_directory(RESULT_DIRECTORY)"
   ]
  },
  {
   "cell_type": "code",
   "execution_count": null,
   "id": "752cce2b",
   "metadata": {},
   "outputs": [
    {
     "name": "stderr",
     "output_type": "stream",
     "text": [
      "/user/HS401/in00199/.local/lib/python3.11/site-packages/torch/optim/lr_scheduler.py:62: UserWarning: The verbose parameter is deprecated. Please use get_last_lr() to access the learning rate.\n",
      "  warnings.warn(\n"
     ]
    }
   ],
   "source": [
    "# Load full training data\n",
    "train_images = sorted(glob(\"./final_dataset/train/images/*\"))\n",
    "train_masks  = sorted(glob(\"./final_dataset/train/masks/*\"))\n",
    "full_train_dataset = RetinalDataset(train_images, train_masks)\n",
    "\n",
    "# Randomly select 70% of training data \n",
    "total_train_size = len(full_train_dataset)\n",
    "subset_size = int(0.7 * total_train_size)\n",
    "train_subset, _ = random_split(full_train_dataset, [subset_size, total_train_size - subset_size])\n",
    "\n",
    "#Load test data and split into validation and test (50/50) \n",
    "test_images = sorted(glob(\"./final_dataset/test/images/*\"))\n",
    "test_masks  = sorted(glob(\"./final_dataset/test/masks/*\"))\n",
    "full_test_dataset = RetinalDataset(test_images, test_masks)\n",
    "\n",
    "n_val = len(full_test_dataset) // 2\n",
    "n_test = len(full_test_dataset) - n_val\n",
    "valid_dataset, test_dataset = random_split(full_test_dataset, [n_val, n_test])\n",
    "\n",
    "#  Setup device, model, optimizer, scheduler, and loss \n",
    "device = torch.device('cuda' if torch.cuda.is_available() else 'cpu')\n",
    "model = UNet().to(device)\n",
    "optimizer = torch.optim.Adam(model.parameters(), lr=1e-4)\n",
    "scheduler = torch.optim.lr_scheduler.ReduceLROnPlateau(optimizer, 'min', patience=5, verbose=True)\n",
    "loss_fn = TverskyLoss()\n",
    "\n",
    "#  Data loaders\n",
    "train_loader = DataLoader(train_subset, batch_size=1, shuffle=True, num_workers=0)\n",
    "valid_loader = DataLoader(valid_dataset, batch_size=1, shuffle=False, num_workers=0)\n",
    "\n",
    "# Initialize best validation loss \n",
    "best_valid_loss = float(\"inf\")"
   ]
  },
  {
   "cell_type": "code",
   "execution_count": 11,
   "id": "d1812f38",
   "metadata": {},
   "outputs": [
    {
     "name": "stderr",
     "output_type": "stream",
     "text": [
      "                                                                      \r"
     ]
    },
    {
     "name": "stdout",
     "output_type": "stream",
     "text": [
      "Epoch 01 | Time: 7m 51s\n",
      "\tTrain Loss: 0.9511 | Valid Loss: 0.8949\n",
      "\tAccuracy: 0.9049 | F1: 0.1061 | Dice: 0.1301 | Recall: 0.5543 | Precision: 0.0737 | Jaccard: 0.0642\n",
      "Best Green_AMultiRes_UNet_Tversky_Full Saved\n"
     ]
    },
    {
     "name": "stderr",
     "output_type": "stream",
     "text": [
      "                                                                      \r"
     ]
    },
    {
     "name": "stdout",
     "output_type": "stream",
     "text": [
      "Epoch 02 | Time: 7m 46s\n",
      "\tTrain Loss: 0.7644 | Valid Loss: 0.7646\n",
      "\tAccuracy: 0.9939 | F1: 0.2400 | Dice: 0.3290 | Recall: 0.2753 | Precision: 0.4088 | Jaccard: 0.1533\n",
      "Best Green_AMultiRes_UNet_Tversky_Full Saved\n"
     ]
    },
    {
     "name": "stderr",
     "output_type": "stream",
     "text": [
      "                                                                      \r"
     ]
    },
    {
     "name": "stdout",
     "output_type": "stream",
     "text": [
      "Epoch 03 | Time: 7m 46s\n",
      "\tTrain Loss: 0.6474 | Valid Loss: 0.7586\n",
      "\tAccuracy: 0.9925 | F1: 0.2281 | Dice: 0.2988 | Recall: 0.3423 | Precision: 0.2651 | Jaccard: 0.1413\n",
      "Best Green_AMultiRes_UNet_Tversky_Full Saved\n"
     ]
    },
    {
     "name": "stderr",
     "output_type": "stream",
     "text": [
      "                                                                      \r"
     ]
    },
    {
     "name": "stdout",
     "output_type": "stream",
     "text": [
      "Epoch 04 | Time: 7m 46s\n",
      "\tTrain Loss: 0.6171 | Valid Loss: 0.7058\n",
      "\tAccuracy: 0.9943 | F1: 0.3084 | Dice: 0.3801 | Recall: 0.3063 | Precision: 0.5007 | Jaccard: 0.2040\n",
      "Best Green_AMultiRes_UNet_Tversky_Full Saved\n"
     ]
    },
    {
     "name": "stderr",
     "output_type": "stream",
     "text": [
      "                                                                      \r"
     ]
    },
    {
     "name": "stdout",
     "output_type": "stream",
     "text": [
      "Epoch 05 | Time: 7m 47s\n",
      "\tTrain Loss: 0.5952 | Valid Loss: 0.6822\n",
      "\tAccuracy: 0.9942 | F1: 0.3208 | Dice: 0.3945 | Recall: 0.3600 | Precision: 0.4362 | Jaccard: 0.2125\n",
      "Best Green_AMultiRes_UNet_Tversky_Full Saved\n"
     ]
    },
    {
     "name": "stderr",
     "output_type": "stream",
     "text": [
      "                                                                      \r"
     ]
    },
    {
     "name": "stdout",
     "output_type": "stream",
     "text": [
      "Epoch 06 | Time: 7m 46s\n",
      "\tTrain Loss: 0.5811 | Valid Loss: 0.7285\n",
      "\tAccuracy: 0.9946 | F1: 0.2943 | Dice: 0.3568 | Recall: 0.2637 | Precision: 0.5517 | Jaccard: 0.1974\n"
     ]
    },
    {
     "name": "stderr",
     "output_type": "stream",
     "text": [
      "                                                                      \r"
     ]
    },
    {
     "name": "stdout",
     "output_type": "stream",
     "text": [
      "Epoch 07 | Time: 7m 46s\n",
      "\tTrain Loss: 0.5647 | Valid Loss: 0.7071\n",
      "\tAccuracy: 0.9945 | F1: 0.3021 | Dice: 0.3750 | Recall: 0.3116 | Precision: 0.4707 | Jaccard: 0.1999\n"
     ]
    },
    {
     "name": "stderr",
     "output_type": "stream",
     "text": [
      "                                                                      \r"
     ]
    },
    {
     "name": "stdout",
     "output_type": "stream",
     "text": [
      "Epoch 08 | Time: 7m 46s\n",
      "\tTrain Loss: 0.5543 | Valid Loss: 0.6924\n",
      "\tAccuracy: 0.9943 | F1: 0.3130 | Dice: 0.3824 | Recall: 0.3427 | Precision: 0.4324 | Jaccard: 0.2095\n"
     ]
    },
    {
     "name": "stderr",
     "output_type": "stream",
     "text": [
      "                                                                      \r"
     ]
    },
    {
     "name": "stdout",
     "output_type": "stream",
     "text": [
      "Epoch 09 | Time: 7m 46s\n",
      "\tTrain Loss: 0.5380 | Valid Loss: 0.7255\n",
      "\tAccuracy: 0.9946 | F1: 0.2951 | Dice: 0.3510 | Recall: 0.2637 | Precision: 0.5245 | Jaccard: 0.1990\n"
     ]
    },
    {
     "name": "stderr",
     "output_type": "stream",
     "text": [
      "                                                                      \r"
     ]
    },
    {
     "name": "stdout",
     "output_type": "stream",
     "text": [
      "Epoch 10 | Time: 7m 46s\n",
      "\tTrain Loss: 0.5306 | Valid Loss: 0.7227\n",
      "\tAccuracy: 0.9930 | F1: 0.2894 | Dice: 0.3719 | Recall: 0.3047 | Precision: 0.4771 | Jaccard: 0.1907\n"
     ]
    },
    {
     "name": "stderr",
     "output_type": "stream",
     "text": [
      "                                                                      \r"
     ]
    },
    {
     "name": "stdout",
     "output_type": "stream",
     "text": [
      "Epoch 11 | Time: 7m 45s\n",
      "\tTrain Loss: 0.5264 | Valid Loss: 0.6942\n",
      "\tAccuracy: 0.9945 | F1: 0.3203 | Dice: 0.3805 | Recall: 0.3096 | Precision: 0.4934 | Jaccard: 0.2163\n"
     ]
    },
    {
     "name": "stderr",
     "output_type": "stream",
     "text": [
      "                                                                      \r"
     ]
    },
    {
     "name": "stdout",
     "output_type": "stream",
     "text": [
      "Epoch 12 | Time: 7m 47s\n",
      "\tTrain Loss: 0.4958 | Valid Loss: 0.7079\n",
      "\tAccuracy: 0.9943 | F1: 0.3108 | Dice: 0.3716 | Recall: 0.2874 | Precision: 0.5257 | Jaccard: 0.2129\n"
     ]
    },
    {
     "name": "stderr",
     "output_type": "stream",
     "text": [
      "                                                                      \r"
     ]
    },
    {
     "name": "stdout",
     "output_type": "stream",
     "text": [
      "Epoch 13 | Time: 7m 48s\n",
      "\tTrain Loss: 0.4872 | Valid Loss: 0.6868\n",
      "\tAccuracy: 0.9947 | F1: 0.3328 | Dice: 0.3875 | Recall: 0.3059 | Precision: 0.5284 | Jaccard: 0.2274\n"
     ]
    },
    {
     "name": "stderr",
     "output_type": "stream",
     "text": [
      "                                                                      \r"
     ]
    },
    {
     "name": "stdout",
     "output_type": "stream",
     "text": [
      "Epoch 14 | Time: 7m 47s\n",
      "\tTrain Loss: 0.4822 | Valid Loss: 0.7065\n",
      "\tAccuracy: 0.9945 | F1: 0.3125 | Dice: 0.3719 | Recall: 0.2880 | Precision: 0.5249 | Jaccard: 0.2134\n"
     ]
    },
    {
     "name": "stderr",
     "output_type": "stream",
     "text": [
      "                                                                      \r"
     ]
    },
    {
     "name": "stdout",
     "output_type": "stream",
     "text": [
      "Epoch 15 | Time: 7m 45s\n",
      "\tTrain Loss: 0.4776 | Valid Loss: 0.6865\n",
      "\tAccuracy: 0.9922 | F1: 0.3287 | Dice: 0.3856 | Recall: 0.3228 | Precision: 0.4786 | Jaccard: 0.2260\n"
     ]
    },
    {
     "name": "stderr",
     "output_type": "stream",
     "text": [
      "                                                                      \r"
     ]
    },
    {
     "name": "stdout",
     "output_type": "stream",
     "text": [
      "Epoch 16 | Time: 7m 45s\n",
      "\tTrain Loss: 0.4738 | Valid Loss: 0.7127\n",
      "\tAccuracy: 0.9941 | F1: 0.3088 | Dice: 0.3684 | Recall: 0.2802 | Precision: 0.5377 | Jaccard: 0.2124\n"
     ]
    },
    {
     "name": "stderr",
     "output_type": "stream",
     "text": [
      "                                                                      \r"
     ]
    },
    {
     "name": "stdout",
     "output_type": "stream",
     "text": [
      "Epoch 17 | Time: 7m 45s\n",
      "\tTrain Loss: 0.4710 | Valid Loss: 0.6823\n",
      "\tAccuracy: 0.9917 | F1: 0.3301 | Dice: 0.3917 | Recall: 0.3322 | Precision: 0.4772 | Jaccard: 0.2253\n"
     ]
    },
    {
     "name": "stderr",
     "output_type": "stream",
     "text": [
      "                                                                      \r"
     ]
    },
    {
     "name": "stdout",
     "output_type": "stream",
     "text": [
      "Epoch 18 | Time: 7m 46s\n",
      "\tTrain Loss: 0.4663 | Valid Loss: 0.7037\n",
      "\tAccuracy: 0.9944 | F1: 0.3181 | Dice: 0.3768 | Recall: 0.2873 | Precision: 0.5474 | Jaccard: 0.2183\n"
     ]
    },
    {
     "name": "stderr",
     "output_type": "stream",
     "text": [
      "                                                                      \r"
     ]
    },
    {
     "name": "stdout",
     "output_type": "stream",
     "text": [
      "Epoch 19 | Time: 7m 45s\n",
      "\tTrain Loss: 0.4653 | Valid Loss: 0.6916\n",
      "\tAccuracy: 0.9909 | F1: 0.3251 | Dice: 0.3864 | Recall: 0.3152 | Precision: 0.4991 | Jaccard: 0.2237\n"
     ]
    },
    {
     "name": "stderr",
     "output_type": "stream",
     "text": [
      "                                                                      \r"
     ]
    },
    {
     "name": "stdout",
     "output_type": "stream",
     "text": [
      "Epoch 20 | Time: 7m 45s\n",
      "\tTrain Loss: 0.4646 | Valid Loss: 0.6927\n",
      "\tAccuracy: 0.9938 | F1: 0.3260 | Dice: 0.3836 | Recall: 0.3067 | Precision: 0.5117 | Jaccard: 0.2237\n"
     ]
    },
    {
     "name": "stderr",
     "output_type": "stream",
     "text": [
      "                                                                      \r"
     ]
    },
    {
     "name": "stdout",
     "output_type": "stream",
     "text": [
      "Epoch 21 | Time: 7m 45s\n",
      "\tTrain Loss: 0.4640 | Valid Loss: 0.7010\n",
      "\tAccuracy: 0.9934 | F1: 0.3195 | Dice: 0.3786 | Recall: 0.2972 | Precision: 0.5212 | Jaccard: 0.2174\n"
     ]
    },
    {
     "name": "stderr",
     "output_type": "stream",
     "text": [
      "                                                                      \r"
     ]
    },
    {
     "name": "stdout",
     "output_type": "stream",
     "text": [
      "Epoch 22 | Time: 7m 48s\n",
      "\tTrain Loss: 0.4635 | Valid Loss: 0.6973\n",
      "\tAccuracy: 0.9907 | F1: 0.3206 | Dice: 0.3801 | Recall: 0.3065 | Precision: 0.5001 | Jaccard: 0.2210\n"
     ]
    },
    {
     "name": "stderr",
     "output_type": "stream",
     "text": [
      "                                                                      \r"
     ]
    },
    {
     "name": "stdout",
     "output_type": "stream",
     "text": [
      "Epoch 23 | Time: 7m 46s\n",
      "\tTrain Loss: 0.4629 | Valid Loss: 0.7122\n",
      "\tAccuracy: 0.9944 | F1: 0.3086 | Dice: 0.3675 | Recall: 0.2785 | Precision: 0.5401 | Jaccard: 0.2115\n"
     ]
    },
    {
     "name": "stderr",
     "output_type": "stream",
     "text": [
      "                                                                      \r"
     ]
    },
    {
     "name": "stdout",
     "output_type": "stream",
     "text": [
      "Epoch 24 | Time: 7m 45s\n",
      "\tTrain Loss: 0.4623 | Valid Loss: 0.7163\n",
      "\tAccuracy: 0.9943 | F1: 0.3050 | Dice: 0.3627 | Recall: 0.2752 | Precision: 0.5317 | Jaccard: 0.2080\n"
     ]
    },
    {
     "name": "stderr",
     "output_type": "stream",
     "text": [
      "                                                                      \r"
     ]
    },
    {
     "name": "stdout",
     "output_type": "stream",
     "text": [
      "Epoch 25 | Time: 7m 47s\n",
      "\tTrain Loss: 0.4622 | Valid Loss: 0.6849\n",
      "\tAccuracy: 0.9901 | F1: 0.3315 | Dice: 0.3930 | Recall: 0.3242 | Precision: 0.4988 | Jaccard: 0.2265\n"
     ]
    },
    {
     "name": "stderr",
     "output_type": "stream",
     "text": [
      "                                                                      \r"
     ]
    },
    {
     "name": "stdout",
     "output_type": "stream",
     "text": [
      "Epoch 26 | Time: 7m 45s\n",
      "\tTrain Loss: 0.4621 | Valid Loss: 0.7146\n",
      "\tAccuracy: 0.9919 | F1: 0.3063 | Dice: 0.3712 | Recall: 0.2827 | Precision: 0.5404 | Jaccard: 0.2101\n"
     ]
    },
    {
     "name": "stderr",
     "output_type": "stream",
     "text": [
      "                                                                      \r"
     ]
    },
    {
     "name": "stdout",
     "output_type": "stream",
     "text": [
      "Epoch 27 | Time: 7m 45s\n",
      "\tTrain Loss: 0.4621 | Valid Loss: 0.7256\n",
      "\tAccuracy: 0.9920 | F1: 0.2938 | Dice: 0.3588 | Recall: 0.2757 | Precision: 0.5133 | Jaccard: 0.1987\n"
     ]
    },
    {
     "name": "stderr",
     "output_type": "stream",
     "text": [
      "                                                                      \r"
     ]
    },
    {
     "name": "stdout",
     "output_type": "stream",
     "text": [
      "Epoch 28 | Time: 7m 46s\n",
      "\tTrain Loss: 0.4620 | Valid Loss: 0.6898\n",
      "\tAccuracy: 0.9897 | F1: 0.3280 | Dice: 0.3883 | Recall: 0.3153 | Precision: 0.5054 | Jaccard: 0.2247\n"
     ]
    },
    {
     "name": "stderr",
     "output_type": "stream",
     "text": [
      "                                                                      \r"
     ]
    },
    {
     "name": "stdout",
     "output_type": "stream",
     "text": [
      "Epoch 29 | Time: 7m 46s\n",
      "\tTrain Loss: 0.4619 | Valid Loss: 0.6857\n",
      "\tAccuracy: 0.9900 | F1: 0.3299 | Dice: 0.3904 | Recall: 0.3245 | Precision: 0.4900 | Jaccard: 0.2248\n"
     ]
    },
    {
     "name": "stderr",
     "output_type": "stream",
     "text": [
      "                                                                      \r"
     ]
    },
    {
     "name": "stdout",
     "output_type": "stream",
     "text": [
      "Epoch 30 | Time: 7m 46s\n",
      "\tTrain Loss: 0.4619 | Valid Loss: 0.6904\n",
      "\tAccuracy: 0.9897 | F1: 0.3259 | Dice: 0.3842 | Recall: 0.3180 | Precision: 0.4853 | Jaccard: 0.2242\n"
     ]
    },
    {
     "name": "stderr",
     "output_type": "stream",
     "text": [
      "                                                                      \r"
     ]
    },
    {
     "name": "stdout",
     "output_type": "stream",
     "text": [
      "Epoch 31 | Time: 7m 46s\n",
      "\tTrain Loss: 0.4619 | Valid Loss: 0.7046\n",
      "\tAccuracy: 0.9946 | F1: 0.3181 | Dice: 0.3715 | Recall: 0.2813 | Precision: 0.5467 | Jaccard: 0.2173\n"
     ]
    },
    {
     "name": "stderr",
     "output_type": "stream",
     "text": [
      "                                                                      \r"
     ]
    },
    {
     "name": "stdout",
     "output_type": "stream",
     "text": [
      "Epoch 32 | Time: 7m 46s\n",
      "\tTrain Loss: 0.4619 | Valid Loss: 0.6886\n",
      "\tAccuracy: 0.9924 | F1: 0.3306 | Dice: 0.3902 | Recall: 0.3134 | Precision: 0.5170 | Jaccard: 0.2268\n"
     ]
    },
    {
     "name": "stderr",
     "output_type": "stream",
     "text": [
      "                                                                      \r"
     ]
    },
    {
     "name": "stdout",
     "output_type": "stream",
     "text": [
      "Epoch 33 | Time: 7m 45s\n",
      "\tTrain Loss: 0.4619 | Valid Loss: 0.6950\n",
      "\tAccuracy: 0.9922 | F1: 0.3238 | Dice: 0.3854 | Recall: 0.3068 | Precision: 0.5182 | Jaccard: 0.2205\n"
     ]
    },
    {
     "name": "stderr",
     "output_type": "stream",
     "text": [
      "                                                                      \r"
     ]
    },
    {
     "name": "stdout",
     "output_type": "stream",
     "text": [
      "Epoch 34 | Time: 7m 46s\n",
      "\tTrain Loss: 0.4618 | Valid Loss: 0.7029\n",
      "\tAccuracy: 0.9909 | F1: 0.3164 | Dice: 0.3822 | Recall: 0.3022 | Precision: 0.5198 | Jaccard: 0.2152\n"
     ]
    },
    {
     "name": "stderr",
     "output_type": "stream",
     "text": [
      "                                                                      \r"
     ]
    },
    {
     "name": "stdout",
     "output_type": "stream",
     "text": [
      "Epoch 35 | Time: 7m 46s\n",
      "\tTrain Loss: 0.4618 | Valid Loss: 0.6972\n",
      "\tAccuracy: 0.9924 | F1: 0.3228 | Dice: 0.3833 | Recall: 0.3027 | Precision: 0.5225 | Jaccard: 0.2216\n"
     ]
    },
    {
     "name": "stderr",
     "output_type": "stream",
     "text": [
      "                                                                      \r"
     ]
    },
    {
     "name": "stdout",
     "output_type": "stream",
     "text": [
      "Epoch 36 | Time: 7m 46s\n",
      "\tTrain Loss: 0.4618 | Valid Loss: 0.6888\n",
      "\tAccuracy: 0.9903 | F1: 0.3282 | Dice: 0.3895 | Recall: 0.3185 | Precision: 0.5013 | Jaccard: 0.2245\n"
     ]
    },
    {
     "name": "stderr",
     "output_type": "stream",
     "text": [
      "                                                                      \r"
     ]
    },
    {
     "name": "stdout",
     "output_type": "stream",
     "text": [
      "Epoch 37 | Time: 7m 48s\n",
      "\tTrain Loss: 0.4618 | Valid Loss: 0.7049\n",
      "\tAccuracy: 0.9922 | F1: 0.3174 | Dice: 0.3773 | Recall: 0.2903 | Precision: 0.5390 | Jaccard: 0.2180\n"
     ]
    },
    {
     "name": "stderr",
     "output_type": "stream",
     "text": [
      "                                                                      \r"
     ]
    },
    {
     "name": "stdout",
     "output_type": "stream",
     "text": [
      "Epoch 38 | Time: 7m 46s\n",
      "\tTrain Loss: 0.4618 | Valid Loss: 0.6971\n",
      "\tAccuracy: 0.9926 | F1: 0.3240 | Dice: 0.3845 | Recall: 0.3020 | Precision: 0.5291 | Jaccard: 0.2224\n"
     ]
    },
    {
     "name": "stderr",
     "output_type": "stream",
     "text": [
      "                                                                      \r"
     ]
    },
    {
     "name": "stdout",
     "output_type": "stream",
     "text": [
      "Epoch 39 | Time: 7m 45s\n",
      "\tTrain Loss: 0.4618 | Valid Loss: 0.6910\n",
      "\tAccuracy: 0.9922 | F1: 0.3279 | Dice: 0.3882 | Recall: 0.3122 | Precision: 0.5131 | Jaccard: 0.2244\n"
     ]
    },
    {
     "name": "stderr",
     "output_type": "stream",
     "text": [
      "                                                                      "
     ]
    },
    {
     "name": "stdout",
     "output_type": "stream",
     "text": [
      "Epoch 40 | Time: 7m 45s\n",
      "\tTrain Loss: 0.4618 | Valid Loss: 0.6934\n",
      "\tAccuracy: 0.9916 | F1: 0.3253 | Dice: 0.3851 | Recall: 0.3090 | Precision: 0.5111 | Jaccard: 0.2234\n"
     ]
    },
    {
     "name": "stderr",
     "output_type": "stream",
     "text": [
      "\r"
     ]
    }
   ],
   "source": [
    "for epoch in range(40):\n",
    "    start = time.time()\n",
    "    train_loss = train(model, train_loader, optimizer, loss_fn, device)\n",
    "    valid_loss = evaluate(model, valid_loader, loss_fn, device)\n",
    "    scheduler.step(valid_loss)\n",
    "\n",
    "    model.eval()\n",
    "    valid_metrics = [0.0] * 5\n",
    "    with torch.no_grad():\n",
    "        for x_val, y_val, _ in tqdm(valid_loader, desc=\"Calculating Metrics\", leave=False):\n",
    "            x_val, y_val = x_val.to(device), y_val.to(device)\n",
    "            y_pred = model(x_val)\n",
    "            valid_metrics = list(map(add, valid_metrics, calculate_metrics(y_val, y_pred)))\n",
    "\n",
    "    metrics_avg = [m / len(valid_loader) for m in valid_metrics]\n",
    "    jaccard, f1, recall, precision, accuracy = metrics_avg\n",
    "    dice = (2 * precision * recall) / (precision + recall + 1e-7)\n",
    "\n",
    "    mins, secs = epoch_time(start, time.time())\n",
    "    print(f\"Epoch {epoch+1:02} | Time: {mins}m {secs}s\")\n",
    "    print(f\"\\tTrain Loss: {train_loss:.4f} | Valid Loss: {valid_loss:.4f}\")\n",
    "    print(f\"\\tAccuracy: {accuracy:.4f} | F1: {f1:.4f} | Dice: {dice:.4f} | Recall: {recall:.4f} | Precision: {precision:.4f} | Jaccard: {jaccard:.4f}\")\n",
    "    \n",
    "    if valid_loss < best_valid_loss:\n",
    "        best_valid_loss = valid_loss  \n",
    "        torch.save(model.state_dict(), f\"{MODEL_DIRECTORY}/{MODEL_NAME}.pth\")\n",
    "        print(f\"Best {MODEL_NAME} Saved\")"
   ]
  },
  {
   "cell_type": "code",
   "execution_count": 12,
   "id": "66af66c0",
   "metadata": {},
   "outputs": [
    {
     "name": "stderr",
     "output_type": "stream",
     "text": [
      "/tmp/ipykernel_854159/1207855148.py:2: FutureWarning: You are using `torch.load` with `weights_only=False` (the current default value), which uses the default pickle module implicitly. It is possible to construct malicious pickle data which will execute arbitrary code during unpickling (See https://github.com/pytorch/pytorch/blob/main/SECURITY.md#untrusted-models for more details). In a future release, the default value for `weights_only` will be flipped to `True`. This limits the functions that could be executed during unpickling. Arbitrary objects will no longer be allowed to be loaded via this mode unless they are explicitly allowlisted by the user via `torch.serialization.add_safe_globals`. We recommend you start setting `weights_only=True` for any use case where you don't have full control of the loaded file. Please open an issue on GitHub for any issues related to this experimental feature.\n",
      "  model.load_state_dict(torch.load(f\"{MODEL_DIRECTORY}/{MODEL_NAME}.pth\", map_location=device))\n",
      "Testing: 100%|██████████| 113/113 [00:21<00:00,  5.30it/s]"
     ]
    },
    {
     "name": "stdout",
     "output_type": "stream",
     "text": [
      "Jaccard: 0.2286, F1: 0.3406, Recall: 0.4037, Precision: 0.4456, Accuracy: 0.9910\n",
      "FPS: 359.92493431144726\n"
     ]
    },
    {
     "name": "stderr",
     "output_type": "stream",
     "text": [
      "\n"
     ]
    }
   ],
   "source": [
    "# Load the best model\n",
    "model.load_state_dict(torch.load(f\"{MODEL_DIRECTORY}/{MODEL_NAME}.pth\", map_location=device))\n",
    "model.eval()\n",
    "\n",
    "# Evaluate on the held-out half of the test set\n",
    "test_loader = DataLoader(test_dataset, batch_size=1, shuffle=False, num_workers=0)\n",
    "metrics_score = [0.0] * 5\n",
    "time_taken = []\n",
    "\n",
    "for x, y, fname in tqdm(test_loader, desc=\"Testing\", total=len(test_loader)):\n",
    "    with torch.no_grad():\n",
    "        x, y = x.to(device), y.to(device)\n",
    "        start = time.time()\n",
    "        pred_y = model(x)\n",
    "        time_taken.append(time.time() - start)\n",
    "        metrics_score = list(map(add, metrics_score, calculate_metrics(y, pred_y)))\n",
    "\n",
    "    # Use green-channel image directly (grayscale)\n",
    "    green_img = (x.cpu().numpy()[0, 0] * 255).astype(np.uint8)  # Shape: [H, W]\n",
    "\n",
    "    # Process ground truth and prediction\n",
    "    mask = (y.cpu().numpy()[0, 0] * 255).astype(np.uint8)\n",
    "    pred = (torch.sigmoid(pred_y).cpu().numpy()[0, 0] > 0.5).astype(np.uint8) * 255\n",
    "\n",
    "    # Convert masks to RGB overlays\n",
    "    mask_img = mask_parse(mask)\n",
    "    pred_img = mask_parse(pred)\n",
    "\n",
    "    # Resize masks to match green image if needed\n",
    "    h, w = green_img.shape\n",
    "    mask_img = cv2.resize(mask_img, (w, h))\n",
    "    pred_img = cv2.resize(pred_img, (w, h))\n",
    "\n",
    "    # Create vertical separator\n",
    "    line = np.ones((h, 10, 3), dtype=np.uint8) * 128\n",
    "\n",
    "    # Convert green image to 3-channel grayscale for compatibility\n",
    "    green_rgb = np.stack([green_img]*3, axis=-1)\n",
    "\n",
    "    # Concatenate images: green | line | mask | line | prediction\n",
    "    result_uint8 = np.concatenate([green_rgb, line, mask_img, line, pred_img], axis=1)\n",
    "\n",
    "    # Safe filename\n",
    "    if isinstance(fname, (list, tuple)):\n",
    "        fname = fname[0]\n",
    "    save_name = os.path.splitext(fname)[0] + \".png\"\n",
    "\n",
    "    # Save image\n",
    "    plt.imsave(f\"{RESULT_DIRECTORY}/{save_name}\", result_uint8)\n",
    "\n",
    "# Final metrics\n",
    "j, f1, r, p, a = [m / len(test_loader) for m in metrics_score]\n",
    "print(f\"Jaccard: {j:.4f}, F1: {f1:.4f}, Recall: {r:.4f}, Precision: {p:.4f}, Accuracy: {a:.4f}\")\n",
    "print(\"FPS:\", 1 / np.mean(time_taken))\n"
   ]
  }
 ],
 "metadata": {
  "kernelspec": {
   "display_name": "base",
   "language": "python",
   "name": "python3"
  },
  "language_info": {
   "codemirror_mode": {
    "name": "ipython",
    "version": 3
   },
   "file_extension": ".py",
   "mimetype": "text/x-python",
   "name": "python",
   "nbconvert_exporter": "python",
   "pygments_lexer": "ipython3",
   "version": "3.11.7"
  }
 },
 "nbformat": 4,
 "nbformat_minor": 5
}
