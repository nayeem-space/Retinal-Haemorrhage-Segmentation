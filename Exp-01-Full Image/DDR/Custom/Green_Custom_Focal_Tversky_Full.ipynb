{
 "cells": [
  {
   "cell_type": "code",
   "execution_count": 1,
   "id": "0e8d7f51",
   "metadata": {},
   "outputs": [],
   "source": [
    "import os\n",
    "import cv2\n",
    "import time\n",
    "import random\n",
    "import numpy as np\n",
    "import matplotlib.pyplot as plt\n",
    "from glob import glob\n",
    "from operator import add\n",
    "from tqdm import tqdm\n",
    "\n",
    "import torch\n",
    "import torch.nn as nn\n",
    "import torch.nn.functional as F\n",
    "from torch.utils.data import Dataset, DataLoader, random_split, Subset\n",
    "from sklearn.metrics import accuracy_score, f1_score, jaccard_score, precision_score, recall_score"
   ]
  },
  {
   "cell_type": "code",
   "execution_count": null,
   "id": "5cdbaaf4",
   "metadata": {},
   "outputs": [],
   "source": [
    "#  Utility Functions \n",
    "def seeding(seed):\n",
    "    random.seed(seed)\n",
    "    os.environ[\"PYTHONHASHSEED\"] = str(seed)\n",
    "    np.random.seed(seed)\n",
    "    torch.manual_seed(seed)\n",
    "    torch.cuda.manual_seed(seed)\n",
    "    torch.backends.cudnn.deterministic = True\n",
    "\n",
    "def create_directory(path):\n",
    "    if not os.path.exists(path):\n",
    "        os.makedirs(path)\n",
    "\n",
    "def epoch_time(start_time, end_time):\n",
    "    elapsed_time = end_time - start_time\n",
    "    elapsed_mins = int(elapsed_time / 60)\n",
    "    elapsed_secs = int(elapsed_time - (elapsed_mins * 60))\n",
    "    return elapsed_mins, elapsed_secs"
   ]
  },
  {
   "cell_type": "code",
   "execution_count": null,
   "id": "1e7eb778",
   "metadata": {},
   "outputs": [],
   "source": [
    "#  Dataset \n",
    "class RetinalDataset(Dataset):\n",
    "    def __init__(self, images_path, masks_path):\n",
    "        self.images_path = images_path\n",
    "        self.masks_path = masks_path\n",
    "        self.n_samples = len(images_path)\n",
    "\n",
    "    def __getitem__(self, index):\n",
    "        img_path = self.images_path[index]\n",
    "        mask_path = self.masks_path[index]\n",
    "\n",
    "        # Load image in BGR format\n",
    "        image = cv2.imread(img_path, cv2.IMREAD_COLOR)\n",
    "\n",
    "        # Extract only the green channel\n",
    "        green = image[:, :, 1]  # Index 1 = green channel in BGR\n",
    "\n",
    "        # Normalize and convert to tensor\n",
    "        green = green / 255.0\n",
    "        green = np.expand_dims(green, axis=0).astype(np.float32)  # Shape: [1, H, W]\n",
    "        image = torch.from_numpy(green)\n",
    "\n",
    "        # Load and process the mask\n",
    "        mask = cv2.imread(mask_path, cv2.IMREAD_GRAYSCALE)\n",
    "        mask = mask / 255.0\n",
    "        mask = np.expand_dims(mask, axis=0).astype(np.float32)\n",
    "        mask = torch.from_numpy(mask)\n",
    "\n",
    "        # Get the filename\n",
    "        filename = os.path.basename(img_path)\n",
    "\n",
    "        return image, mask, filename\n",
    "    def __len__(self):\n",
    "            return self.n_samples\n"
   ]
  },
  {
   "cell_type": "code",
   "execution_count": 4,
   "id": "acbded60",
   "metadata": {},
   "outputs": [],
   "source": [
    "class Focal_Tversky(nn.Module):\n",
    "    def __init__(self, alpha=0.3, beta=0.7, gamma=1.5, smooth=1e-6):\n",
    "        super().__init__()\n",
    "        self.alpha = alpha\n",
    "        self.beta  = beta\n",
    "        self.gamma = gamma\n",
    "        self.smooth = smooth\n",
    "\n",
    "    def forward(self, logits, targets):\n",
    "    \n",
    "        probs = torch.sigmoid(logits)\n",
    "        N = targets.size(0)\n",
    "\n",
    "        probs  = probs.view(N, -1)\n",
    "        targets = targets.view(N, -1)\n",
    "\n",
    "        TP = (probs * targets).sum(dim=1)\n",
    "        FP = (probs * (1 - targets)).sum(dim=1)\n",
    "        FN = ((1 - probs) * targets).sum(dim=1)\n",
    "\n",
    "        smooth = torch.tensor(self.smooth, device=probs.device, dtype=probs.dtype)\n",
    "        tversky = (TP + smooth) / (TP + self.alpha * FP + self.beta * FN + smooth)\n",
    "\n",
    "        loss = (1 - tversky) ** self.gamma\n",
    "\n",
    "        return loss.mean()\n"
   ]
  },
  {
   "cell_type": "code",
   "execution_count": null,
   "id": "6698c92a",
   "metadata": {},
   "outputs": [],
   "source": [
    "\n",
    "#  DoubleConv and TripleConv\n",
    "\n",
    "class TripleConv(nn.Module):\n",
    "    \"\"\"Conv -> BN -> ReLU repeated 3 times.\"\"\"\n",
    "    def __init__(self, in_c, mid1_c, mid2_c, out_c):\n",
    "        super().__init__()\n",
    "        self.conv1 = nn.Conv2d(in_c, mid1_c, 3, padding=1)\n",
    "        self.bn1   = nn.BatchNorm2d(mid1_c)\n",
    "        self.conv2 = nn.Conv2d(mid1_c, mid2_c, 3, padding=1)\n",
    "        self.bn2   = nn.BatchNorm2d(mid2_c)\n",
    "        self.conv3 = nn.Conv2d(mid2_c, out_c, 3, padding=1)\n",
    "        self.bn3   = nn.BatchNorm2d(out_c)\n",
    "        self.relu  = nn.ReLU(inplace=True)\n",
    "\n",
    "    def forward(self, x):\n",
    "        x = self.relu(self.bn1(self.conv1(x)))\n",
    "        x = self.relu(self.bn2(self.conv2(x)))\n",
    "        x = self.relu(self.bn3(self.conv3(x)))\n",
    "        return x\n",
    "\n",
    "class DoubleConv(nn.Module):\n",
    "    \"\"\"Conv -> BN -> ReLU repeated 2 times.\"\"\"\n",
    "    def __init__(self, in_c, mid_c, out_c):\n",
    "        super().__init__()\n",
    "        self.conv1 = nn.Conv2d(in_c, mid_c, 3, padding=1)\n",
    "        self.bn1   = nn.BatchNorm2d(mid_c)\n",
    "        self.conv2 = nn.Conv2d(mid_c, out_c, 3, padding=1)\n",
    "        self.bn2   = nn.BatchNorm2d(out_c)\n",
    "        self.relu  = nn.ReLU(inplace=True)\n",
    "\n",
    "    def forward(self, x):\n",
    "        x = self.relu(self.bn1(self.conv1(x)))\n",
    "        x = self.relu(self.bn2(self.conv2(x)))\n",
    "        return x\n",
    "\n",
    "\n",
    "#  UNetRetina (with additional subsampling and concatenation)\n",
    "\n",
    "class UNet(nn.Module):\n",
    "    def __init__(self):\n",
    "        super().__init__()\n",
    "        \n",
    "        #  ENCODER \n",
    "        # Block 1: 3 conv -> (32, 32, 64)\n",
    "        self.down1 = TripleConv(\n",
    "            in_c=1,       # green channel only\n",
    "            mid1_c=32,\n",
    "            mid2_c=32,\n",
    "            out_c=64\n",
    "        )\n",
    "        # Block 2: 3 conv -> (64, 64, 128)\n",
    "        self.down2 = TripleConv(\n",
    "            in_c=64,\n",
    "            mid1_c=64,\n",
    "            mid2_c=64,\n",
    "            out_c=128\n",
    "        )\n",
    "        # Block 3: 2 conv -> (128, 128, 256)\n",
    "        self.down3 = DoubleConv(\n",
    "            in_c=128,\n",
    "            mid_c=128,\n",
    "            out_c=256\n",
    "        )\n",
    "        # Block 4: 2 conv -> (256, 256, 256)\n",
    "        self.down4 = DoubleConv(\n",
    "            in_c=256,\n",
    "            mid_c=256,\n",
    "            out_c=256\n",
    "        )\n",
    "        \n",
    "        self.pool = nn.MaxPool2d(2, 2)\n",
    "        \n",
    "        # BOTTLENECK \n",
    "        # Bottleneck: 2 conv -> (256 -> 512 -> 256)\n",
    "        self.bottleneck = DoubleConv(\n",
    "            in_c=256,\n",
    "            mid_c=512,\n",
    "            out_c=256\n",
    "        )\n",
    "        \n",
    "        #  DECODER \n",
    "        # Each decoder block: upsample, concat skip connection, then decode.\n",
    "        self.up4  = nn.Upsample(scale_factor=2, mode='bilinear', align_corners=True)\n",
    "        self.dec4 = DoubleConv(in_c=256+256, mid_c=256, out_c=256)\n",
    "        \n",
    "        self.up3  = nn.Upsample(scale_factor=2, mode='bilinear', align_corners=True)\n",
    "        self.dec3 = DoubleConv(in_c=256+256, mid_c=128, out_c=128)\n",
    "        \n",
    "        self.up2  = nn.Upsample(scale_factor=2, mode='bilinear', align_corners=True)\n",
    "        self.dec2 = TripleConv(in_c=128+128, mid1_c=64, mid2_c=64, out_c=64)\n",
    "        \n",
    "        self.up1  = nn.Upsample(scale_factor=2, mode='bilinear', align_corners=True)\n",
    "        self.dec1 = TripleConv(in_c=64+64, mid1_c=32, mid2_c=32, out_c=32)\n",
    "        \n",
    "        #  ADDITIONAL SUBSAMPLING & CONCATENATION \n",
    "        self.final_pool = nn.MaxPool2d(2, 2)  # Additional subsampling step\n",
    "        self.final_upsample = nn.Upsample(scale_factor=2, mode='bilinear', align_corners=True)\n",
    "        # After concatenation: 32 channels (from decoder) + 1 channel (from input) = 33 channels\n",
    "        self.out_conv = nn.Conv2d(33, 1, kernel_size=1)\n",
    "        \n",
    "\n",
    "    def forward(self, x):\n",
    "        # Encoder \n",
    "        input_image = x\n",
    "        \n",
    "        # Block 1\n",
    "        x1 = self.down1(x)    # -> 64 channels\n",
    "        x1p = self.pool(x1)   # subsampled\n",
    "        \n",
    "        # Block 2\n",
    "        x2 = self.down2(x1p)  # -> 128 channels\n",
    "        x2p = self.pool(x2)   # subsampled\n",
    "        \n",
    "        # Block 3\n",
    "        x3 = self.down3(x2p)  # -> 256 channels\n",
    "        x3p = self.pool(x3)   # subsampled\n",
    "        \n",
    "        # Block 4\n",
    "        x4 = self.down4(x3p)  # -> 256 channels\n",
    "        x4p = self.pool(x4)   # subsampled\n",
    "        \n",
    "        # Bottleneck \n",
    "        xb = self.bottleneck(x4p)  # 256 -> 512 -> 256\n",
    "        \n",
    "        #  Decoder \n",
    "        xd4 = self.up4(xb)               \n",
    "        xd4 = torch.cat([x4, xd4], dim=1)  \n",
    "        xd4 = self.dec4(xd4)             \n",
    "        \n",
    "        xd3 = self.up3(xd4)              \n",
    "        xd3 = torch.cat([x3, xd3], dim=1) \n",
    "        xd3 = self.dec3(xd3)             \n",
    "        \n",
    "        xd2 = self.up2(xd3)              \n",
    "        xd2 = torch.cat([x2, xd2], dim=1) \n",
    "        xd2 = self.dec2(xd2)             \n",
    "        \n",
    "        xd1 = self.up1(xd2)              \n",
    "        xd1 = torch.cat([x1, xd1], dim=1) \n",
    "        xd1 = self.dec1(xd1)             \n",
    "        \n",
    "        #  Additional Subsampling & Concatenation \n",
    "        xd1_sub = self.final_pool(xd1)          # [B,32,H/2,W/2]\n",
    "        input_sub = self.final_pool(input_image) # [B,1,H/2,W/2]\n",
    "        final_cat = torch.cat([xd1_sub, input_sub], dim=1)  # [B,33,H/2,W/2]\n",
    "        final_up = self.final_upsample(final_cat)  #  [B,33,H,W]\n",
    "        \n",
    "        out = self.out_conv(final_up)  # [B,1,H,W]\n",
    "        \n",
    "        return out\n"
   ]
  },
  {
   "cell_type": "code",
   "execution_count": null,
   "id": "50891b35",
   "metadata": {},
   "outputs": [],
   "source": [
    "# Training and Evaluation \n",
    "def train(model, loader, optimizer, loss_fn, device):\n",
    "    model.train()\n",
    "    total_loss = 0\n",
    "    for x, y, _ in tqdm(loader, desc=\"Training\", leave=False):\n",
    "        x, y = x.to(device), y.to(device)\n",
    "        optimizer.zero_grad()\n",
    "        y_pred = model(x)\n",
    "        loss = loss_fn(y_pred, y)\n",
    "        loss.backward()\n",
    "        optimizer.step()\n",
    "        total_loss += loss.item()\n",
    "    return total_loss / len(loader)\n",
    "\n",
    "def evaluate(model, loader, loss_fn, device):\n",
    "    model.eval()\n",
    "    total_loss = 0\n",
    "    with torch.no_grad():\n",
    "        for x, y, _ in tqdm(loader, desc=\"Validating\", leave=False):\n",
    "            x, y = x.to(device), y.to(device)\n",
    "            y_pred = model(x)\n",
    "            loss = loss_fn(y_pred, y)\n",
    "            total_loss += loss.item()\n",
    "    return total_loss / len(loader)\n",
    "\n",
    "def calculate_metrics(y_true, y_pred):\n",
    "    y_true = y_true.cpu().numpy() > 0.5\n",
    "    y_pred = torch.sigmoid(y_pred).cpu().numpy() > 0.5\n",
    "    y_true = y_true.astype(np.uint8).reshape(-1)\n",
    "    y_pred = y_pred.astype(np.uint8).reshape(-1)\n",
    "\n",
    "    return [\n",
    "        jaccard_score(y_true, y_pred, zero_division=0),\n",
    "        f1_score(y_true, y_pred, zero_division=0),\n",
    "        recall_score(y_true, y_pred, zero_division=0),\n",
    "        precision_score(y_true, y_pred, zero_division=0),\n",
    "        accuracy_score(y_true, y_pred)\n",
    "    ]\n",
    "\n",
    "def mask_parse(mask):\n",
    "    mask = np.expand_dims(mask, axis=-1)\n",
    "    return np.concatenate([mask]*3, axis=-1)"
   ]
  },
  {
   "cell_type": "code",
   "execution_count": 7,
   "id": "88bb673e",
   "metadata": {},
   "outputs": [],
   "source": [
    "seeding(42)\n",
    "MODEL_NAME = \"Green_Custom_Focal_Tversky_Full\"\n",
    "MODEL_DIRECTORY = \"Green_Model_Custom_Focal_Tversky_Full\"\n",
    "create_directory(MODEL_DIRECTORY)\n",
    "RESULT_DIRECTORY = \"Green_Results_Custom_Focal_Tversky_Full\"\n",
    "create_directory(RESULT_DIRECTORY)"
   ]
  },
  {
   "cell_type": "code",
   "execution_count": null,
   "id": "752cce2b",
   "metadata": {},
   "outputs": [
    {
     "name": "stderr",
     "output_type": "stream",
     "text": [
      "/user/HS401/in00199/.local/lib/python3.11/site-packages/torch/optim/lr_scheduler.py:62: UserWarning: The verbose parameter is deprecated. Please use get_last_lr() to access the learning rate.\n",
      "  warnings.warn(\n"
     ]
    }
   ],
   "source": [
    "# load full training set \n",
    "train_images = sorted(glob(\"../final_dataset/train/images/*\"))\n",
    "train_masks  = sorted(glob(\"../final_dataset/train/masks/*\"))\n",
    "train_dataset = RetinalDataset(train_images, train_masks)\n",
    "\n",
    "# load test set and split it 50/50 into validation and test\n",
    "test_images = sorted(glob(\"../final_dataset/test/images/*\"))\n",
    "test_masks  = sorted(glob(\"../final_dataset/test/masks/*\"))\n",
    "full_test_dataset = RetinalDataset(test_images, test_masks)\n",
    "n_val = len(full_test_dataset) // 2\n",
    "n_test = len(full_test_dataset) - n_val\n",
    "valid_dataset, test_dataset = random_split(full_test_dataset, [n_val, n_test])\n",
    "\n",
    "device    = torch.device('cuda' if torch.cuda.is_available() else 'cpu')\n",
    "model     = UNet().to(device)\n",
    "optimizer = torch.optim.Adam(model.parameters(), lr=1e-4)\n",
    "scheduler = torch.optim.lr_scheduler.ReduceLROnPlateau(optimizer, 'min', patience=5, verbose=True)\n",
    "loss_fn   = Focal_Tversky()\n",
    "\n",
    "train_loader = DataLoader(train_dataset, batch_size=2, shuffle=True, num_workers=0)\n",
    "valid_loader = DataLoader(valid_dataset, batch_size=2, shuffle=False, num_workers=0)\n",
    "\n",
    "best_valid_loss = float(\"inf\")"
   ]
  },
  {
   "cell_type": "code",
   "execution_count": 9,
   "id": "d1812f38",
   "metadata": {},
   "outputs": [
    {
     "name": "stderr",
     "output_type": "stream",
     "text": [
      "                                                                    \r"
     ]
    },
    {
     "name": "stdout",
     "output_type": "stream",
     "text": [
      "Epoch 01 | Time: 12m 34s\n",
      "\tTrain Loss: 0.7954 | Valid Loss: 0.5783\n",
      "\tAccuracy: 0.9897 | F1: 0.3506 | Dice: 0.4164 | Recall: 0.4953 | Precision: 0.3592 | Jaccard: 0.2193\n",
      "Best Green_Custom_Focal_Tversky_Full Saved\n"
     ]
    },
    {
     "name": "stderr",
     "output_type": "stream",
     "text": [
      "                                                                    \r"
     ]
    },
    {
     "name": "stdout",
     "output_type": "stream",
     "text": [
      "Epoch 02 | Time: 11m 45s\n",
      "\tTrain Loss: 0.5675 | Valid Loss: 0.6188\n",
      "\tAccuracy: 0.9921 | F1: 0.3685 | Dice: 0.4205 | Recall: 0.2974 | Precision: 0.7176 | Jaccard: 0.2391\n"
     ]
    },
    {
     "name": "stderr",
     "output_type": "stream",
     "text": [
      "                                                                    \r"
     ]
    },
    {
     "name": "stdout",
     "output_type": "stream",
     "text": [
      "Epoch 03 | Time: 11m 44s\n",
      "\tTrain Loss: 0.5286 | Valid Loss: 0.5209\n",
      "\tAccuracy: 0.9921 | F1: 0.4266 | Dice: 0.4957 | Recall: 0.4277 | Precision: 0.5894 | Jaccard: 0.2806\n",
      "Best Green_Custom_Focal_Tversky_Full Saved\n"
     ]
    },
    {
     "name": "stderr",
     "output_type": "stream",
     "text": [
      "                                                                    \r"
     ]
    },
    {
     "name": "stdout",
     "output_type": "stream",
     "text": [
      "Epoch 04 | Time: 11m 44s\n",
      "\tTrain Loss: 0.5095 | Valid Loss: 0.5464\n",
      "\tAccuracy: 0.9923 | F1: 0.4238 | Dice: 0.4849 | Recall: 0.3921 | Precision: 0.6353 | Jaccard: 0.2808\n"
     ]
    },
    {
     "name": "stderr",
     "output_type": "stream",
     "text": [
      "                                                                    \r"
     ]
    },
    {
     "name": "stdout",
     "output_type": "stream",
     "text": [
      "Epoch 05 | Time: 11m 43s\n",
      "\tTrain Loss: 0.5032 | Valid Loss: 0.5723\n",
      "\tAccuracy: 0.9920 | F1: 0.3878 | Dice: 0.4561 | Recall: 0.3496 | Precision: 0.6559 | Jaccard: 0.2503\n"
     ]
    },
    {
     "name": "stderr",
     "output_type": "stream",
     "text": [
      "                                                                    \r"
     ]
    },
    {
     "name": "stdout",
     "output_type": "stream",
     "text": [
      "Epoch 06 | Time: 11m 45s\n",
      "\tTrain Loss: 0.4879 | Valid Loss: 0.5667\n",
      "\tAccuracy: 0.9922 | F1: 0.4042 | Dice: 0.4617 | Recall: 0.3706 | Precision: 0.6119 | Jaccard: 0.2649\n"
     ]
    },
    {
     "name": "stderr",
     "output_type": "stream",
     "text": [
      "                                                                    \r"
     ]
    },
    {
     "name": "stdout",
     "output_type": "stream",
     "text": [
      "Epoch 07 | Time: 11m 44s\n",
      "\tTrain Loss: 0.4690 | Valid Loss: 0.4962\n",
      "\tAccuracy: 0.9925 | F1: 0.4745 | Dice: 0.5280 | Recall: 0.4504 | Precision: 0.6377 | Jaccard: 0.3219\n",
      "Best Green_Custom_Focal_Tversky_Full Saved\n"
     ]
    },
    {
     "name": "stderr",
     "output_type": "stream",
     "text": [
      "                                                                    \r"
     ]
    },
    {
     "name": "stdout",
     "output_type": "stream",
     "text": [
      "Epoch 08 | Time: 11m 43s\n",
      "\tTrain Loss: 0.4701 | Valid Loss: 0.5368\n",
      "\tAccuracy: 0.9922 | F1: 0.4471 | Dice: 0.5063 | Recall: 0.4210 | Precision: 0.6350 | Jaccard: 0.2993\n"
     ]
    },
    {
     "name": "stderr",
     "output_type": "stream",
     "text": [
      "                                                                    \r"
     ]
    },
    {
     "name": "stdout",
     "output_type": "stream",
     "text": [
      "Epoch 09 | Time: 11m 44s\n",
      "\tTrain Loss: 0.4539 | Valid Loss: 0.5431\n",
      "\tAccuracy: 0.9915 | F1: 0.3995 | Dice: 0.4626 | Recall: 0.4457 | Precision: 0.4809 | Jaccard: 0.2594\n"
     ]
    },
    {
     "name": "stderr",
     "output_type": "stream",
     "text": [
      "                                                                    \r"
     ]
    },
    {
     "name": "stdout",
     "output_type": "stream",
     "text": [
      "Epoch 10 | Time: 11m 43s\n",
      "\tTrain Loss: 0.4461 | Valid Loss: 0.5047\n",
      "\tAccuracy: 0.9924 | F1: 0.4601 | Dice: 0.5230 | Recall: 0.4589 | Precision: 0.6078 | Jaccard: 0.3122\n"
     ]
    },
    {
     "name": "stderr",
     "output_type": "stream",
     "text": [
      "                                                                    \r"
     ]
    },
    {
     "name": "stdout",
     "output_type": "stream",
     "text": [
      "Epoch 11 | Time: 11m 50s\n",
      "\tTrain Loss: 0.4403 | Valid Loss: 0.5232\n",
      "\tAccuracy: 0.9924 | F1: 0.4486 | Dice: 0.5163 | Recall: 0.4252 | Precision: 0.6573 | Jaccard: 0.3019\n"
     ]
    },
    {
     "name": "stderr",
     "output_type": "stream",
     "text": [
      "                                                                    \r"
     ]
    },
    {
     "name": "stdout",
     "output_type": "stream",
     "text": [
      "Epoch 12 | Time: 11m 42s\n",
      "\tTrain Loss: 0.4329 | Valid Loss: 0.5307\n",
      "\tAccuracy: 0.9923 | F1: 0.4426 | Dice: 0.5070 | Recall: 0.4116 | Precision: 0.6602 | Jaccard: 0.2968\n"
     ]
    },
    {
     "name": "stderr",
     "output_type": "stream",
     "text": [
      "                                                                    \r"
     ]
    },
    {
     "name": "stdout",
     "output_type": "stream",
     "text": [
      "Epoch 13 | Time: 11m 13s\n",
      "\tTrain Loss: 0.4302 | Valid Loss: 0.5088\n",
      "\tAccuracy: 0.9924 | F1: 0.4537 | Dice: 0.5234 | Recall: 0.4417 | Precision: 0.6420 | Jaccard: 0.3076\n"
     ]
    },
    {
     "name": "stderr",
     "output_type": "stream",
     "text": [
      "                                                                    \r"
     ]
    },
    {
     "name": "stdout",
     "output_type": "stream",
     "text": [
      "Epoch 14 | Time: 5m 44s\n",
      "\tTrain Loss: 0.4035 | Valid Loss: 0.5013\n",
      "\tAccuracy: 0.9926 | F1: 0.4725 | Dice: 0.5338 | Recall: 0.4468 | Precision: 0.6629 | Jaccard: 0.3215\n"
     ]
    },
    {
     "name": "stderr",
     "output_type": "stream",
     "text": [
      "                                                                    \r"
     ]
    },
    {
     "name": "stdout",
     "output_type": "stream",
     "text": [
      "Epoch 15 | Time: 5m 43s\n",
      "\tTrain Loss: 0.3960 | Valid Loss: 0.4945\n",
      "\tAccuracy: 0.9925 | F1: 0.4703 | Dice: 0.5353 | Recall: 0.4577 | Precision: 0.6445 | Jaccard: 0.3196\n",
      "Best Green_Custom_Focal_Tversky_Full Saved\n"
     ]
    },
    {
     "name": "stderr",
     "output_type": "stream",
     "text": [
      "                                                                    \r"
     ]
    },
    {
     "name": "stdout",
     "output_type": "stream",
     "text": [
      "Epoch 16 | Time: 5m 45s\n",
      "\tTrain Loss: 0.3920 | Valid Loss: 0.4916\n",
      "\tAccuracy: 0.9925 | F1: 0.4752 | Dice: 0.5364 | Recall: 0.4625 | Precision: 0.6385 | Jaccard: 0.3238\n",
      "Best Green_Custom_Focal_Tversky_Full Saved\n"
     ]
    },
    {
     "name": "stderr",
     "output_type": "stream",
     "text": [
      "                                                                    \r"
     ]
    },
    {
     "name": "stdout",
     "output_type": "stream",
     "text": [
      "Epoch 17 | Time: 5m 43s\n",
      "\tTrain Loss: 0.3888 | Valid Loss: 0.4936\n",
      "\tAccuracy: 0.9924 | F1: 0.4792 | Dice: 0.5390 | Recall: 0.4701 | Precision: 0.6315 | Jaccard: 0.3269\n"
     ]
    },
    {
     "name": "stderr",
     "output_type": "stream",
     "text": [
      "                                                                    \r"
     ]
    },
    {
     "name": "stdout",
     "output_type": "stream",
     "text": [
      "Epoch 18 | Time: 5m 43s\n",
      "\tTrain Loss: 0.3856 | Valid Loss: 0.4912\n",
      "\tAccuracy: 0.9923 | F1: 0.4770 | Dice: 0.5403 | Recall: 0.4735 | Precision: 0.6290 | Jaccard: 0.3258\n",
      "Best Green_Custom_Focal_Tversky_Full Saved\n"
     ]
    },
    {
     "name": "stderr",
     "output_type": "stream",
     "text": [
      "                                                                    \r"
     ]
    },
    {
     "name": "stdout",
     "output_type": "stream",
     "text": [
      "Epoch 19 | Time: 5m 46s\n",
      "\tTrain Loss: 0.3831 | Valid Loss: 0.4996\n",
      "\tAccuracy: 0.9923 | F1: 0.4725 | Dice: 0.5350 | Recall: 0.4650 | Precision: 0.6298 | Jaccard: 0.3224\n"
     ]
    },
    {
     "name": "stderr",
     "output_type": "stream",
     "text": [
      "                                                                    \r"
     ]
    },
    {
     "name": "stdout",
     "output_type": "stream",
     "text": [
      "Epoch 20 | Time: 5m 44s\n",
      "\tTrain Loss: 0.3809 | Valid Loss: 0.4949\n",
      "\tAccuracy: 0.9923 | F1: 0.4721 | Dice: 0.5338 | Recall: 0.4592 | Precision: 0.6372 | Jaccard: 0.3222\n"
     ]
    },
    {
     "name": "stderr",
     "output_type": "stream",
     "text": [
      "                                                                    \r"
     ]
    },
    {
     "name": "stdout",
     "output_type": "stream",
     "text": [
      "Epoch 21 | Time: 5m 43s\n",
      "\tTrain Loss: 0.3788 | Valid Loss: 0.4918\n",
      "\tAccuracy: 0.9923 | F1: 0.4780 | Dice: 0.5403 | Recall: 0.4673 | Precision: 0.6402 | Jaccard: 0.3269\n"
     ]
    },
    {
     "name": "stderr",
     "output_type": "stream",
     "text": [
      "                                                                    \r"
     ]
    },
    {
     "name": "stdout",
     "output_type": "stream",
     "text": [
      "Epoch 22 | Time: 5m 43s\n",
      "\tTrain Loss: 0.3772 | Valid Loss: 0.4919\n",
      "\tAccuracy: 0.9925 | F1: 0.4788 | Dice: 0.5412 | Recall: 0.4742 | Precision: 0.6303 | Jaccard: 0.3271\n"
     ]
    },
    {
     "name": "stderr",
     "output_type": "stream",
     "text": [
      "                                                                    \r"
     ]
    },
    {
     "name": "stdout",
     "output_type": "stream",
     "text": [
      "Epoch 23 | Time: 5m 43s\n",
      "\tTrain Loss: 0.3747 | Valid Loss: 0.4864\n",
      "\tAccuracy: 0.9925 | F1: 0.4851 | Dice: 0.5413 | Recall: 0.4687 | Precision: 0.6406 | Jaccard: 0.3320\n",
      "Best Green_Custom_Focal_Tversky_Full Saved\n"
     ]
    },
    {
     "name": "stderr",
     "output_type": "stream",
     "text": [
      "                                                                    \r"
     ]
    },
    {
     "name": "stdout",
     "output_type": "stream",
     "text": [
      "Epoch 24 | Time: 5m 43s\n",
      "\tTrain Loss: 0.3732 | Valid Loss: 0.4792\n",
      "\tAccuracy: 0.9922 | F1: 0.4815 | Dice: 0.5371 | Recall: 0.4870 | Precision: 0.5987 | Jaccard: 0.3308\n",
      "Best Green_Custom_Focal_Tversky_Full Saved\n"
     ]
    },
    {
     "name": "stderr",
     "output_type": "stream",
     "text": [
      "                                                                    \r"
     ]
    },
    {
     "name": "stdout",
     "output_type": "stream",
     "text": [
      "Epoch 25 | Time: 5m 43s\n",
      "\tTrain Loss: 0.3715 | Valid Loss: 0.4843\n",
      "\tAccuracy: 0.9925 | F1: 0.4835 | Dice: 0.5412 | Recall: 0.4707 | Precision: 0.6366 | Jaccard: 0.3306\n"
     ]
    },
    {
     "name": "stderr",
     "output_type": "stream",
     "text": [
      "                                                                    \r"
     ]
    },
    {
     "name": "stdout",
     "output_type": "stream",
     "text": [
      "Epoch 26 | Time: 5m 45s\n",
      "\tTrain Loss: 0.3692 | Valid Loss: 0.4922\n",
      "\tAccuracy: 0.9927 | F1: 0.4811 | Dice: 0.5366 | Recall: 0.4560 | Precision: 0.6518 | Jaccard: 0.3287\n"
     ]
    },
    {
     "name": "stderr",
     "output_type": "stream",
     "text": [
      "                                                                    \r"
     ]
    },
    {
     "name": "stdout",
     "output_type": "stream",
     "text": [
      "Epoch 27 | Time: 5m 44s\n",
      "\tTrain Loss: 0.3685 | Valid Loss: 0.4931\n",
      "\tAccuracy: 0.9926 | F1: 0.4796 | Dice: 0.5382 | Recall: 0.4532 | Precision: 0.6625 | Jaccard: 0.3279\n"
     ]
    },
    {
     "name": "stderr",
     "output_type": "stream",
     "text": [
      "                                                                    \r"
     ]
    },
    {
     "name": "stdout",
     "output_type": "stream",
     "text": [
      "Epoch 28 | Time: 5m 43s\n",
      "\tTrain Loss: 0.3671 | Valid Loss: 0.4856\n",
      "\tAccuracy: 0.9921 | F1: 0.4804 | Dice: 0.5378 | Recall: 0.4733 | Precision: 0.6224 | Jaccard: 0.3306\n"
     ]
    },
    {
     "name": "stderr",
     "output_type": "stream",
     "text": [
      "                                                                    \r"
     ]
    },
    {
     "name": "stdout",
     "output_type": "stream",
     "text": [
      "Epoch 29 | Time: 5m 45s\n",
      "\tTrain Loss: 0.3653 | Valid Loss: 0.4821\n",
      "\tAccuracy: 0.9922 | F1: 0.4833 | Dice: 0.5364 | Recall: 0.4766 | Precision: 0.6135 | Jaccard: 0.3320\n"
     ]
    },
    {
     "name": "stderr",
     "output_type": "stream",
     "text": [
      "                                                                    \r"
     ]
    },
    {
     "name": "stdout",
     "output_type": "stream",
     "text": [
      "Epoch 30 | Time: 5m 44s\n",
      "\tTrain Loss: 0.3646 | Valid Loss: 0.4834\n",
      "\tAccuracy: 0.9925 | F1: 0.4862 | Dice: 0.5385 | Recall: 0.4712 | Precision: 0.6281 | Jaccard: 0.3331\n"
     ]
    },
    {
     "name": "stderr",
     "output_type": "stream",
     "text": [
      "                                                                    \r"
     ]
    },
    {
     "name": "stdout",
     "output_type": "stream",
     "text": [
      "Epoch 31 | Time: 5m 43s\n",
      "\tTrain Loss: 0.3619 | Valid Loss: 0.4843\n",
      "\tAccuracy: 0.9926 | F1: 0.4835 | Dice: 0.5365 | Recall: 0.4662 | Precision: 0.6319 | Jaccard: 0.3307\n"
     ]
    },
    {
     "name": "stderr",
     "output_type": "stream",
     "text": [
      "                                                                    \r"
     ]
    },
    {
     "name": "stdout",
     "output_type": "stream",
     "text": [
      "Epoch 32 | Time: 5m 45s\n",
      "\tTrain Loss: 0.3607 | Valid Loss: 0.4874\n",
      "\tAccuracy: 0.9925 | F1: 0.4832 | Dice: 0.5372 | Recall: 0.4647 | Precision: 0.6364 | Jaccard: 0.3312\n"
     ]
    },
    {
     "name": "stderr",
     "output_type": "stream",
     "text": [
      "                                                                    \r"
     ]
    },
    {
     "name": "stdout",
     "output_type": "stream",
     "text": [
      "Epoch 33 | Time: 5m 43s\n",
      "\tTrain Loss: 0.3601 | Valid Loss: 0.4837\n",
      "\tAccuracy: 0.9925 | F1: 0.4847 | Dice: 0.5389 | Recall: 0.4700 | Precision: 0.6314 | Jaccard: 0.3321\n"
     ]
    },
    {
     "name": "stderr",
     "output_type": "stream",
     "text": [
      "                                                                    \r"
     ]
    },
    {
     "name": "stdout",
     "output_type": "stream",
     "text": [
      "Epoch 34 | Time: 5m 43s\n",
      "\tTrain Loss: 0.3599 | Valid Loss: 0.4820\n",
      "\tAccuracy: 0.9926 | F1: 0.4882 | Dice: 0.5417 | Recall: 0.4725 | Precision: 0.6346 | Jaccard: 0.3362\n"
     ]
    },
    {
     "name": "stderr",
     "output_type": "stream",
     "text": [
      "                                                                    \r"
     ]
    },
    {
     "name": "stdout",
     "output_type": "stream",
     "text": [
      "Epoch 35 | Time: 5m 42s\n",
      "\tTrain Loss: 0.3593 | Valid Loss: 0.4827\n",
      "\tAccuracy: 0.9926 | F1: 0.4871 | Dice: 0.5400 | Recall: 0.4731 | Precision: 0.6289 | Jaccard: 0.3343\n"
     ]
    },
    {
     "name": "stderr",
     "output_type": "stream",
     "text": [
      "                                                                    \r"
     ]
    },
    {
     "name": "stdout",
     "output_type": "stream",
     "text": [
      "Epoch 36 | Time: 5m 43s\n",
      "\tTrain Loss: 0.3595 | Valid Loss: 0.4849\n",
      "\tAccuracy: 0.9925 | F1: 0.4813 | Dice: 0.5369 | Recall: 0.4707 | Precision: 0.6247 | Jaccard: 0.3288\n"
     ]
    },
    {
     "name": "stderr",
     "output_type": "stream",
     "text": [
      "                                                                    \r"
     ]
    },
    {
     "name": "stdout",
     "output_type": "stream",
     "text": [
      "Epoch 37 | Time: 5m 44s\n",
      "\tTrain Loss: 0.3590 | Valid Loss: 0.4837\n",
      "\tAccuracy: 0.9925 | F1: 0.4865 | Dice: 0.5403 | Recall: 0.4713 | Precision: 0.6329 | Jaccard: 0.3339\n"
     ]
    },
    {
     "name": "stderr",
     "output_type": "stream",
     "text": [
      "                                                                    \r"
     ]
    },
    {
     "name": "stdout",
     "output_type": "stream",
     "text": [
      "Epoch 38 | Time: 11m 0s\n",
      "\tTrain Loss: 0.3588 | Valid Loss: 0.4888\n",
      "\tAccuracy: 0.9926 | F1: 0.4814 | Dice: 0.5359 | Recall: 0.4591 | Precision: 0.6434 | Jaccard: 0.3292\n"
     ]
    },
    {
     "name": "stderr",
     "output_type": "stream",
     "text": [
      "                                                                    \r"
     ]
    },
    {
     "name": "stdout",
     "output_type": "stream",
     "text": [
      "Epoch 39 | Time: 11m 33s\n",
      "\tTrain Loss: 0.3588 | Valid Loss: 0.4852\n",
      "\tAccuracy: 0.9924 | F1: 0.4814 | Dice: 0.5354 | Recall: 0.4701 | Precision: 0.6217 | Jaccard: 0.3295\n"
     ]
    },
    {
     "name": "stderr",
     "output_type": "stream",
     "text": [
      "                                                                    \r"
     ]
    },
    {
     "name": "stdout",
     "output_type": "stream",
     "text": [
      "Epoch 40 | Time: 11m 38s\n",
      "\tTrain Loss: 0.3589 | Valid Loss: 0.4871\n",
      "\tAccuracy: 0.9926 | F1: 0.4858 | Dice: 0.5392 | Recall: 0.4633 | Precision: 0.6448 | Jaccard: 0.3341\n"
     ]
    },
    {
     "name": "stderr",
     "output_type": "stream",
     "text": [
      "                                                                    \r"
     ]
    },
    {
     "name": "stdout",
     "output_type": "stream",
     "text": [
      "Epoch 41 | Time: 11m 29s\n",
      "\tTrain Loss: 0.3591 | Valid Loss: 0.4843\n",
      "\tAccuracy: 0.9924 | F1: 0.4835 | Dice: 0.5383 | Recall: 0.4713 | Precision: 0.6274 | Jaccard: 0.3312\n"
     ]
    },
    {
     "name": "stderr",
     "output_type": "stream",
     "text": [
      "                                                                    \r"
     ]
    },
    {
     "name": "stdout",
     "output_type": "stream",
     "text": [
      "Epoch 42 | Time: 8m 53s\n",
      "\tTrain Loss: 0.3585 | Valid Loss: 0.4886\n",
      "\tAccuracy: 0.9925 | F1: 0.4828 | Dice: 0.5375 | Recall: 0.4618 | Precision: 0.6429 | Jaccard: 0.3307\n"
     ]
    },
    {
     "name": "stderr",
     "output_type": "stream",
     "text": [
      "                                                                    \r"
     ]
    },
    {
     "name": "stdout",
     "output_type": "stream",
     "text": [
      "Epoch 43 | Time: 5m 47s\n",
      "\tTrain Loss: 0.3588 | Valid Loss: 0.4892\n",
      "\tAccuracy: 0.9924 | F1: 0.4803 | Dice: 0.5358 | Recall: 0.4649 | Precision: 0.6322 | Jaccard: 0.3287\n"
     ]
    },
    {
     "name": "stderr",
     "output_type": "stream",
     "text": [
      "                                                                    \r"
     ]
    },
    {
     "name": "stdout",
     "output_type": "stream",
     "text": [
      "Epoch 44 | Time: 5m 45s\n",
      "\tTrain Loss: 0.3590 | Valid Loss: 0.4866\n",
      "\tAccuracy: 0.9922 | F1: 0.4816 | Dice: 0.5349 | Recall: 0.4728 | Precision: 0.6159 | Jaccard: 0.3307\n"
     ]
    },
    {
     "name": "stderr",
     "output_type": "stream",
     "text": [
      "                                                                    \r"
     ]
    },
    {
     "name": "stdout",
     "output_type": "stream",
     "text": [
      "Epoch 45 | Time: 5m 46s\n",
      "\tTrain Loss: 0.3586 | Valid Loss: 0.4851\n",
      "\tAccuracy: 0.9926 | F1: 0.4846 | Dice: 0.5378 | Recall: 0.4663 | Precision: 0.6352 | Jaccard: 0.3316\n"
     ]
    },
    {
     "name": "stderr",
     "output_type": "stream",
     "text": [
      "                                                                    \r"
     ]
    },
    {
     "name": "stdout",
     "output_type": "stream",
     "text": [
      "Epoch 46 | Time: 5m 45s\n",
      "\tTrain Loss: 0.3587 | Valid Loss: 0.4827\n",
      "\tAccuracy: 0.9924 | F1: 0.4845 | Dice: 0.5376 | Recall: 0.4731 | Precision: 0.6225 | Jaccard: 0.3324\n"
     ]
    },
    {
     "name": "stderr",
     "output_type": "stream",
     "text": [
      "                                                                    \r"
     ]
    },
    {
     "name": "stdout",
     "output_type": "stream",
     "text": [
      "Epoch 47 | Time: 5m 43s\n",
      "\tTrain Loss: 0.3589 | Valid Loss: 0.4834\n",
      "\tAccuracy: 0.9925 | F1: 0.4867 | Dice: 0.5391 | Recall: 0.4723 | Precision: 0.6279 | Jaccard: 0.3346\n"
     ]
    },
    {
     "name": "stderr",
     "output_type": "stream",
     "text": [
      "                                                                    \r"
     ]
    },
    {
     "name": "stdout",
     "output_type": "stream",
     "text": [
      "Epoch 48 | Time: 5m 45s\n",
      "\tTrain Loss: 0.3583 | Valid Loss: 0.4863\n",
      "\tAccuracy: 0.9925 | F1: 0.4843 | Dice: 0.5379 | Recall: 0.4679 | Precision: 0.6325 | Jaccard: 0.3325\n"
     ]
    },
    {
     "name": "stderr",
     "output_type": "stream",
     "text": [
      "                                                                    \r"
     ]
    },
    {
     "name": "stdout",
     "output_type": "stream",
     "text": [
      "Epoch 49 | Time: 5m 43s\n",
      "\tTrain Loss: 0.3585 | Valid Loss: 0.4841\n",
      "\tAccuracy: 0.9926 | F1: 0.4875 | Dice: 0.5401 | Recall: 0.4723 | Precision: 0.6308 | Jaccard: 0.3348\n"
     ]
    },
    {
     "name": "stderr",
     "output_type": "stream",
     "text": [
      "                                                                    "
     ]
    },
    {
     "name": "stdout",
     "output_type": "stream",
     "text": [
      "Epoch 50 | Time: 5m 43s\n",
      "\tTrain Loss: 0.3587 | Valid Loss: 0.4814\n",
      "\tAccuracy: 0.9926 | F1: 0.4885 | Dice: 0.5408 | Recall: 0.4717 | Precision: 0.6336 | Jaccard: 0.3354\n"
     ]
    },
    {
     "name": "stderr",
     "output_type": "stream",
     "text": [
      "\r"
     ]
    }
   ],
   "source": [
    "for epoch in range(50):\n",
    "    start = time.time()\n",
    "    train_loss = train(model, train_loader, optimizer, loss_fn, device)\n",
    "    valid_loss = evaluate(model, valid_loader, loss_fn, device)\n",
    "    scheduler.step(valid_loss)\n",
    "\n",
    "    model.eval()\n",
    "    valid_metrics = [0.0] * 5\n",
    "    with torch.no_grad():\n",
    "        for x_val, y_val, _ in tqdm(valid_loader, desc=\"Calculating Metrics\", leave=False):\n",
    "            x_val, y_val = x_val.to(device), y_val.to(device)\n",
    "            y_pred = model(x_val)\n",
    "            valid_metrics = list(map(add, valid_metrics, calculate_metrics(y_val, y_pred)))\n",
    "\n",
    "    metrics_avg = [m / len(valid_loader) for m in valid_metrics]\n",
    "    jaccard, f1, recall, precision, accuracy = metrics_avg\n",
    "    dice = (2 * precision * recall) / (precision + recall + 1e-7)\n",
    "\n",
    "    mins, secs = epoch_time(start, time.time())\n",
    "    print(f\"Epoch {epoch+1:02} | Time: {mins}m {secs}s\")\n",
    "    print(f\"\\tTrain Loss: {train_loss:.4f} | Valid Loss: {valid_loss:.4f}\")\n",
    "    print(f\"\\tAccuracy: {accuracy:.4f} | F1: {f1:.4f} | Dice: {dice:.4f} | Recall: {recall:.4f} | Precision: {precision:.4f} | Jaccard: {jaccard:.4f}\")\n",
    "    \n",
    "    if valid_loss < best_valid_loss:\n",
    "        best_valid_loss = valid_loss  \n",
    "        torch.save(model.state_dict(), f\"{MODEL_DIRECTORY}/{MODEL_NAME}.pth\")\n",
    "        print(f\"Best {MODEL_NAME} Saved\")"
   ]
  },
  {
   "cell_type": "code",
   "execution_count": 10,
   "id": "66af66c0",
   "metadata": {},
   "outputs": [
    {
     "name": "stderr",
     "output_type": "stream",
     "text": [
      "/tmp/ipykernel_1580012/1207855148.py:2: FutureWarning: You are using `torch.load` with `weights_only=False` (the current default value), which uses the default pickle module implicitly. It is possible to construct malicious pickle data which will execute arbitrary code during unpickling (See https://github.com/pytorch/pytorch/blob/main/SECURITY.md#untrusted-models for more details). In a future release, the default value for `weights_only` will be flipped to `True`. This limits the functions that could be executed during unpickling. Arbitrary objects will no longer be allowed to be loaded via this mode unless they are explicitly allowlisted by the user via `torch.serialization.add_safe_globals`. We recommend you start setting `weights_only=True` for any use case where you don't have full control of the loaded file. Please open an issue on GitHub for any issues related to this experimental feature.\n",
      "  model.load_state_dict(torch.load(f\"{MODEL_DIRECTORY}/{MODEL_NAME}.pth\", map_location=device))\n",
      "Testing: 100%|██████████| 113/113 [00:19<00:00,  5.84it/s]"
     ]
    },
    {
     "name": "stdout",
     "output_type": "stream",
     "text": [
      "Jaccard: 0.2689, F1: 0.3859, Recall: 0.4284, Precision: 0.4726, Accuracy: 0.9945\n",
      "FPS: 257.81350316503375\n"
     ]
    },
    {
     "name": "stderr",
     "output_type": "stream",
     "text": [
      "\n"
     ]
    }
   ],
   "source": [
    "# Load the best model\n",
    "model.load_state_dict(torch.load(f\"{MODEL_DIRECTORY}/{MODEL_NAME}.pth\", map_location=device))\n",
    "model.eval()\n",
    "\n",
    "# Evaluate on the held-out half of the test set\n",
    "test_loader = DataLoader(test_dataset, batch_size=1, shuffle=False, num_workers=0)\n",
    "metrics_score = [0.0] * 5\n",
    "time_taken = []\n",
    "\n",
    "for x, y, fname in tqdm(test_loader, desc=\"Testing\", total=len(test_loader)):\n",
    "    with torch.no_grad():\n",
    "        x, y = x.to(device), y.to(device)\n",
    "        start = time.time()\n",
    "        pred_y = model(x)\n",
    "        time_taken.append(time.time() - start)\n",
    "        metrics_score = list(map(add, metrics_score, calculate_metrics(y, pred_y)))\n",
    "\n",
    "    # Use green-channel image directly (grayscale)\n",
    "    green_img = (x.cpu().numpy()[0, 0] * 255).astype(np.uint8)  # Shape: [H, W]\n",
    "\n",
    "    # Process ground truth and prediction\n",
    "    mask = (y.cpu().numpy()[0, 0] * 255).astype(np.uint8)\n",
    "    pred = (torch.sigmoid(pred_y).cpu().numpy()[0, 0] > 0.5).astype(np.uint8) * 255\n",
    "\n",
    "    # Convert masks to RGB overlays\n",
    "    mask_img = mask_parse(mask)\n",
    "    pred_img = mask_parse(pred)\n",
    "\n",
    "    # Resize masks to match green image if needed\n",
    "    h, w = green_img.shape\n",
    "    mask_img = cv2.resize(mask_img, (w, h))\n",
    "    pred_img = cv2.resize(pred_img, (w, h))\n",
    "\n",
    "    # Create vertical separator\n",
    "    line = np.ones((h, 10, 3), dtype=np.uint8) * 128\n",
    "\n",
    "    # Convert green image to 3-channel grayscale for compatibility\n",
    "    green_rgb = np.stack([green_img]*3, axis=-1)\n",
    "\n",
    "    # Concatenate images: green | line | mask | line | prediction\n",
    "    result_uint8 = np.concatenate([green_rgb, line, mask_img, line, pred_img], axis=1)\n",
    "\n",
    "    # Safe filename\n",
    "    if isinstance(fname, (list, tuple)):\n",
    "        fname = fname[0]\n",
    "    save_name = os.path.splitext(fname)[0] + \".png\"\n",
    "\n",
    "    # Save image\n",
    "    plt.imsave(f\"{RESULT_DIRECTORY}/{save_name}\", result_uint8)\n",
    "\n",
    "# Final metrics\n",
    "j, f1, r, p, a = [m / len(test_loader) for m in metrics_score]\n",
    "print(f\"Jaccard: {j:.4f}, F1: {f1:.4f}, Recall: {r:.4f}, Precision: {p:.4f}, Accuracy: {a:.4f}\")\n",
    "print(\"FPS:\", 1 / np.mean(time_taken))\n"
   ]
  }
 ],
 "metadata": {
  "kernelspec": {
   "display_name": "base",
   "language": "python",
   "name": "python3"
  },
  "language_info": {
   "codemirror_mode": {
    "name": "ipython",
    "version": 3
   },
   "file_extension": ".py",
   "mimetype": "text/x-python",
   "name": "python",
   "nbconvert_exporter": "python",
   "pygments_lexer": "ipython3",
   "version": "3.11.7"
  }
 },
 "nbformat": 4,
 "nbformat_minor": 5
}
