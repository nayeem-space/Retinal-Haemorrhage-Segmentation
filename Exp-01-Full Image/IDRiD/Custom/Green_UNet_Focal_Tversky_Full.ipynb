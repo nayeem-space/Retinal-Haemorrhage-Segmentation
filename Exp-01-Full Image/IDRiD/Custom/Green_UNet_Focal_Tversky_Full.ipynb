{
 "cells": [
  {
   "cell_type": "code",
   "execution_count": 2,
   "id": "0e8d7f51",
   "metadata": {},
   "outputs": [],
   "source": [
    "import os\n",
    "import cv2\n",
    "import time\n",
    "import random\n",
    "import numpy as np\n",
    "import matplotlib.pyplot as plt\n",
    "from glob import glob\n",
    "from operator import add\n",
    "from tqdm import tqdm\n",
    "\n",
    "import torch\n",
    "import torch.nn as nn\n",
    "import torch.nn.functional as F\n",
    "from torch.utils.data import Dataset, DataLoader, random_split, Subset\n",
    "from sklearn.metrics import accuracy_score, f1_score, jaccard_score, precision_score, recall_score"
   ]
  },
  {
   "cell_type": "code",
   "execution_count": null,
   "id": "5cdbaaf4",
   "metadata": {},
   "outputs": [],
   "source": [
    "# Utility Functions \n",
    "def seeding(seed):\n",
    "    random.seed(seed)\n",
    "    os.environ[\"PYTHONHASHSEED\"] = str(seed)\n",
    "    np.random.seed(seed)\n",
    "    torch.manual_seed(seed)\n",
    "    torch.cuda.manual_seed(seed)\n",
    "    torch.backends.cudnn.deterministic = True\n",
    "\n",
    "def create_directory(path):\n",
    "    if not os.path.exists(path):\n",
    "        os.makedirs(path)\n",
    "\n",
    "def epoch_time(start_time, end_time):\n",
    "    elapsed_time = end_time - start_time\n",
    "    elapsed_mins = int(elapsed_time / 60)\n",
    "    elapsed_secs = int(elapsed_time - (elapsed_mins * 60))\n",
    "    return elapsed_mins, elapsed_secs"
   ]
  },
  {
   "cell_type": "code",
   "execution_count": null,
   "id": "1e7eb778",
   "metadata": {},
   "outputs": [],
   "source": [
    "# Dataset \n",
    "class RetinalDataset(Dataset):\n",
    "    def __init__(self, images_path, masks_path):\n",
    "        self.images_path = images_path\n",
    "        self.masks_path = masks_path\n",
    "        self.n_samples = len(images_path)\n",
    "\n",
    "    def __getitem__(self, index):\n",
    "        img_path = self.images_path[index]\n",
    "        mask_path = self.masks_path[index]\n",
    "\n",
    "        # Load image in BGR format\n",
    "        image = cv2.imread(img_path, cv2.IMREAD_COLOR)\n",
    "\n",
    "        # Extract only the green channel\n",
    "        green = image[:, :, 1]  # Index 1 = green channel in BGR\n",
    "\n",
    "        # Normalize and convert to tensor\n",
    "        green = green / 255.0\n",
    "        green = np.expand_dims(green, axis=0).astype(np.float32)  # Shape: [1, H, W]\n",
    "        image = torch.from_numpy(green)\n",
    "\n",
    "        # Load and process the mask\n",
    "        mask = cv2.imread(mask_path, cv2.IMREAD_GRAYSCALE)\n",
    "        mask = mask / 255.0\n",
    "        mask = np.expand_dims(mask, axis=0).astype(np.float32)\n",
    "        mask = torch.from_numpy(mask)\n",
    "\n",
    "        # Get the filename\n",
    "        filename = os.path.basename(img_path)\n",
    "\n",
    "        return image, mask, filename\n",
    "    def __len__(self):\n",
    "            return self.n_samples\n"
   ]
  },
  {
   "cell_type": "code",
   "execution_count": 5,
   "id": "acbded60",
   "metadata": {},
   "outputs": [],
   "source": [
    "class Focal_Tversky(nn.Module):\n",
    "    def __init__(self, alpha=0.3, beta=0.7, gamma=1.5, smooth=1e-6):\n",
    "        super().__init__()\n",
    "        self.alpha = alpha\n",
    "        self.beta  = beta\n",
    "        self.gamma = gamma\n",
    "        self.smooth = smooth\n",
    "\n",
    "    def forward(self, logits, targets):\n",
    "    \n",
    "        probs = torch.sigmoid(logits)\n",
    "        N = targets.size(0)\n",
    "\n",
    "        probs  = probs.view(N, -1)\n",
    "        targets = targets.view(N, -1)\n",
    "\n",
    "        TP = (probs * targets).sum(dim=1)\n",
    "        FP = (probs * (1 - targets)).sum(dim=1)\n",
    "        FN = ((1 - probs) * targets).sum(dim=1)\n",
    "\n",
    "        smooth = torch.tensor(self.smooth, device=probs.device, dtype=probs.dtype)\n",
    "        tversky = (TP + smooth) / (TP + self.alpha * FP + self.beta * FN + smooth)\n",
    "\n",
    "        loss = (1 - tversky) ** self.gamma\n",
    "\n",
    "        return loss.mean()\n"
   ]
  },
  {
   "cell_type": "code",
   "execution_count": null,
   "id": "6698c92a",
   "metadata": {},
   "outputs": [],
   "source": [
    "\n",
    "#  DoubleConv and TripleConv\n",
    "\n",
    "class TripleConv(nn.Module):\n",
    "    \"\"\"Conv -> BN -> ReLU repeated 3 times.\"\"\"\n",
    "    def __init__(self, in_c, mid1_c, mid2_c, out_c):\n",
    "        super().__init__()\n",
    "        self.conv1 = nn.Conv2d(in_c, mid1_c, 3, padding=1)\n",
    "        self.bn1   = nn.BatchNorm2d(mid1_c)\n",
    "        self.conv2 = nn.Conv2d(mid1_c, mid2_c, 3, padding=1)\n",
    "        self.bn2   = nn.BatchNorm2d(mid2_c)\n",
    "        self.conv3 = nn.Conv2d(mid2_c, out_c, 3, padding=1)\n",
    "        self.bn3   = nn.BatchNorm2d(out_c)\n",
    "        self.relu  = nn.ReLU(inplace=True)\n",
    "\n",
    "    def forward(self, x):\n",
    "        x = self.relu(self.bn1(self.conv1(x)))\n",
    "        x = self.relu(self.bn2(self.conv2(x)))\n",
    "        x = self.relu(self.bn3(self.conv3(x)))\n",
    "        return x\n",
    "\n",
    "class DoubleConv(nn.Module):\n",
    "    \"\"\"Conv -> BN -> ReLU repeated 2 times.\"\"\"\n",
    "    def __init__(self, in_c, mid_c, out_c):\n",
    "        super().__init__()\n",
    "        self.conv1 = nn.Conv2d(in_c, mid_c, 3, padding=1)\n",
    "        self.bn1   = nn.BatchNorm2d(mid_c)\n",
    "        self.conv2 = nn.Conv2d(mid_c, out_c, 3, padding=1)\n",
    "        self.bn2   = nn.BatchNorm2d(out_c)\n",
    "        self.relu  = nn.ReLU(inplace=True)\n",
    "\n",
    "    def forward(self, x):\n",
    "        x = self.relu(self.bn1(self.conv1(x)))\n",
    "        x = self.relu(self.bn2(self.conv2(x)))\n",
    "        return x\n",
    "\n",
    "\n",
    "#  UNetRetina (with additional subsampling and concatenation)\n",
    "\n",
    "class UNet(nn.Module):\n",
    "    def __init__(self):\n",
    "        super().__init__()\n",
    "        \n",
    "        # ========== ENCODER ==========\n",
    "        # Block 1: 3 conv -> (32, 32, 64)\n",
    "        self.down1 = TripleConv(\n",
    "            in_c=1,       # green channel only\n",
    "            mid1_c=32,\n",
    "            mid2_c=32,\n",
    "            out_c=64\n",
    "        )\n",
    "        # Block 2: 3 conv -> (64, 64, 128)\n",
    "        self.down2 = TripleConv(\n",
    "            in_c=64,\n",
    "            mid1_c=64,\n",
    "            mid2_c=64,\n",
    "            out_c=128\n",
    "        )\n",
    "        # Block 3: 2 conv -> (128, 128, 256)\n",
    "        self.down3 = DoubleConv(\n",
    "            in_c=128,\n",
    "            mid_c=128,\n",
    "            out_c=256\n",
    "        )\n",
    "        # Block 4: 2 conv -> (256, 256, 256)\n",
    "        self.down4 = DoubleConv(\n",
    "            in_c=256,\n",
    "            mid_c=256,\n",
    "            out_c=256\n",
    "        )\n",
    "        \n",
    "        self.pool = nn.MaxPool2d(2, 2)\n",
    "        \n",
    "        #  BOTTLENECK \n",
    "        # Bottleneck: 2 conv -> (256 -> 512 -> 256)\n",
    "        self.bottleneck = DoubleConv(\n",
    "            in_c=256,\n",
    "            mid_c=512,\n",
    "            out_c=256\n",
    "        )\n",
    "        \n",
    "        # DECODER \n",
    "        # Each decoder block: upsample, concat skip connection, then decode.\n",
    "        self.up4  = nn.Upsample(scale_factor=2, mode='bilinear', align_corners=True)\n",
    "        self.dec4 = DoubleConv(in_c=256+256, mid_c=256, out_c=256)\n",
    "        \n",
    "        self.up3  = nn.Upsample(scale_factor=2, mode='bilinear', align_corners=True)\n",
    "        self.dec3 = DoubleConv(in_c=256+256, mid_c=128, out_c=128)\n",
    "        \n",
    "        self.up2  = nn.Upsample(scale_factor=2, mode='bilinear', align_corners=True)\n",
    "        self.dec2 = TripleConv(in_c=128+128, mid1_c=64, mid2_c=64, out_c=64)\n",
    "        \n",
    "        self.up1  = nn.Upsample(scale_factor=2, mode='bilinear', align_corners=True)\n",
    "        self.dec1 = TripleConv(in_c=64+64, mid1_c=32, mid2_c=32, out_c=32)\n",
    "        \n",
    "        # ADDITIONAL SUBSAMPLING & CONCATENATION \n",
    "        self.final_pool = nn.MaxPool2d(2, 2)  # Additional subsampling step\n",
    "        self.final_upsample = nn.Upsample(scale_factor=2, mode='bilinear', align_corners=True)\n",
    "        # After concatenation: 32 channels (from decoder) + 1 channel (from input) = 33 channels\n",
    "        self.out_conv = nn.Conv2d(33, 1, kernel_size=1)\n",
    "        \n",
    "\n",
    "    def forward(self, x):\n",
    "        # Encoder\n",
    "        input_image = x\n",
    "        \n",
    "        # Block 1\n",
    "        x1 = self.down1(x)    # 64 channels\n",
    "        x1p = self.pool(x1)   # subsampled\n",
    "        \n",
    "        # Block 2\n",
    "        x2 = self.down2(x1p)  #  128 channels\n",
    "        x2p = self.pool(x2)   # subsampled\n",
    "        \n",
    "        # Block 3\n",
    "        x3 = self.down3(x2p)  # 256 channels\n",
    "        x3p = self.pool(x3)   # subsampled\n",
    "        \n",
    "        # Block 4\n",
    "        x4 = self.down4(x3p)  #  256 channels\n",
    "        x4p = self.pool(x4)   # subsampled\n",
    "        \n",
    "        # Bottleneck \n",
    "        xb = self.bottleneck(x4p)  # 256 -> 512 -> 256\n",
    "        \n",
    "        #  Decoder \n",
    "        xd4 = self.up4(xb)               \n",
    "        xd4 = torch.cat([x4, xd4], dim=1)  \n",
    "        xd4 = self.dec4(xd4)             \n",
    "        \n",
    "        xd3 = self.up3(xd4)              \n",
    "        xd3 = torch.cat([x3, xd3], dim=1) \n",
    "        xd3 = self.dec3(xd3)             \n",
    "        \n",
    "        xd2 = self.up2(xd3)              \n",
    "        xd2 = torch.cat([x2, xd2], dim=1) \n",
    "        xd2 = self.dec2(xd2)             \n",
    "        \n",
    "        xd1 = self.up1(xd2)              \n",
    "        xd1 = torch.cat([x1, xd1], dim=1) \n",
    "        xd1 = self.dec1(xd1)             \n",
    "        \n",
    "        # Additional Subsampling & Concatenation \n",
    "        xd1_sub = self.final_pool(xd1)          #  [B,32,H/2,W/2]\n",
    "        input_sub = self.final_pool(input_image) # [B,1,H/2,W/2]\n",
    "        final_cat = torch.cat([xd1_sub, input_sub], dim=1)  #  [B,33,H/2,W/2]\n",
    "        final_up = self.final_upsample(final_cat)  # [B,33,H,W]\n",
    "        \n",
    "        out = self.out_conv(final_up)  # [B,1,H,W]\n",
    "        \n",
    "        return out\n"
   ]
  },
  {
   "cell_type": "code",
   "execution_count": null,
   "id": "50891b35",
   "metadata": {},
   "outputs": [],
   "source": [
    "# Training and Evaluation \n",
    "def train(model, loader, optimizer, loss_fn, device):\n",
    "    model.train()\n",
    "    total_loss = 0\n",
    "    for x, y, _ in tqdm(loader, desc=\"Training\", leave=False):\n",
    "        x, y = x.to(device), y.to(device)\n",
    "        optimizer.zero_grad()\n",
    "        y_pred = model(x)\n",
    "        loss = loss_fn(y_pred, y)\n",
    "        loss.backward()\n",
    "        optimizer.step()\n",
    "        total_loss += loss.item()\n",
    "    return total_loss / len(loader)\n",
    "\n",
    "def evaluate(model, loader, loss_fn, device):\n",
    "    model.eval()\n",
    "    total_loss = 0\n",
    "    with torch.no_grad():\n",
    "        for x, y, _ in tqdm(loader, desc=\"Validating\", leave=False):\n",
    "            x, y = x.to(device), y.to(device)\n",
    "            y_pred = model(x)\n",
    "            loss = loss_fn(y_pred, y)\n",
    "            total_loss += loss.item()\n",
    "    return total_loss / len(loader)\n",
    "\n",
    "def calculate_metrics(y_true, y_pred):\n",
    "    y_true = y_true.cpu().numpy() > 0.5\n",
    "    y_pred = torch.sigmoid(y_pred).cpu().numpy() > 0.5\n",
    "    y_true = y_true.astype(np.uint8).reshape(-1)\n",
    "    y_pred = y_pred.astype(np.uint8).reshape(-1)\n",
    "\n",
    "    return [\n",
    "        jaccard_score(y_true, y_pred, zero_division=0),\n",
    "        f1_score(y_true, y_pred, zero_division=0),\n",
    "        recall_score(y_true, y_pred, zero_division=0),\n",
    "        precision_score(y_true, y_pred, zero_division=0),\n",
    "        accuracy_score(y_true, y_pred)\n",
    "    ]\n",
    "\n",
    "def mask_parse(mask):\n",
    "    mask = np.expand_dims(mask, axis=-1)\n",
    "    return np.concatenate([mask]*3, axis=-1)"
   ]
  },
  {
   "cell_type": "code",
   "execution_count": 8,
   "id": "88bb673e",
   "metadata": {},
   "outputs": [],
   "source": [
    "seeding(42)\n",
    "MODEL_NAME = \"Green_Custom_Focal_Tversky_Full\"\n",
    "MODEL_DIRECTORY = \"Green_Model_Custom_Focal_Tversky_Full\"\n",
    "create_directory(MODEL_DIRECTORY)\n",
    "RESULT_DIRECTORY = \"Green_Results_Custom_Focal_Tversky_Full\"\n",
    "create_directory(RESULT_DIRECTORY)"
   ]
  },
  {
   "cell_type": "code",
   "execution_count": null,
   "id": "752cce2b",
   "metadata": {},
   "outputs": [
    {
     "name": "stderr",
     "output_type": "stream",
     "text": [
      "C:\\Users\\Nayeem\\AppData\\Roaming\\Python\\Python312\\site-packages\\torch\\optim\\lr_scheduler.py:62: UserWarning: The verbose parameter is deprecated. Please use get_last_lr() to access the learning rate.\n",
      "  warnings.warn(\n"
     ]
    }
   ],
   "source": [
    "#  load full training set \n",
    "train_images = sorted(glob(\"./final_dataset/train/images/*\"))\n",
    "train_masks  = sorted(glob(\"./final_dataset/train/masks/*\"))\n",
    "train_dataset = RetinalDataset(train_images, train_masks)\n",
    "\n",
    "# load test set and split it 50/50 into validation and test\n",
    "test_images = sorted(glob(\"./final_dataset/test/images/*\"))\n",
    "test_masks  = sorted(glob(\"./final_dataset/test/masks/*\"))\n",
    "full_test_dataset = RetinalDataset(test_images, test_masks)\n",
    "n_val = len(full_test_dataset) // 2\n",
    "n_test = len(full_test_dataset) - n_val\n",
    "valid_dataset, test_dataset = random_split(full_test_dataset, [n_val, n_test])\n",
    "\n",
    "device    = torch.device('cuda' if torch.cuda.is_available() else 'cpu')\n",
    "model     = UNet().to(device)\n",
    "optimizer = torch.optim.Adam(model.parameters(), lr=1e-4)\n",
    "scheduler = torch.optim.lr_scheduler.ReduceLROnPlateau(optimizer, 'min', patience=5, verbose=True)\n",
    "loss_fn   = Focal_Tversky()\n",
    "\n",
    "train_loader = DataLoader(train_dataset, batch_size=2, shuffle=True, num_workers=0)\n",
    "valid_loader = DataLoader(valid_dataset, batch_size=2, shuffle=False, num_workers=0)\n",
    "\n",
    "best_valid_loss = float(\"inf\")"
   ]
  },
  {
   "cell_type": "code",
   "execution_count": 10,
   "id": "d1812f38",
   "metadata": {},
   "outputs": [
    {
     "name": "stderr",
     "output_type": "stream",
     "text": [
      "                                                                  \r"
     ]
    },
    {
     "name": "stdout",
     "output_type": "stream",
     "text": [
      "Epoch 01 | Time: 0m 44s\n",
      "\tTrain Loss: 0.8483 | Valid Loss: 0.7878\n",
      "\tAccuracy: 0.9661 | F1: 0.2700 | Dice: 0.3129 | Recall: 0.7194 | Precision: 0.2000 | Jaccard: 0.1670\n",
      "Best Green_Custom_Focal_Tversky_Full Saved\n"
     ]
    },
    {
     "name": "stderr",
     "output_type": "stream",
     "text": [
      "                                                                  \r"
     ]
    },
    {
     "name": "stdout",
     "output_type": "stream",
     "text": [
      "Epoch 02 | Time: 0m 43s\n",
      "\tTrain Loss: 0.7080 | Valid Loss: 0.6926\n",
      "\tAccuracy: 0.9788 | F1: 0.3365 | Dice: 0.3791 | Recall: 0.5819 | Precision: 0.2811 | Jaccard: 0.2121\n",
      "Best Green_Custom_Focal_Tversky_Full Saved\n"
     ]
    },
    {
     "name": "stderr",
     "output_type": "stream",
     "text": [
      "                                                                  \r"
     ]
    },
    {
     "name": "stdout",
     "output_type": "stream",
     "text": [
      "Epoch 03 | Time: 0m 43s\n",
      "\tTrain Loss: 0.5545 | Valid Loss: 0.5863\n",
      "\tAccuracy: 0.9840 | F1: 0.3769 | Dice: 0.4137 | Recall: 0.5058 | Precision: 0.3499 | Jaccard: 0.2442\n",
      "Best Green_Custom_Focal_Tversky_Full Saved\n"
     ]
    },
    {
     "name": "stderr",
     "output_type": "stream",
     "text": [
      "                                                                  \r"
     ]
    },
    {
     "name": "stdout",
     "output_type": "stream",
     "text": [
      "Epoch 04 | Time: 0m 43s\n",
      "\tTrain Loss: 0.4424 | Valid Loss: 0.5341\n",
      "\tAccuracy: 0.9871 | F1: 0.4117 | Dice: 0.4366 | Recall: 0.4192 | Precision: 0.4556 | Jaccard: 0.2723\n",
      "Best Green_Custom_Focal_Tversky_Full Saved\n"
     ]
    },
    {
     "name": "stderr",
     "output_type": "stream",
     "text": [
      "                                                                  \r"
     ]
    },
    {
     "name": "stdout",
     "output_type": "stream",
     "text": [
      "Epoch 05 | Time: 0m 43s\n",
      "\tTrain Loss: 0.3448 | Valid Loss: 0.4924\n",
      "\tAccuracy: 0.9873 | F1: 0.4250 | Dice: 0.4472 | Recall: 0.4233 | Precision: 0.4739 | Jaccard: 0.2804\n",
      "Best Green_Custom_Focal_Tversky_Full Saved\n"
     ]
    },
    {
     "name": "stderr",
     "output_type": "stream",
     "text": [
      "                                                                  \r"
     ]
    },
    {
     "name": "stdout",
     "output_type": "stream",
     "text": [
      "Epoch 06 | Time: 0m 43s\n",
      "\tTrain Loss: 0.2987 | Valid Loss: 0.4874\n",
      "\tAccuracy: 0.9859 | F1: 0.4033 | Dice: 0.4254 | Recall: 0.4667 | Precision: 0.3908 | Jaccard: 0.2746\n",
      "Best Green_Custom_Focal_Tversky_Full Saved\n"
     ]
    },
    {
     "name": "stderr",
     "output_type": "stream",
     "text": [
      "                                                                  \r"
     ]
    },
    {
     "name": "stdout",
     "output_type": "stream",
     "text": [
      "Epoch 07 | Time: 0m 43s\n",
      "\tTrain Loss: 0.2557 | Valid Loss: 0.5232\n",
      "\tAccuracy: 0.9881 | F1: 0.3929 | Dice: 0.4007 | Recall: 0.3544 | Precision: 0.4608 | Jaccard: 0.2679\n"
     ]
    },
    {
     "name": "stderr",
     "output_type": "stream",
     "text": [
      "                                                                  \r"
     ]
    },
    {
     "name": "stdout",
     "output_type": "stream",
     "text": [
      "Epoch 08 | Time: 0m 43s\n",
      "\tTrain Loss: 0.2238 | Valid Loss: 0.4783\n",
      "\tAccuracy: 0.9869 | F1: 0.4187 | Dice: 0.4398 | Recall: 0.4823 | Precision: 0.4042 | Jaccard: 0.2858\n",
      "Best Green_Custom_Focal_Tversky_Full Saved\n"
     ]
    },
    {
     "name": "stderr",
     "output_type": "stream",
     "text": [
      "                                                                  \r"
     ]
    },
    {
     "name": "stdout",
     "output_type": "stream",
     "text": [
      "Epoch 09 | Time: 0m 43s\n",
      "\tTrain Loss: 0.1971 | Valid Loss: 0.4416\n",
      "\tAccuracy: 0.9880 | F1: 0.4377 | Dice: 0.4511 | Recall: 0.4404 | Precision: 0.4623 | Jaccard: 0.3009\n",
      "Best Green_Custom_Focal_Tversky_Full Saved\n"
     ]
    },
    {
     "name": "stderr",
     "output_type": "stream",
     "text": [
      "                                                                  \r"
     ]
    },
    {
     "name": "stdout",
     "output_type": "stream",
     "text": [
      "Epoch 10 | Time: 0m 43s\n",
      "\tTrain Loss: 0.1810 | Valid Loss: 0.4294\n",
      "\tAccuracy: 0.9879 | F1: 0.4474 | Dice: 0.4671 | Recall: 0.4518 | Precision: 0.4836 | Jaccard: 0.3044\n",
      "Best Green_Custom_Focal_Tversky_Full Saved\n"
     ]
    },
    {
     "name": "stderr",
     "output_type": "stream",
     "text": [
      "                                                                  \r"
     ]
    },
    {
     "name": "stdout",
     "output_type": "stream",
     "text": [
      "Epoch 11 | Time: 0m 43s\n",
      "\tTrain Loss: 0.1599 | Valid Loss: 0.5225\n",
      "\tAccuracy: 0.9882 | F1: 0.4100 | Dice: 0.4212 | Recall: 0.3447 | Precision: 0.5411 | Jaccard: 0.2731\n"
     ]
    },
    {
     "name": "stderr",
     "output_type": "stream",
     "text": [
      "                                                                  \r"
     ]
    },
    {
     "name": "stdout",
     "output_type": "stream",
     "text": [
      "Epoch 12 | Time: 0m 43s\n",
      "\tTrain Loss: 0.1592 | Valid Loss: 0.3886\n",
      "\tAccuracy: 0.9880 | F1: 0.4601 | Dice: 0.4859 | Recall: 0.5301 | Precision: 0.4485 | Jaccard: 0.3152\n",
      "Best Green_Custom_Focal_Tversky_Full Saved\n"
     ]
    },
    {
     "name": "stderr",
     "output_type": "stream",
     "text": [
      "                                                                  \r"
     ]
    },
    {
     "name": "stdout",
     "output_type": "stream",
     "text": [
      "Epoch 13 | Time: 0m 43s\n",
      "\tTrain Loss: 0.1515 | Valid Loss: 0.4377\n",
      "\tAccuracy: 0.9872 | F1: 0.4393 | Dice: 0.4592 | Recall: 0.4789 | Precision: 0.4411 | Jaccard: 0.2986\n"
     ]
    },
    {
     "name": "stderr",
     "output_type": "stream",
     "text": [
      "                                                                  \r"
     ]
    },
    {
     "name": "stdout",
     "output_type": "stream",
     "text": [
      "Epoch 14 | Time: 0m 43s\n",
      "\tTrain Loss: 0.1400 | Valid Loss: 0.4277\n",
      "\tAccuracy: 0.9874 | F1: 0.4507 | Dice: 0.4720 | Recall: 0.5184 | Precision: 0.4333 | Jaccard: 0.3105\n"
     ]
    },
    {
     "name": "stderr",
     "output_type": "stream",
     "text": [
      "                                                                  \r"
     ]
    },
    {
     "name": "stdout",
     "output_type": "stream",
     "text": [
      "Epoch 15 | Time: 0m 43s\n",
      "\tTrain Loss: 0.1456 | Valid Loss: 0.4283\n",
      "\tAccuracy: 0.9884 | F1: 0.4506 | Dice: 0.4613 | Recall: 0.4607 | Precision: 0.4620 | Jaccard: 0.3073\n"
     ]
    },
    {
     "name": "stderr",
     "output_type": "stream",
     "text": [
      "                                                                  \r"
     ]
    },
    {
     "name": "stdout",
     "output_type": "stream",
     "text": [
      "Epoch 16 | Time: 0m 43s\n",
      "\tTrain Loss: 0.1189 | Valid Loss: 0.4552\n",
      "\tAccuracy: 0.9867 | F1: 0.4279 | Dice: 0.4469 | Recall: 0.4759 | Precision: 0.4212 | Jaccard: 0.2935\n"
     ]
    },
    {
     "name": "stderr",
     "output_type": "stream",
     "text": [
      "                                                                  \r"
     ]
    },
    {
     "name": "stdout",
     "output_type": "stream",
     "text": [
      "Epoch 17 | Time: 0m 43s\n",
      "\tTrain Loss: 0.1375 | Valid Loss: 0.4504\n",
      "\tAccuracy: 0.9883 | F1: 0.4525 | Dice: 0.4726 | Recall: 0.4628 | Precision: 0.4829 | Jaccard: 0.3132\n"
     ]
    },
    {
     "name": "stderr",
     "output_type": "stream",
     "text": [
      "                                                                  \r"
     ]
    },
    {
     "name": "stdout",
     "output_type": "stream",
     "text": [
      "Epoch 18 | Time: 0m 44s\n",
      "\tTrain Loss: 0.1135 | Valid Loss: 0.3700\n",
      "\tAccuracy: 0.9883 | F1: 0.4800 | Dice: 0.4941 | Recall: 0.4548 | Precision: 0.5409 | Jaccard: 0.3272\n",
      "Best Green_Custom_Focal_Tversky_Full Saved\n"
     ]
    },
    {
     "name": "stderr",
     "output_type": "stream",
     "text": [
      "                                                                  \r"
     ]
    },
    {
     "name": "stdout",
     "output_type": "stream",
     "text": [
      "Epoch 19 | Time: 0m 43s\n",
      "\tTrain Loss: 0.1221 | Valid Loss: 0.3977\n",
      "\tAccuracy: 0.9880 | F1: 0.4607 | Dice: 0.4783 | Recall: 0.5030 | Precision: 0.4560 | Jaccard: 0.3179\n"
     ]
    },
    {
     "name": "stderr",
     "output_type": "stream",
     "text": [
      "                                                                  \r"
     ]
    },
    {
     "name": "stdout",
     "output_type": "stream",
     "text": [
      "Epoch 20 | Time: 0m 45s\n",
      "\tTrain Loss: 0.1076 | Valid Loss: 0.3847\n",
      "\tAccuracy: 0.9870 | F1: 0.4474 | Dice: 0.4760 | Recall: 0.5202 | Precision: 0.4386 | Jaccard: 0.3043\n"
     ]
    },
    {
     "name": "stderr",
     "output_type": "stream",
     "text": [
      "                                                                  \r"
     ]
    },
    {
     "name": "stdout",
     "output_type": "stream",
     "text": [
      "Epoch 21 | Time: 0m 45s\n",
      "\tTrain Loss: 0.0967 | Valid Loss: 0.4480\n",
      "\tAccuracy: 0.9883 | F1: 0.4428 | Dice: 0.4675 | Recall: 0.4496 | Precision: 0.4869 | Jaccard: 0.3036\n"
     ]
    },
    {
     "name": "stderr",
     "output_type": "stream",
     "text": [
      "                                                                  \r"
     ]
    },
    {
     "name": "stdout",
     "output_type": "stream",
     "text": [
      "Epoch 22 | Time: 0m 45s\n",
      "\tTrain Loss: 0.0966 | Valid Loss: 0.4253\n",
      "\tAccuracy: 0.9869 | F1: 0.4514 | Dice: 0.4757 | Recall: 0.5626 | Precision: 0.4120 | Jaccard: 0.3160\n"
     ]
    },
    {
     "name": "stderr",
     "output_type": "stream",
     "text": [
      "                                                                  \r"
     ]
    },
    {
     "name": "stdout",
     "output_type": "stream",
     "text": [
      "Epoch 23 | Time: 0m 45s\n",
      "\tTrain Loss: 0.1049 | Valid Loss: 0.4654\n",
      "\tAccuracy: 0.9876 | F1: 0.4323 | Dice: 0.4515 | Recall: 0.4416 | Precision: 0.4619 | Jaccard: 0.2974\n"
     ]
    },
    {
     "name": "stderr",
     "output_type": "stream",
     "text": [
      "                                                                  \r"
     ]
    },
    {
     "name": "stdout",
     "output_type": "stream",
     "text": [
      "Epoch 24 | Time: 0m 44s\n",
      "\tTrain Loss: 0.0930 | Valid Loss: 0.4261\n",
      "\tAccuracy: 0.9879 | F1: 0.4544 | Dice: 0.4761 | Recall: 0.5094 | Precision: 0.4469 | Jaccard: 0.3157\n"
     ]
    },
    {
     "name": "stderr",
     "output_type": "stream",
     "text": [
      "                                                                  \r"
     ]
    },
    {
     "name": "stdout",
     "output_type": "stream",
     "text": [
      "Epoch 25 | Time: 0m 44s\n",
      "\tTrain Loss: 0.0774 | Valid Loss: 0.4399\n",
      "\tAccuracy: 0.9885 | F1: 0.4477 | Dice: 0.4705 | Recall: 0.4565 | Precision: 0.4853 | Jaccard: 0.3087\n"
     ]
    },
    {
     "name": "stderr",
     "output_type": "stream",
     "text": [
      "                                                                  \r"
     ]
    },
    {
     "name": "stdout",
     "output_type": "stream",
     "text": [
      "Epoch 26 | Time: 0m 44s\n",
      "\tTrain Loss: 0.0744 | Valid Loss: 0.4311\n",
      "\tAccuracy: 0.9886 | F1: 0.4568 | Dice: 0.4799 | Recall: 0.4805 | Precision: 0.4794 | Jaccard: 0.3172\n"
     ]
    },
    {
     "name": "stderr",
     "output_type": "stream",
     "text": [
      "                                                                  \r"
     ]
    },
    {
     "name": "stdout",
     "output_type": "stream",
     "text": [
      "Epoch 27 | Time: 0m 44s\n",
      "\tTrain Loss: 0.0719 | Valid Loss: 0.4350\n",
      "\tAccuracy: 0.9885 | F1: 0.4528 | Dice: 0.4763 | Recall: 0.4691 | Precision: 0.4837 | Jaccard: 0.3130\n"
     ]
    },
    {
     "name": "stderr",
     "output_type": "stream",
     "text": [
      "                                                                  \r"
     ]
    },
    {
     "name": "stdout",
     "output_type": "stream",
     "text": [
      "Epoch 28 | Time: 0m 43s\n",
      "\tTrain Loss: 0.0708 | Valid Loss: 0.4388\n",
      "\tAccuracy: 0.9883 | F1: 0.4484 | Dice: 0.4714 | Recall: 0.4715 | Precision: 0.4712 | Jaccard: 0.3086\n"
     ]
    },
    {
     "name": "stderr",
     "output_type": "stream",
     "text": [
      "                                                                  \r"
     ]
    },
    {
     "name": "stdout",
     "output_type": "stream",
     "text": [
      "Epoch 29 | Time: 0m 43s\n",
      "\tTrain Loss: 0.0696 | Valid Loss: 0.4236\n",
      "\tAccuracy: 0.9884 | F1: 0.4596 | Dice: 0.4862 | Recall: 0.4936 | Precision: 0.4791 | Jaccard: 0.3178\n"
     ]
    },
    {
     "name": "stderr",
     "output_type": "stream",
     "text": [
      "                                                                  \r"
     ]
    },
    {
     "name": "stdout",
     "output_type": "stream",
     "text": [
      "Epoch 30 | Time: 0m 43s\n",
      "\tTrain Loss: 0.0682 | Valid Loss: 0.4213\n",
      "\tAccuracy: 0.9884 | F1: 0.4621 | Dice: 0.4877 | Recall: 0.4997 | Precision: 0.4763 | Jaccard: 0.3195\n"
     ]
    },
    {
     "name": "stderr",
     "output_type": "stream",
     "text": [
      "                                                                  \r"
     ]
    },
    {
     "name": "stdout",
     "output_type": "stream",
     "text": [
      "Epoch 31 | Time: 0m 42s\n",
      "\tTrain Loss: 0.0669 | Valid Loss: 0.4320\n",
      "\tAccuracy: 0.9885 | F1: 0.4549 | Dice: 0.4791 | Recall: 0.4794 | Precision: 0.4787 | Jaccard: 0.3137\n"
     ]
    },
    {
     "name": "stderr",
     "output_type": "stream",
     "text": [
      "                                                                  \r"
     ]
    },
    {
     "name": "stdout",
     "output_type": "stream",
     "text": [
      "Epoch 32 | Time: 0m 42s\n",
      "\tTrain Loss: 0.0666 | Valid Loss: 0.4254\n",
      "\tAccuracy: 0.9885 | F1: 0.4610 | Dice: 0.4865 | Recall: 0.4910 | Precision: 0.4821 | Jaccard: 0.3192\n"
     ]
    },
    {
     "name": "stderr",
     "output_type": "stream",
     "text": [
      "                                                                  \r"
     ]
    },
    {
     "name": "stdout",
     "output_type": "stream",
     "text": [
      "Epoch 33 | Time: 0m 42s\n",
      "\tTrain Loss: 0.0667 | Valid Loss: 0.4269\n",
      "\tAccuracy: 0.9885 | F1: 0.4587 | Dice: 0.4835 | Recall: 0.4847 | Precision: 0.4823 | Jaccard: 0.3170\n"
     ]
    },
    {
     "name": "stderr",
     "output_type": "stream",
     "text": [
      "                                                                  \r"
     ]
    },
    {
     "name": "stdout",
     "output_type": "stream",
     "text": [
      "Epoch 34 | Time: 0m 42s\n",
      "\tTrain Loss: 0.0667 | Valid Loss: 0.4360\n",
      "\tAccuracy: 0.9883 | F1: 0.4495 | Dice: 0.4735 | Recall: 0.4782 | Precision: 0.4690 | Jaccard: 0.3093\n"
     ]
    },
    {
     "name": "stderr",
     "output_type": "stream",
     "text": [
      "                                                                  \r"
     ]
    },
    {
     "name": "stdout",
     "output_type": "stream",
     "text": [
      "Epoch 35 | Time: 0m 42s\n",
      "\tTrain Loss: 0.0663 | Valid Loss: 0.4372\n",
      "\tAccuracy: 0.9884 | F1: 0.4487 | Dice: 0.4740 | Recall: 0.4622 | Precision: 0.4863 | Jaccard: 0.3082\n"
     ]
    },
    {
     "name": "stderr",
     "output_type": "stream",
     "text": [
      "                                                                  \r"
     ]
    },
    {
     "name": "stdout",
     "output_type": "stream",
     "text": [
      "Epoch 36 | Time: 0m 42s\n",
      "\tTrain Loss: 0.0662 | Valid Loss: 0.4400\n",
      "\tAccuracy: 0.9885 | F1: 0.4487 | Dice: 0.4720 | Recall: 0.4591 | Precision: 0.4856 | Jaccard: 0.3093\n"
     ]
    },
    {
     "name": "stderr",
     "output_type": "stream",
     "text": [
      "                                                                  \r"
     ]
    },
    {
     "name": "stdout",
     "output_type": "stream",
     "text": [
      "Epoch 37 | Time: 0m 42s\n",
      "\tTrain Loss: 0.0658 | Valid Loss: 0.4344\n",
      "\tAccuracy: 0.9885 | F1: 0.4538 | Dice: 0.4765 | Recall: 0.4725 | Precision: 0.4806 | Jaccard: 0.3134\n"
     ]
    },
    {
     "name": "stderr",
     "output_type": "stream",
     "text": [
      "                                                                  \r"
     ]
    },
    {
     "name": "stdout",
     "output_type": "stream",
     "text": [
      "Epoch 38 | Time: 0m 43s\n",
      "\tTrain Loss: 0.0665 | Valid Loss: 0.4323\n",
      "\tAccuracy: 0.9885 | F1: 0.4553 | Dice: 0.4792 | Recall: 0.4802 | Precision: 0.4782 | Jaccard: 0.3146\n"
     ]
    },
    {
     "name": "stderr",
     "output_type": "stream",
     "text": [
      "                                                                  \r"
     ]
    },
    {
     "name": "stdout",
     "output_type": "stream",
     "text": [
      "Epoch 39 | Time: 0m 42s\n",
      "\tTrain Loss: 0.0659 | Valid Loss: 0.4307\n",
      "\tAccuracy: 0.9883 | F1: 0.4549 | Dice: 0.4786 | Recall: 0.4927 | Precision: 0.4652 | Jaccard: 0.3131\n"
     ]
    },
    {
     "name": "stderr",
     "output_type": "stream",
     "text": [
      "                                                                  \r"
     ]
    },
    {
     "name": "stdout",
     "output_type": "stream",
     "text": [
      "Epoch 40 | Time: 0m 42s\n",
      "\tTrain Loss: 0.0665 | Valid Loss: 0.4391\n",
      "\tAccuracy: 0.9884 | F1: 0.4483 | Dice: 0.4708 | Recall: 0.4698 | Precision: 0.4717 | Jaccard: 0.3080\n"
     ]
    },
    {
     "name": "stderr",
     "output_type": "stream",
     "text": [
      "                                                                  \r"
     ]
    },
    {
     "name": "stdout",
     "output_type": "stream",
     "text": [
      "Epoch 41 | Time: 0m 42s\n",
      "\tTrain Loss: 0.0658 | Valid Loss: 0.4381\n",
      "\tAccuracy: 0.9883 | F1: 0.4494 | Dice: 0.4713 | Recall: 0.4778 | Precision: 0.4650 | Jaccard: 0.3090\n"
     ]
    },
    {
     "name": "stderr",
     "output_type": "stream",
     "text": [
      "                                                                  \r"
     ]
    },
    {
     "name": "stdout",
     "output_type": "stream",
     "text": [
      "Epoch 42 | Time: 0m 42s\n",
      "\tTrain Loss: 0.0657 | Valid Loss: 0.4334\n",
      "\tAccuracy: 0.9883 | F1: 0.4524 | Dice: 0.4756 | Recall: 0.4826 | Precision: 0.4687 | Jaccard: 0.3112\n"
     ]
    },
    {
     "name": "stderr",
     "output_type": "stream",
     "text": [
      "                                                                  \r"
     ]
    },
    {
     "name": "stdout",
     "output_type": "stream",
     "text": [
      "Epoch 43 | Time: 0m 42s\n",
      "\tTrain Loss: 0.0657 | Valid Loss: 0.4357\n",
      "\tAccuracy: 0.9883 | F1: 0.4514 | Dice: 0.4740 | Recall: 0.4813 | Precision: 0.4669 | Jaccard: 0.3107\n"
     ]
    },
    {
     "name": "stderr",
     "output_type": "stream",
     "text": [
      "                                                                  \r"
     ]
    },
    {
     "name": "stdout",
     "output_type": "stream",
     "text": [
      "Epoch 44 | Time: 0m 42s\n",
      "\tTrain Loss: 0.0662 | Valid Loss: 0.4392\n",
      "\tAccuracy: 0.9884 | F1: 0.4500 | Dice: 0.4720 | Recall: 0.4713 | Precision: 0.4726 | Jaccard: 0.3097\n"
     ]
    },
    {
     "name": "stderr",
     "output_type": "stream",
     "text": [
      "                                                                  \r"
     ]
    },
    {
     "name": "stdout",
     "output_type": "stream",
     "text": [
      "Epoch 45 | Time: 0m 42s\n",
      "\tTrain Loss: 0.0660 | Valid Loss: 0.4448\n",
      "\tAccuracy: 0.9884 | F1: 0.4435 | Dice: 0.4652 | Recall: 0.4583 | Precision: 0.4722 | Jaccard: 0.3043\n"
     ]
    },
    {
     "name": "stderr",
     "output_type": "stream",
     "text": [
      "                                                                  \r"
     ]
    },
    {
     "name": "stdout",
     "output_type": "stream",
     "text": [
      "Epoch 46 | Time: 0m 42s\n",
      "\tTrain Loss: 0.0657 | Valid Loss: 0.4377\n",
      "\tAccuracy: 0.9884 | F1: 0.4481 | Dice: 0.4726 | Recall: 0.4690 | Precision: 0.4763 | Jaccard: 0.3071\n"
     ]
    },
    {
     "name": "stderr",
     "output_type": "stream",
     "text": [
      "                                                                  \r"
     ]
    },
    {
     "name": "stdout",
     "output_type": "stream",
     "text": [
      "Epoch 47 | Time: 0m 42s\n",
      "\tTrain Loss: 0.0658 | Valid Loss: 0.4396\n",
      "\tAccuracy: 0.9883 | F1: 0.4484 | Dice: 0.4703 | Recall: 0.4763 | Precision: 0.4645 | Jaccard: 0.3080\n"
     ]
    },
    {
     "name": "stderr",
     "output_type": "stream",
     "text": [
      "                                                                  \r"
     ]
    },
    {
     "name": "stdout",
     "output_type": "stream",
     "text": [
      "Epoch 48 | Time: 0m 42s\n",
      "\tTrain Loss: 0.0658 | Valid Loss: 0.4376\n",
      "\tAccuracy: 0.9884 | F1: 0.4494 | Dice: 0.4726 | Recall: 0.4713 | Precision: 0.4739 | Jaccard: 0.3091\n"
     ]
    },
    {
     "name": "stderr",
     "output_type": "stream",
     "text": [
      "                                                                  \r"
     ]
    },
    {
     "name": "stdout",
     "output_type": "stream",
     "text": [
      "Epoch 49 | Time: 0m 42s\n",
      "\tTrain Loss: 0.0656 | Valid Loss: 0.4330\n",
      "\tAccuracy: 0.9884 | F1: 0.4531 | Dice: 0.4785 | Recall: 0.4784 | Precision: 0.4787 | Jaccard: 0.3120\n"
     ]
    },
    {
     "name": "stderr",
     "output_type": "stream",
     "text": [
      "                                                                  "
     ]
    },
    {
     "name": "stdout",
     "output_type": "stream",
     "text": [
      "Epoch 50 | Time: 0m 42s\n",
      "\tTrain Loss: 0.0656 | Valid Loss: 0.4337\n",
      "\tAccuracy: 0.9884 | F1: 0.4526 | Dice: 0.4765 | Recall: 0.4766 | Precision: 0.4764 | Jaccard: 0.3118\n"
     ]
    },
    {
     "name": "stderr",
     "output_type": "stream",
     "text": [
      "\r"
     ]
    }
   ],
   "source": [
    "for epoch in range(50):\n",
    "    start = time.time()\n",
    "    train_loss = train(model, train_loader, optimizer, loss_fn, device)\n",
    "    valid_loss = evaluate(model, valid_loader, loss_fn, device)\n",
    "    scheduler.step(valid_loss)\n",
    "\n",
    "    model.eval()\n",
    "    valid_metrics = [0.0] * 5\n",
    "    with torch.no_grad():\n",
    "        for x_val, y_val, _ in tqdm(valid_loader, desc=\"Calculating Metrics\", leave=False):\n",
    "            x_val, y_val = x_val.to(device), y_val.to(device)\n",
    "            y_pred = model(x_val)\n",
    "            valid_metrics = list(map(add, valid_metrics, calculate_metrics(y_val, y_pred)))\n",
    "\n",
    "    metrics_avg = [m / len(valid_loader) for m in valid_metrics]\n",
    "    jaccard, f1, recall, precision, accuracy = metrics_avg\n",
    "    dice = (2 * precision * recall) / (precision + recall + 1e-7)\n",
    "\n",
    "    mins, secs = epoch_time(start, time.time())\n",
    "    print(f\"Epoch {epoch+1:02} | Time: {mins}m {secs}s\")\n",
    "    print(f\"\\tTrain Loss: {train_loss:.4f} | Valid Loss: {valid_loss:.4f}\")\n",
    "    print(f\"\\tAccuracy: {accuracy:.4f} | F1: {f1:.4f} | Dice: {dice:.4f} | Recall: {recall:.4f} | Precision: {precision:.4f} | Jaccard: {jaccard:.4f}\")\n",
    "    \n",
    "    if valid_loss < best_valid_loss:\n",
    "        best_valid_loss = valid_loss  \n",
    "        torch.save(model.state_dict(), f\"{MODEL_DIRECTORY}/{MODEL_NAME}.pth\")\n",
    "        print(f\"Best {MODEL_NAME} Saved\")"
   ]
  },
  {
   "cell_type": "code",
   "execution_count": 11,
   "id": "66af66c0",
   "metadata": {},
   "outputs": [
    {
     "name": "stderr",
     "output_type": "stream",
     "text": [
      "Testing: 100%|██████████| 14/14 [00:05<00:00,  2.66it/s]"
     ]
    },
    {
     "name": "stdout",
     "output_type": "stream",
     "text": [
      "Jaccard: 0.3965, F1: 0.5622, Recall: 0.5737, Precision: 0.5859, Accuracy: 0.9912\n",
      "FPS: 243.50802635780428\n"
     ]
    },
    {
     "name": "stderr",
     "output_type": "stream",
     "text": [
      "\n"
     ]
    }
   ],
   "source": [
    "# Load the best model\n",
    "model.load_state_dict(torch.load(f\"{MODEL_DIRECTORY}/{MODEL_NAME}.pth\", map_location=device))\n",
    "model.eval()\n",
    "\n",
    "# Evaluate on the held-out half of the test set\n",
    "test_loader = DataLoader(test_dataset, batch_size=1, shuffle=False, num_workers=0)\n",
    "metrics_score = [0.0] * 5\n",
    "time_taken = []\n",
    "\n",
    "for x, y, fname in tqdm(test_loader, desc=\"Testing\", total=len(test_loader)):\n",
    "    with torch.no_grad():\n",
    "        x, y = x.to(device), y.to(device)\n",
    "        start = time.time()\n",
    "        pred_y = model(x)\n",
    "        time_taken.append(time.time() - start)\n",
    "        metrics_score = list(map(add, metrics_score, calculate_metrics(y, pred_y)))\n",
    "\n",
    "    # Use green-channel image directly (grayscale)\n",
    "    green_img = (x.cpu().numpy()[0, 0] * 255).astype(np.uint8)  # Shape: [H, W]\n",
    "\n",
    "    # Process ground truth and prediction\n",
    "    mask = (y.cpu().numpy()[0, 0] * 255).astype(np.uint8)\n",
    "    pred = (torch.sigmoid(pred_y).cpu().numpy()[0, 0] > 0.5).astype(np.uint8) * 255\n",
    "\n",
    "    # Convert masks to RGB overlays\n",
    "    mask_img = mask_parse(mask)\n",
    "    pred_img = mask_parse(pred)\n",
    "\n",
    "    # Resize masks to match green image if needed\n",
    "    h, w = green_img.shape\n",
    "    mask_img = cv2.resize(mask_img, (w, h))\n",
    "    pred_img = cv2.resize(pred_img, (w, h))\n",
    "\n",
    "    # Create vertical separator\n",
    "    line = np.ones((h, 10, 3), dtype=np.uint8) * 128\n",
    "\n",
    "    # Convert green image to 3-channel grayscale for compatibility\n",
    "    green_rgb = np.stack([green_img]*3, axis=-1)\n",
    "\n",
    "    # Concatenate images: green | line | mask | line | prediction\n",
    "    result_uint8 = np.concatenate([green_rgb, line, mask_img, line, pred_img], axis=1)\n",
    "\n",
    "    # Safe filename\n",
    "    if isinstance(fname, (list, tuple)):\n",
    "        fname = fname[0]\n",
    "    save_name = os.path.splitext(fname)[0] + \".png\"\n",
    "\n",
    "    # Save image\n",
    "    plt.imsave(f\"{RESULT_DIRECTORY}/{save_name}\", result_uint8)\n",
    "\n",
    "# Final metrics\n",
    "j, f1, r, p, a = [m / len(test_loader) for m in metrics_score]\n",
    "print(f\"Jaccard: {j:.4f}, F1: {f1:.4f}, Recall: {r:.4f}, Precision: {p:.4f}, Accuracy: {a:.4f}\")\n",
    "print(\"FPS:\", 1 / np.mean(time_taken))\n"
   ]
  }
 ],
 "metadata": {
  "kernelspec": {
   "display_name": "Python 3",
   "language": "python",
   "name": "python3"
  },
  "language_info": {
   "codemirror_mode": {
    "name": "ipython",
    "version": 3
   },
   "file_extension": ".py",
   "mimetype": "text/x-python",
   "name": "python",
   "nbconvert_exporter": "python",
   "pygments_lexer": "ipython3",
   "version": "3.12.6"
  }
 },
 "nbformat": 4,
 "nbformat_minor": 5
}
