{
 "cells": [
  {
   "cell_type": "code",
   "execution_count": 1,
   "id": "0e8d7f51",
   "metadata": {},
   "outputs": [],
   "source": [
    "import os\n",
    "import cv2\n",
    "import time\n",
    "import random\n",
    "import numpy as np\n",
    "import matplotlib.pyplot as plt\n",
    "from glob import glob\n",
    "from operator import add\n",
    "from tqdm import tqdm\n",
    "\n",
    "import torch\n",
    "import torch.nn as nn\n",
    "import torch.nn.functional as F\n",
    "from torch.utils.data import Dataset, DataLoader, random_split, Subset\n",
    "from sklearn.metrics import accuracy_score, f1_score, jaccard_score, precision_score, recall_score"
   ]
  },
  {
   "cell_type": "code",
   "execution_count": null,
   "id": "5cdbaaf4",
   "metadata": {},
   "outputs": [],
   "source": [
    "#Utility Functions \n",
    "def seeding(seed):\n",
    "    random.seed(seed)\n",
    "    os.environ[\"PYTHONHASHSEED\"] = str(seed)\n",
    "    np.random.seed(seed)\n",
    "    torch.manual_seed(seed)\n",
    "    torch.cuda.manual_seed(seed)\n",
    "    torch.backends.cudnn.deterministic = True\n",
    "\n",
    "def create_directory(path):\n",
    "    if not os.path.exists(path):\n",
    "        os.makedirs(path)\n",
    "\n",
    "def epoch_time(start_time, end_time):\n",
    "    elapsed_time = end_time - start_time\n",
    "    elapsed_mins = int(elapsed_time / 60)\n",
    "    elapsed_secs = int(elapsed_time - (elapsed_mins * 60))\n",
    "    return elapsed_mins, elapsed_secs"
   ]
  },
  {
   "cell_type": "code",
   "execution_count": null,
   "id": "1e7eb778",
   "metadata": {},
   "outputs": [],
   "source": [
    "# Dataset \n",
    "class RetinalDataset(Dataset):\n",
    "    def __init__(self, images_path, masks_path):\n",
    "        self.images_path = images_path\n",
    "        self.masks_path = masks_path\n",
    "        self.n_samples = len(images_path)\n",
    "\n",
    "    def __getitem__(self, index):\n",
    "        img_path = self.images_path[index]\n",
    "        mask_path = self.masks_path[index]\n",
    "\n",
    "        # Load image in BGR format\n",
    "        image = cv2.imread(img_path, cv2.IMREAD_COLOR)\n",
    "\n",
    "        # Extract only the green channel\n",
    "        green = image[:, :, 1]  # Index 1 = green channel in BGR\n",
    "\n",
    "        # Normalize and convert to tensor\n",
    "        green = green / 255.0\n",
    "        green = np.expand_dims(green, axis=0).astype(np.float32)  # Shape: [1, H, W]\n",
    "        image = torch.from_numpy(green)\n",
    "\n",
    "        # Load and process the mask\n",
    "        mask = cv2.imread(mask_path, cv2.IMREAD_GRAYSCALE)\n",
    "        mask = mask / 255.0\n",
    "        mask = np.expand_dims(mask, axis=0).astype(np.float32)\n",
    "        mask = torch.from_numpy(mask)\n",
    "\n",
    "        # Get the filename\n",
    "        filename = os.path.basename(img_path)\n",
    "\n",
    "        return image, mask, filename\n",
    "    def __len__(self):\n",
    "            return self.n_samples"
   ]
  },
  {
   "cell_type": "code",
   "execution_count": 4,
   "id": "acbded60",
   "metadata": {},
   "outputs": [],
   "source": [
    "class TverskyLoss(nn.Module):\n",
    "    def __init__(self, alpha=0.3, beta=0.7, smooth=1e-6):\n",
    "        super().__init__()\n",
    "        self.alpha = alpha\n",
    "        self.beta = beta\n",
    "        self.smooth = smooth\n",
    "\n",
    "    def forward(self, logits, targets):\n",
    "        probs = torch.sigmoid(logits).view(logits.size(0), -1)\n",
    "        targets = targets.view(targets.size(0), -1)\n",
    "\n",
    "        TP = (probs * targets).sum(dim=1)\n",
    "        FP = (probs * (1 - targets)).sum(dim=1)\n",
    "        FN = ((1 - probs) * targets).sum(dim=1)\n",
    "\n",
    "        tversky = (TP + self.smooth) / (TP + self.alpha * FP + self.beta * FN + self.smooth)\n",
    "        return (1 - tversky).mean()\n",
    "\n"
   ]
  },
  {
   "cell_type": "code",
   "execution_count": 5,
   "id": "6698c92a",
   "metadata": {},
   "outputs": [],
   "source": [
    "class conv_block(nn.Module):\n",
    "    def __init__(self, in_c, out_c):\n",
    "        super().__init__()\n",
    "\n",
    "        self.conv = nn.Sequential(\n",
    "            nn.Conv2d(in_c, out_c, kernel_size=3, padding=1),\n",
    "            nn.BatchNorm2d(out_c),\n",
    "            nn.ReLU(inplace=True),\n",
    "            nn.Conv2d(out_c, out_c, kernel_size=3, padding=1),\n",
    "            nn.BatchNorm2d(out_c),\n",
    "            nn.ReLU(inplace=True)\n",
    "        )\n",
    "\n",
    "    def forward(self, x):\n",
    "        return self.conv(x)\n",
    "\n",
    "class encoder_block(nn.Module):\n",
    "    def __init__(self, in_c, out_c):\n",
    "        super().__init__()\n",
    "\n",
    "        self.conv = conv_block(in_c, out_c)\n",
    "        self.pool = nn.MaxPool2d((2, 2))\n",
    "\n",
    "    def forward(self, x):\n",
    "        s = self.conv(x)\n",
    "        p = self.pool(s)\n",
    "        return s, p\n",
    "\n",
    "class attention_gate(nn.Module):\n",
    "    def __init__(self, in_c, out_c):\n",
    "        super().__init__()\n",
    "\n",
    "        self.Wg = nn.Sequential(\n",
    "            nn.Conv2d(in_c[0], out_c, kernel_size=1, padding=0),\n",
    "            nn.BatchNorm2d(out_c)\n",
    "        )\n",
    "        self.Ws = nn.Sequential(\n",
    "            nn.Conv2d(in_c[1], out_c, kernel_size=1, padding=0),\n",
    "            nn.BatchNorm2d(out_c)\n",
    "        )\n",
    "        self.relu = nn.ReLU(inplace=True)\n",
    "        self.output = nn.Sequential(\n",
    "            nn.Conv2d(out_c, out_c, kernel_size=1, padding=0),\n",
    "            nn.Sigmoid()\n",
    "        )\n",
    "\n",
    "    def forward(self, g, s):\n",
    "        Wg = self.Wg(g)\n",
    "        Ws = self.Ws(s)\n",
    "        out = self.relu(Wg + Ws)\n",
    "        out = self.output(out)\n",
    "        return out * s\n",
    "\n",
    "class decoder_block(nn.Module):\n",
    "    def __init__(self, in_c, out_c):\n",
    "        super().__init__()\n",
    "\n",
    "        self.up = nn.Upsample(scale_factor=2, mode=\"bilinear\", align_corners=True)\n",
    "        self.ag = attention_gate(in_c, out_c)\n",
    "        self.c1 = conv_block(in_c[0]+out_c, out_c)\n",
    "\n",
    "    def forward(self, x, s):\n",
    "        x = self.up(x)\n",
    "        s = self.ag(x, s)\n",
    "        x = torch.cat([x, s], axis=1)\n",
    "        x = self.c1(x)\n",
    "        return x\n",
    "\n",
    "class UNet(nn.Module):\n",
    "    def __init__(self):\n",
    "        super().__init__()\n",
    "\n",
    "        self.e1 = encoder_block(1, 64)\n",
    "        self.e2 = encoder_block(64, 128)\n",
    "        self.e3 = encoder_block(128, 256)\n",
    "        self.e4 = encoder_block(256, 512)\n",
    "\n",
    "        self.b1 = conv_block(512, 1024)\n",
    "\n",
    "        self.d1 = decoder_block([1024, 512], 512)\n",
    "        self.d2 = decoder_block([512, 256], 256)\n",
    "        self.d3 = decoder_block([256, 128], 128)\n",
    "        self.d4 = decoder_block([128, 64], 64)\n",
    "        \n",
    "        self.output = nn.Conv2d(64, 1, kernel_size=1, padding=0)\n",
    "\n",
    "    def forward(self, x):\n",
    "        s1, p1 = self.e1(x)\n",
    "        s2, p2 = self.e2(p1)\n",
    "        s3, p3 = self.e3(p2)\n",
    "        s4, p4 = self.e4(p3)\n",
    "\n",
    "        b1 = self.b1(p4)\n",
    "\n",
    "        d1 = self.d1(b1, s4)\n",
    "        d2 = self.d2(d1, s3)\n",
    "        d3 = self.d3(d2, s2)\n",
    "        d4 = self.d4(d3, s1)\n",
    "\n",
    "        output = self.output(d4)\n",
    "        return output"
   ]
  },
  {
   "cell_type": "code",
   "execution_count": null,
   "id": "50891b35",
   "metadata": {},
   "outputs": [],
   "source": [
    "# Training and Evaluation \n",
    "def train(model, loader, optimizer, loss_fn, device):\n",
    "    model.train()\n",
    "    total_loss = 0\n",
    "    for x, y, _ in tqdm(loader, desc=\"Training\", leave=False):\n",
    "        x, y = x.to(device), y.to(device)\n",
    "        optimizer.zero_grad()\n",
    "        y_pred = model(x)\n",
    "        loss = loss_fn(y_pred, y)\n",
    "        loss.backward()\n",
    "        optimizer.step()\n",
    "        total_loss += loss.item()\n",
    "    return total_loss / len(loader)\n",
    "\n",
    "def evaluate(model, loader, loss_fn, device):\n",
    "    model.eval()\n",
    "    total_loss = 0\n",
    "    with torch.no_grad():\n",
    "        for x, y, _ in tqdm(loader, desc=\"Validating\", leave=False):\n",
    "            x, y = x.to(device), y.to(device)\n",
    "            y_pred = model(x)\n",
    "            loss = loss_fn(y_pred, y)\n",
    "            total_loss += loss.item()\n",
    "    return total_loss / len(loader)\n",
    "\n",
    "def calculate_metrics(y_true, y_pred):\n",
    "    y_true = y_true.cpu().numpy() > 0.5\n",
    "    y_pred = torch.sigmoid(y_pred).cpu().numpy() > 0.5\n",
    "    y_true = y_true.astype(np.uint8).reshape(-1)\n",
    "    y_pred = y_pred.astype(np.uint8).reshape(-1)\n",
    "\n",
    "    return [\n",
    "        jaccard_score(y_true, y_pred, zero_division=0),\n",
    "        f1_score(y_true, y_pred, zero_division=0),\n",
    "        recall_score(y_true, y_pred, zero_division=0),\n",
    "        precision_score(y_true, y_pred, zero_division=0),\n",
    "        accuracy_score(y_true, y_pred)\n",
    "    ]\n",
    "\n",
    "def mask_parse(mask):\n",
    "    mask = np.expand_dims(mask, axis=-1)\n",
    "    return np.concatenate([mask]*3, axis=-1)"
   ]
  },
  {
   "cell_type": "code",
   "execution_count": 7,
   "id": "88bb673e",
   "metadata": {},
   "outputs": [],
   "source": [
    "seeding(42)\n",
    "MODEL_NAME = \"Green_Attention_UNet_Tversky_Full\"\n",
    "MODEL_DIRECTORY = \"Green_Attention_Model_UNet_Tversky_Full\"\n",
    "create_directory(MODEL_DIRECTORY)\n",
    "RESULT_DIRECTORY = \"Green_Attention_Results_UNet_Tversky_Full\"\n",
    "create_directory(RESULT_DIRECTORY)"
   ]
  },
  {
   "cell_type": "code",
   "execution_count": null,
   "id": "752cce2b",
   "metadata": {},
   "outputs": [
    {
     "name": "stderr",
     "output_type": "stream",
     "text": [
      "C:\\Users\\Nayeem\\AppData\\Roaming\\Python\\Python312\\site-packages\\torch\\optim\\lr_scheduler.py:62: UserWarning: The verbose parameter is deprecated. Please use get_last_lr() to access the learning rate.\n",
      "  warnings.warn(\n"
     ]
    }
   ],
   "source": [
    "# load full training set \n",
    "train_images = sorted(glob(\"./final_dataset/train/images/*\"))\n",
    "train_masks  = sorted(glob(\"./final_dataset/train/masks/*\"))\n",
    "train_dataset = RetinalDataset(train_images, train_masks)\n",
    "\n",
    "# load test set and split it 50/50 into validation and test\n",
    "test_images = sorted(glob(\"./final_dataset/test/images/*\"))\n",
    "test_masks  = sorted(glob(\"./final_dataset/test/masks/*\"))\n",
    "full_test_dataset = RetinalDataset(test_images, test_masks)\n",
    "n_val = len(full_test_dataset) // 2\n",
    "n_test = len(full_test_dataset) - n_val\n",
    "valid_dataset, test_dataset = random_split(full_test_dataset, [n_val, n_test])\n",
    "\n",
    "device    = torch.device('cuda' if torch.cuda.is_available() else 'cpu')\n",
    "model     = UNet().to(device)\n",
    "optimizer = torch.optim.Adam(model.parameters(), lr=1e-4)\n",
    "scheduler = torch.optim.lr_scheduler.ReduceLROnPlateau(optimizer, 'min', patience=5, verbose=True)\n",
    "loss_fn   = TverskyLoss()\n",
    "\n",
    "train_loader = DataLoader(train_dataset, batch_size=2, shuffle=True, num_workers=0)\n",
    "valid_loader = DataLoader(valid_dataset, batch_size=2, shuffle=False, num_workers=0)\n",
    "\n",
    "best_valid_loss = float(\"inf\")"
   ]
  },
  {
   "cell_type": "code",
   "execution_count": 9,
   "id": "d1812f38",
   "metadata": {},
   "outputs": [
    {
     "name": "stderr",
     "output_type": "stream",
     "text": [
      "                                                                  \r"
     ]
    },
    {
     "name": "stdout",
     "output_type": "stream",
     "text": [
      "Epoch 01 | Time: 1m 38s\n",
      "\tTrain Loss: 0.9170 | Valid Loss: 0.8940\n",
      "\tAccuracy: 0.9508 | F1: 0.2120 | Dice: 0.2475 | Recall: 0.7041 | Precision: 0.1501 | Jaccard: 0.1283\n",
      "Best Green_Attention_UNet_Tversky_Full Saved\n"
     ]
    },
    {
     "name": "stderr",
     "output_type": "stream",
     "text": [
      "                                                                  \r"
     ]
    },
    {
     "name": "stdout",
     "output_type": "stream",
     "text": [
      "Epoch 02 | Time: 1m 33s\n",
      "\tTrain Loss: 0.8677 | Valid Loss: 0.8537\n",
      "\tAccuracy: 0.9503 | F1: 0.2199 | Dice: 0.2636 | Recall: 0.7378 | Precision: 0.1605 | Jaccard: 0.1341\n",
      "Best Green_Attention_UNet_Tversky_Full Saved\n"
     ]
    },
    {
     "name": "stderr",
     "output_type": "stream",
     "text": [
      "                                                                  \r"
     ]
    },
    {
     "name": "stdout",
     "output_type": "stream",
     "text": [
      "Epoch 03 | Time: 1m 34s\n",
      "\tTrain Loss: 0.8025 | Valid Loss: 0.7938\n",
      "\tAccuracy: 0.9615 | F1: 0.2553 | Dice: 0.2943 | Recall: 0.7247 | Precision: 0.1847 | Jaccard: 0.1604\n",
      "Best Green_Attention_UNet_Tversky_Full Saved\n"
     ]
    },
    {
     "name": "stderr",
     "output_type": "stream",
     "text": [
      "                                                                  \r"
     ]
    },
    {
     "name": "stdout",
     "output_type": "stream",
     "text": [
      "Epoch 04 | Time: 1m 31s\n",
      "\tTrain Loss: 0.7108 | Valid Loss: 0.7452\n",
      "\tAccuracy: 0.9681 | F1: 0.2804 | Dice: 0.3260 | Recall: 0.7189 | Precision: 0.2108 | Jaccard: 0.1767\n",
      "Best Green_Attention_UNet_Tversky_Full Saved\n"
     ]
    },
    {
     "name": "stderr",
     "output_type": "stream",
     "text": [
      "                                                                  \r"
     ]
    },
    {
     "name": "stdout",
     "output_type": "stream",
     "text": [
      "Epoch 05 | Time: 1m 31s\n",
      "\tTrain Loss: 0.6157 | Valid Loss: 0.6514\n",
      "\tAccuracy: 0.9846 | F1: 0.4057 | Dice: 0.4358 | Recall: 0.5285 | Precision: 0.3708 | Jaccard: 0.2662\n",
      "Best Green_Attention_UNet_Tversky_Full Saved\n"
     ]
    },
    {
     "name": "stderr",
     "output_type": "stream",
     "text": [
      "                                                                  \r"
     ]
    },
    {
     "name": "stdout",
     "output_type": "stream",
     "text": [
      "Epoch 06 | Time: 1m 30s\n",
      "\tTrain Loss: 0.5568 | Valid Loss: 0.6171\n",
      "\tAccuracy: 0.9867 | F1: 0.4352 | Dice: 0.4609 | Recall: 0.4920 | Precision: 0.4335 | Jaccard: 0.2909\n",
      "Best Green_Attention_UNet_Tversky_Full Saved\n"
     ]
    },
    {
     "name": "stderr",
     "output_type": "stream",
     "text": [
      "                                                                  \r"
     ]
    },
    {
     "name": "stdout",
     "output_type": "stream",
     "text": [
      "Epoch 07 | Time: 1m 29s\n",
      "\tTrain Loss: 0.4947 | Valid Loss: 0.6573\n",
      "\tAccuracy: 0.9858 | F1: 0.3760 | Dice: 0.3968 | Recall: 0.3462 | Precision: 0.4647 | Jaccard: 0.2405\n"
     ]
    },
    {
     "name": "stderr",
     "output_type": "stream",
     "text": [
      "                                                                  \r"
     ]
    },
    {
     "name": "stdout",
     "output_type": "stream",
     "text": [
      "Epoch 08 | Time: 1m 30s\n",
      "\tTrain Loss: 0.4471 | Valid Loss: 0.5154\n",
      "\tAccuracy: 0.9863 | F1: 0.4782 | Dice: 0.5060 | Recall: 0.6385 | Precision: 0.4190 | Jaccard: 0.3243\n",
      "Best Green_Attention_UNet_Tversky_Full Saved\n"
     ]
    },
    {
     "name": "stderr",
     "output_type": "stream",
     "text": [
      "                                                                  \r"
     ]
    },
    {
     "name": "stdout",
     "output_type": "stream",
     "text": [
      "Epoch 09 | Time: 1m 26s\n",
      "\tTrain Loss: 0.4195 | Valid Loss: 0.5629\n",
      "\tAccuracy: 0.9874 | F1: 0.4507 | Dice: 0.4727 | Recall: 0.4898 | Precision: 0.4568 | Jaccard: 0.3033\n"
     ]
    },
    {
     "name": "stderr",
     "output_type": "stream",
     "text": [
      "                                                                  \r"
     ]
    },
    {
     "name": "stdout",
     "output_type": "stream",
     "text": [
      "Epoch 10 | Time: 1m 26s\n",
      "\tTrain Loss: 0.3889 | Valid Loss: 0.5442\n",
      "\tAccuracy: 0.9869 | F1: 0.4439 | Dice: 0.4592 | Recall: 0.5383 | Precision: 0.4004 | Jaccard: 0.3021\n"
     ]
    },
    {
     "name": "stderr",
     "output_type": "stream",
     "text": [
      "                                                                  \r"
     ]
    },
    {
     "name": "stdout",
     "output_type": "stream",
     "text": [
      "Epoch 11 | Time: 1m 26s\n",
      "\tTrain Loss: 0.3924 | Valid Loss: 0.5087\n",
      "\tAccuracy: 0.9863 | F1: 0.4694 | Dice: 0.4922 | Recall: 0.6292 | Precision: 0.4043 | Jaccard: 0.3181\n",
      "Best Green_Attention_UNet_Tversky_Full Saved\n"
     ]
    },
    {
     "name": "stderr",
     "output_type": "stream",
     "text": [
      "                                                                  \r"
     ]
    },
    {
     "name": "stdout",
     "output_type": "stream",
     "text": [
      "Epoch 12 | Time: 1m 25s\n",
      "\tTrain Loss: 0.3615 | Valid Loss: 0.5195\n",
      "\tAccuracy: 0.9876 | F1: 0.4951 | Dice: 0.5068 | Recall: 0.5905 | Precision: 0.4439 | Jaccard: 0.3435\n"
     ]
    },
    {
     "name": "stderr",
     "output_type": "stream",
     "text": [
      "                                                                  \r"
     ]
    },
    {
     "name": "stdout",
     "output_type": "stream",
     "text": [
      "Epoch 13 | Time: 1m 25s\n",
      "\tTrain Loss: 0.3360 | Valid Loss: 0.5584\n",
      "\tAccuracy: 0.9886 | F1: 0.4645 | Dice: 0.4728 | Recall: 0.4416 | Precision: 0.5088 | Jaccard: 0.3218\n"
     ]
    },
    {
     "name": "stderr",
     "output_type": "stream",
     "text": [
      "                                                                  \r"
     ]
    },
    {
     "name": "stdout",
     "output_type": "stream",
     "text": [
      "Epoch 14 | Time: 1m 25s\n",
      "\tTrain Loss: 0.3258 | Valid Loss: 0.5079\n",
      "\tAccuracy: 0.9879 | F1: 0.5268 | Dice: 0.5381 | Recall: 0.5693 | Precision: 0.5102 | Jaccard: 0.3668\n",
      "Best Green_Attention_UNet_Tversky_Full Saved\n"
     ]
    },
    {
     "name": "stderr",
     "output_type": "stream",
     "text": [
      "                                                                  \r"
     ]
    },
    {
     "name": "stdout",
     "output_type": "stream",
     "text": [
      "Epoch 15 | Time: 1m 25s\n",
      "\tTrain Loss: 0.3029 | Valid Loss: 0.5321\n",
      "\tAccuracy: 0.9877 | F1: 0.4924 | Dice: 0.5009 | Recall: 0.5267 | Precision: 0.4775 | Jaccard: 0.3449\n"
     ]
    },
    {
     "name": "stderr",
     "output_type": "stream",
     "text": [
      "                                                                  \r"
     ]
    },
    {
     "name": "stdout",
     "output_type": "stream",
     "text": [
      "Epoch 16 | Time: 1m 30s\n",
      "\tTrain Loss: 0.3127 | Valid Loss: 0.4809\n",
      "\tAccuracy: 0.9872 | F1: 0.4983 | Dice: 0.5200 | Recall: 0.6120 | Precision: 0.4520 | Jaccard: 0.3431\n",
      "Best Green_Attention_UNet_Tversky_Full Saved\n"
     ]
    },
    {
     "name": "stderr",
     "output_type": "stream",
     "text": [
      "                                                                  \r"
     ]
    },
    {
     "name": "stdout",
     "output_type": "stream",
     "text": [
      "Epoch 17 | Time: 1m 31s\n",
      "\tTrain Loss: 0.2972 | Valid Loss: 0.5814\n",
      "\tAccuracy: 0.9883 | F1: 0.4458 | Dice: 0.4539 | Recall: 0.4086 | Precision: 0.5105 | Jaccard: 0.3041\n"
     ]
    },
    {
     "name": "stderr",
     "output_type": "stream",
     "text": [
      "                                                                  \r"
     ]
    },
    {
     "name": "stdout",
     "output_type": "stream",
     "text": [
      "Epoch 18 | Time: 1m 30s\n",
      "\tTrain Loss: 0.2775 | Valid Loss: 0.4889\n",
      "\tAccuracy: 0.9884 | F1: 0.5287 | Dice: 0.5451 | Recall: 0.6109 | Precision: 0.4921 | Jaccard: 0.3694\n"
     ]
    },
    {
     "name": "stderr",
     "output_type": "stream",
     "text": [
      "                                                                  \r"
     ]
    },
    {
     "name": "stdout",
     "output_type": "stream",
     "text": [
      "Epoch 19 | Time: 1m 30s\n",
      "\tTrain Loss: 0.2653 | Valid Loss: 0.4824\n",
      "\tAccuracy: 0.9884 | F1: 0.5346 | Dice: 0.5462 | Recall: 0.6090 | Precision: 0.4951 | Jaccard: 0.3752\n"
     ]
    },
    {
     "name": "stderr",
     "output_type": "stream",
     "text": [
      "                                                                  \r"
     ]
    },
    {
     "name": "stdout",
     "output_type": "stream",
     "text": [
      "Epoch 20 | Time: 1m 30s\n",
      "\tTrain Loss: 0.2507 | Valid Loss: 0.4734\n",
      "\tAccuracy: 0.9889 | F1: 0.5424 | Dice: 0.5561 | Recall: 0.5687 | Precision: 0.5440 | Jaccard: 0.3800\n",
      "Best Green_Attention_UNet_Tversky_Full Saved\n"
     ]
    },
    {
     "name": "stderr",
     "output_type": "stream",
     "text": [
      "                                                                  \r"
     ]
    },
    {
     "name": "stdout",
     "output_type": "stream",
     "text": [
      "Epoch 21 | Time: 1m 30s\n",
      "\tTrain Loss: 0.2618 | Valid Loss: 0.5042\n",
      "\tAccuracy: 0.9873 | F1: 0.5039 | Dice: 0.5275 | Recall: 0.5661 | Precision: 0.4937 | Jaccard: 0.3498\n"
     ]
    },
    {
     "name": "stderr",
     "output_type": "stream",
     "text": [
      "                                                                  \r"
     ]
    },
    {
     "name": "stdout",
     "output_type": "stream",
     "text": [
      "Epoch 22 | Time: 1m 29s\n",
      "\tTrain Loss: 0.2623 | Valid Loss: 0.5252\n",
      "\tAccuracy: 0.9883 | F1: 0.4897 | Dice: 0.4995 | Recall: 0.4794 | Precision: 0.5212 | Jaccard: 0.3359\n"
     ]
    },
    {
     "name": "stderr",
     "output_type": "stream",
     "text": [
      "                                                                  \r"
     ]
    },
    {
     "name": "stdout",
     "output_type": "stream",
     "text": [
      "Epoch 23 | Time: 1m 32s\n",
      "\tTrain Loss: 0.2487 | Valid Loss: 0.5486\n",
      "\tAccuracy: 0.9891 | F1: 0.4846 | Dice: 0.4979 | Recall: 0.4376 | Precision: 0.5775 | Jaccard: 0.3280\n"
     ]
    },
    {
     "name": "stderr",
     "output_type": "stream",
     "text": [
      "                                                                  \r"
     ]
    },
    {
     "name": "stdout",
     "output_type": "stream",
     "text": [
      "Epoch 24 | Time: 1m 30s\n",
      "\tTrain Loss: 0.2475 | Valid Loss: 0.4609\n",
      "\tAccuracy: 0.9878 | F1: 0.5225 | Dice: 0.5528 | Recall: 0.6545 | Precision: 0.4785 | Jaccard: 0.3639\n",
      "Best Green_Attention_UNet_Tversky_Full Saved\n"
     ]
    },
    {
     "name": "stderr",
     "output_type": "stream",
     "text": [
      "                                                                  \r"
     ]
    },
    {
     "name": "stdout",
     "output_type": "stream",
     "text": [
      "Epoch 25 | Time: 1m 28s\n",
      "\tTrain Loss: 0.2535 | Valid Loss: 0.5606\n",
      "\tAccuracy: 0.9861 | F1: 0.4440 | Dice: 0.4694 | Recall: 0.5772 | Precision: 0.3955 | Jaccard: 0.2995\n"
     ]
    },
    {
     "name": "stderr",
     "output_type": "stream",
     "text": [
      "                                                                  \r"
     ]
    },
    {
     "name": "stdout",
     "output_type": "stream",
     "text": [
      "Epoch 26 | Time: 1m 28s\n",
      "\tTrain Loss: 0.2394 | Valid Loss: 0.5096\n",
      "\tAccuracy: 0.9879 | F1: 0.4953 | Dice: 0.5148 | Recall: 0.5594 | Precision: 0.4767 | Jaccard: 0.3432\n"
     ]
    },
    {
     "name": "stderr",
     "output_type": "stream",
     "text": [
      "                                                                  \r"
     ]
    },
    {
     "name": "stdout",
     "output_type": "stream",
     "text": [
      "Epoch 27 | Time: 1m 29s\n",
      "\tTrain Loss: 0.2246 | Valid Loss: 0.4643\n",
      "\tAccuracy: 0.9885 | F1: 0.5593 | Dice: 0.5750 | Recall: 0.6303 | Precision: 0.5286 | Jaccard: 0.3913\n"
     ]
    },
    {
     "name": "stderr",
     "output_type": "stream",
     "text": [
      "                                                                  \r"
     ]
    },
    {
     "name": "stdout",
     "output_type": "stream",
     "text": [
      "Epoch 28 | Time: 1m 30s\n",
      "\tTrain Loss: 0.2304 | Valid Loss: 0.4759\n",
      "\tAccuracy: 0.9882 | F1: 0.5247 | Dice: 0.5407 | Recall: 0.5882 | Precision: 0.5003 | Jaccard: 0.3666\n"
     ]
    },
    {
     "name": "stderr",
     "output_type": "stream",
     "text": [
      "                                                                  \r"
     ]
    },
    {
     "name": "stdout",
     "output_type": "stream",
     "text": [
      "Epoch 29 | Time: 1m 29s\n",
      "\tTrain Loss: 0.2216 | Valid Loss: 0.4994\n",
      "\tAccuracy: 0.9881 | F1: 0.5151 | Dice: 0.5358 | Recall: 0.5859 | Precision: 0.4936 | Jaccard: 0.3556\n"
     ]
    },
    {
     "name": "stderr",
     "output_type": "stream",
     "text": [
      "                                                                  \r"
     ]
    },
    {
     "name": "stdout",
     "output_type": "stream",
     "text": [
      "Epoch 30 | Time: 1m 30s\n",
      "\tTrain Loss: 0.2267 | Valid Loss: 0.5026\n",
      "\tAccuracy: 0.9878 | F1: 0.5205 | Dice: 0.5383 | Recall: 0.6112 | Precision: 0.4809 | Jaccard: 0.3667\n"
     ]
    },
    {
     "name": "stderr",
     "output_type": "stream",
     "text": [
      "                                                                  \r"
     ]
    },
    {
     "name": "stdout",
     "output_type": "stream",
     "text": [
      "Epoch 31 | Time: 1m 30s\n",
      "\tTrain Loss: 0.1984 | Valid Loss: 0.4951\n",
      "\tAccuracy: 0.9886 | F1: 0.5351 | Dice: 0.5551 | Recall: 0.5839 | Precision: 0.5290 | Jaccard: 0.3767\n"
     ]
    },
    {
     "name": "stderr",
     "output_type": "stream",
     "text": [
      "                                                                  \r"
     ]
    },
    {
     "name": "stdout",
     "output_type": "stream",
     "text": [
      "Epoch 32 | Time: 1m 29s\n",
      "\tTrain Loss: 0.1945 | Valid Loss: 0.4936\n",
      "\tAccuracy: 0.9886 | F1: 0.5350 | Dice: 0.5537 | Recall: 0.5783 | Precision: 0.5311 | Jaccard: 0.3745\n"
     ]
    },
    {
     "name": "stderr",
     "output_type": "stream",
     "text": [
      "                                                                  \r"
     ]
    },
    {
     "name": "stdout",
     "output_type": "stream",
     "text": [
      "Epoch 33 | Time: 1m 27s\n",
      "\tTrain Loss: 0.1911 | Valid Loss: 0.4954\n",
      "\tAccuracy: 0.9886 | F1: 0.5313 | Dice: 0.5498 | Recall: 0.5738 | Precision: 0.5278 | Jaccard: 0.3714\n"
     ]
    },
    {
     "name": "stderr",
     "output_type": "stream",
     "text": [
      "                                                                  \r"
     ]
    },
    {
     "name": "stdout",
     "output_type": "stream",
     "text": [
      "Epoch 34 | Time: 1m 28s\n",
      "\tTrain Loss: 0.1873 | Valid Loss: 0.4823\n",
      "\tAccuracy: 0.9886 | F1: 0.5410 | Dice: 0.5631 | Recall: 0.5972 | Precision: 0.5327 | Jaccard: 0.3790\n"
     ]
    },
    {
     "name": "stderr",
     "output_type": "stream",
     "text": [
      "                                                                  \r"
     ]
    },
    {
     "name": "stdout",
     "output_type": "stream",
     "text": [
      "Epoch 35 | Time: 1m 28s\n",
      "\tTrain Loss: 0.1865 | Valid Loss: 0.4807\n",
      "\tAccuracy: 0.9887 | F1: 0.5436 | Dice: 0.5640 | Recall: 0.5918 | Precision: 0.5386 | Jaccard: 0.3802\n"
     ]
    },
    {
     "name": "stderr",
     "output_type": "stream",
     "text": [
      "                                                                  \r"
     ]
    },
    {
     "name": "stdout",
     "output_type": "stream",
     "text": [
      "Epoch 36 | Time: 1m 28s\n",
      "\tTrain Loss: 0.1838 | Valid Loss: 0.4829\n",
      "\tAccuracy: 0.9889 | F1: 0.5483 | Dice: 0.5657 | Recall: 0.5788 | Precision: 0.5532 | Jaccard: 0.3846\n"
     ]
    },
    {
     "name": "stderr",
     "output_type": "stream",
     "text": [
      "                                                                  \r"
     ]
    },
    {
     "name": "stdout",
     "output_type": "stream",
     "text": [
      "Epoch 37 | Time: 1m 28s\n",
      "\tTrain Loss: 0.1813 | Valid Loss: 0.4962\n",
      "\tAccuracy: 0.9888 | F1: 0.5342 | Dice: 0.5510 | Recall: 0.5537 | Precision: 0.5483 | Jaccard: 0.3724\n"
     ]
    },
    {
     "name": "stderr",
     "output_type": "stream",
     "text": [
      "                                                                  \r"
     ]
    },
    {
     "name": "stdout",
     "output_type": "stream",
     "text": [
      "Epoch 38 | Time: 1m 28s\n",
      "\tTrain Loss: 0.1809 | Valid Loss: 0.4753\n",
      "\tAccuracy: 0.9887 | F1: 0.5453 | Dice: 0.5659 | Recall: 0.5980 | Precision: 0.5371 | Jaccard: 0.3819\n"
     ]
    },
    {
     "name": "stderr",
     "output_type": "stream",
     "text": [
      "                                                                  \r"
     ]
    },
    {
     "name": "stdout",
     "output_type": "stream",
     "text": [
      "Epoch 39 | Time: 1m 28s\n",
      "\tTrain Loss: 0.1809 | Valid Loss: 0.4916\n",
      "\tAccuracy: 0.9887 | F1: 0.5356 | Dice: 0.5537 | Recall: 0.5639 | Precision: 0.5439 | Jaccard: 0.3737\n"
     ]
    },
    {
     "name": "stderr",
     "output_type": "stream",
     "text": [
      "                                                                  \r"
     ]
    },
    {
     "name": "stdout",
     "output_type": "stream",
     "text": [
      "Epoch 40 | Time: 1m 28s\n",
      "\tTrain Loss: 0.1806 | Valid Loss: 0.4889\n",
      "\tAccuracy: 0.9889 | F1: 0.5409 | Dice: 0.5587 | Recall: 0.5625 | Precision: 0.5551 | Jaccard: 0.3785\n"
     ]
    },
    {
     "name": "stderr",
     "output_type": "stream",
     "text": [
      "                                                                  \r"
     ]
    },
    {
     "name": "stdout",
     "output_type": "stream",
     "text": [
      "Epoch 41 | Time: 1m 28s\n",
      "\tTrain Loss: 0.1797 | Valid Loss: 0.4839\n",
      "\tAccuracy: 0.9886 | F1: 0.5400 | Dice: 0.5632 | Recall: 0.5950 | Precision: 0.5347 | Jaccard: 0.3774\n"
     ]
    },
    {
     "name": "stderr",
     "output_type": "stream",
     "text": [
      "                                                                  \r"
     ]
    },
    {
     "name": "stdout",
     "output_type": "stream",
     "text": [
      "Epoch 42 | Time: 1m 31s\n",
      "\tTrain Loss: 0.1803 | Valid Loss: 0.4852\n",
      "\tAccuracy: 0.9888 | F1: 0.5413 | Dice: 0.5608 | Recall: 0.5766 | Precision: 0.5458 | Jaccard: 0.3786\n"
     ]
    },
    {
     "name": "stderr",
     "output_type": "stream",
     "text": [
      "                                                                  \r"
     ]
    },
    {
     "name": "stdout",
     "output_type": "stream",
     "text": [
      "Epoch 43 | Time: 1m 31s\n",
      "\tTrain Loss: 0.1793 | Valid Loss: 0.4829\n",
      "\tAccuracy: 0.9887 | F1: 0.5427 | Dice: 0.5628 | Recall: 0.5901 | Precision: 0.5380 | Jaccard: 0.3793\n"
     ]
    },
    {
     "name": "stderr",
     "output_type": "stream",
     "text": [
      "                                                                  \r"
     ]
    },
    {
     "name": "stdout",
     "output_type": "stream",
     "text": [
      "Epoch 44 | Time: 1m 31s\n",
      "\tTrain Loss: 0.1799 | Valid Loss: 0.4943\n",
      "\tAccuracy: 0.9886 | F1: 0.5324 | Dice: 0.5510 | Recall: 0.5630 | Precision: 0.5396 | Jaccard: 0.3707\n"
     ]
    },
    {
     "name": "stderr",
     "output_type": "stream",
     "text": [
      "                                                                  \r"
     ]
    },
    {
     "name": "stdout",
     "output_type": "stream",
     "text": [
      "Epoch 45 | Time: 1m 31s\n",
      "\tTrain Loss: 0.1793 | Valid Loss: 0.4889\n",
      "\tAccuracy: 0.9887 | F1: 0.5346 | Dice: 0.5531 | Recall: 0.5602 | Precision: 0.5462 | Jaccard: 0.3727\n"
     ]
    },
    {
     "name": "stderr",
     "output_type": "stream",
     "text": [
      "                                                                  \r"
     ]
    },
    {
     "name": "stdout",
     "output_type": "stream",
     "text": [
      "Epoch 46 | Time: 1m 31s\n",
      "\tTrain Loss: 0.1803 | Valid Loss: 0.5014\n",
      "\tAccuracy: 0.9889 | F1: 0.5274 | Dice: 0.5434 | Recall: 0.5303 | Precision: 0.5572 | Jaccard: 0.3670\n"
     ]
    },
    {
     "name": "stderr",
     "output_type": "stream",
     "text": [
      "                                                                  \r"
     ]
    },
    {
     "name": "stdout",
     "output_type": "stream",
     "text": [
      "Epoch 47 | Time: 1m 29s\n",
      "\tTrain Loss: 0.1792 | Valid Loss: 0.4842\n",
      "\tAccuracy: 0.9886 | F1: 0.5347 | Dice: 0.5552 | Recall: 0.5799 | Precision: 0.5326 | Jaccard: 0.3727\n"
     ]
    },
    {
     "name": "stderr",
     "output_type": "stream",
     "text": [
      "                                                                  \r"
     ]
    },
    {
     "name": "stdout",
     "output_type": "stream",
     "text": [
      "Epoch 48 | Time: 1m 26s\n",
      "\tTrain Loss: 0.1794 | Valid Loss: 0.4865\n",
      "\tAccuracy: 0.9887 | F1: 0.5376 | Dice: 0.5571 | Recall: 0.5748 | Precision: 0.5404 | Jaccard: 0.3755\n"
     ]
    },
    {
     "name": "stderr",
     "output_type": "stream",
     "text": [
      "                                                                  \r"
     ]
    },
    {
     "name": "stdout",
     "output_type": "stream",
     "text": [
      "Epoch 49 | Time: 1m 26s\n",
      "\tTrain Loss: 0.1798 | Valid Loss: 0.4814\n",
      "\tAccuracy: 0.9887 | F1: 0.5444 | Dice: 0.5660 | Recall: 0.5966 | Precision: 0.5385 | Jaccard: 0.3808\n"
     ]
    },
    {
     "name": "stderr",
     "output_type": "stream",
     "text": [
      "                                                                  "
     ]
    },
    {
     "name": "stdout",
     "output_type": "stream",
     "text": [
      "Epoch 50 | Time: 1m 26s\n",
      "\tTrain Loss: 0.1788 | Valid Loss: 0.4872\n",
      "\tAccuracy: 0.9887 | F1: 0.5354 | Dice: 0.5563 | Recall: 0.5778 | Precision: 0.5364 | Jaccard: 0.3738\n"
     ]
    },
    {
     "name": "stderr",
     "output_type": "stream",
     "text": [
      "\r"
     ]
    }
   ],
   "source": [
    "for epoch in range(50):\n",
    "    start = time.time()\n",
    "    train_loss = train(model, train_loader, optimizer, loss_fn, device)\n",
    "    valid_loss = evaluate(model, valid_loader, loss_fn, device)\n",
    "    scheduler.step(valid_loss)\n",
    "\n",
    "    model.eval()\n",
    "    valid_metrics = [0.0] * 5\n",
    "    with torch.no_grad():\n",
    "        for x_val, y_val, _ in tqdm(valid_loader, desc=\"Calculating Metrics\", leave=False):\n",
    "            x_val, y_val = x_val.to(device), y_val.to(device)\n",
    "            y_pred = model(x_val)\n",
    "            valid_metrics = list(map(add, valid_metrics, calculate_metrics(y_val, y_pred)))\n",
    "\n",
    "    metrics_avg = [m / len(valid_loader) for m in valid_metrics]\n",
    "    jaccard, f1, recall, precision, accuracy = metrics_avg\n",
    "    dice = (2 * precision * recall) / (precision + recall + 1e-7)\n",
    "\n",
    "    mins, secs = epoch_time(start, time.time())\n",
    "    print(f\"Epoch {epoch+1:02} | Time: {mins}m {secs}s\")\n",
    "    print(f\"\\tTrain Loss: {train_loss:.4f} | Valid Loss: {valid_loss:.4f}\")\n",
    "    print(f\"\\tAccuracy: {accuracy:.4f} | F1: {f1:.4f} | Dice: {dice:.4f} | Recall: {recall:.4f} | Precision: {precision:.4f} | Jaccard: {jaccard:.4f}\")\n",
    "    \n",
    "    if valid_loss < best_valid_loss:\n",
    "        best_valid_loss = valid_loss  \n",
    "        torch.save(model.state_dict(), f\"{MODEL_DIRECTORY}/{MODEL_NAME}.pth\")\n",
    "        print(f\"Best {MODEL_NAME} Saved\")"
   ]
  },
  {
   "cell_type": "code",
   "execution_count": 10,
   "id": "66af66c0",
   "metadata": {},
   "outputs": [
    {
     "name": "stderr",
     "output_type": "stream",
     "text": [
      "Testing: 100%|██████████| 14/14 [00:05<00:00,  2.55it/s]"
     ]
    },
    {
     "name": "stdout",
     "output_type": "stream",
     "text": [
      "Jaccard: 0.4198, F1: 0.5813, Recall: 0.7127, Precision: 0.5137, Accuracy: 0.9902\n",
      "FPS: 191.7796894697994\n"
     ]
    },
    {
     "name": "stderr",
     "output_type": "stream",
     "text": [
      "\n"
     ]
    }
   ],
   "source": [
    "# Load the best model\n",
    "model.load_state_dict(torch.load(f\"{MODEL_DIRECTORY}/{MODEL_NAME}.pth\", map_location=device))\n",
    "model.eval()\n",
    "\n",
    "# Evaluate on the held-out half of the test set\n",
    "test_loader = DataLoader(test_dataset, batch_size=1, shuffle=False, num_workers=0)\n",
    "metrics_score = [0.0] * 5\n",
    "time_taken = []\n",
    "\n",
    "for x, y, fname in tqdm(test_loader, desc=\"Testing\", total=len(test_loader)):\n",
    "    with torch.no_grad():\n",
    "        x, y = x.to(device), y.to(device)\n",
    "        start = time.time()\n",
    "        pred_y = model(x)\n",
    "        time_taken.append(time.time() - start)\n",
    "        metrics_score = list(map(add, metrics_score, calculate_metrics(y, pred_y)))\n",
    "\n",
    "    # Use green-channel image directly (grayscale)\n",
    "    green_img = (x.cpu().numpy()[0, 0] * 255).astype(np.uint8)  # Shape: [H, W]\n",
    "\n",
    "    # Process ground truth and prediction\n",
    "    mask = (y.cpu().numpy()[0, 0] * 255).astype(np.uint8)\n",
    "    pred = (torch.sigmoid(pred_y).cpu().numpy()[0, 0] > 0.5).astype(np.uint8) * 255\n",
    "\n",
    "    # Convert masks to RGB overlays\n",
    "    mask_img = mask_parse(mask)\n",
    "    pred_img = mask_parse(pred)\n",
    "\n",
    "    # Resize masks to match green image if needed\n",
    "    h, w = green_img.shape\n",
    "    mask_img = cv2.resize(mask_img, (w, h))\n",
    "    pred_img = cv2.resize(pred_img, (w, h))\n",
    "\n",
    "    # Create vertical separator\n",
    "    line = np.ones((h, 10, 3), dtype=np.uint8) * 128\n",
    "\n",
    "    # Convert green image to 3-channel grayscale for compatibility\n",
    "    green_rgb = np.stack([green_img]*3, axis=-1)\n",
    "\n",
    "    # Concatenate images: green | line | mask | line | prediction\n",
    "    result_uint8 = np.concatenate([green_rgb, line, mask_img, line, pred_img], axis=1)\n",
    "\n",
    "    # Safe filename\n",
    "    if isinstance(fname, (list, tuple)):\n",
    "        fname = fname[0]\n",
    "    save_name = os.path.splitext(fname)[0] + \".png\"\n",
    "\n",
    "    # Save image\n",
    "    plt.imsave(f\"{RESULT_DIRECTORY}/{save_name}\", result_uint8)\n",
    "\n",
    "# Final metrics\n",
    "j, f1, r, p, a = [m / len(test_loader) for m in metrics_score]\n",
    "print(f\"Jaccard: {j:.4f}, F1: {f1:.4f}, Recall: {r:.4f}, Precision: {p:.4f}, Accuracy: {a:.4f}\")\n",
    "print(\"FPS:\", 1 / np.mean(time_taken))\n"
   ]
  }
 ],
 "metadata": {
  "kernelspec": {
   "display_name": "Python 3",
   "language": "python",
   "name": "python3"
  },
  "language_info": {
   "codemirror_mode": {
    "name": "ipython",
    "version": 3
   },
   "file_extension": ".py",
   "mimetype": "text/x-python",
   "name": "python",
   "nbconvert_exporter": "python",
   "pygments_lexer": "ipython3",
   "version": "3.12.6"
  }
 },
 "nbformat": 4,
 "nbformat_minor": 5
}
