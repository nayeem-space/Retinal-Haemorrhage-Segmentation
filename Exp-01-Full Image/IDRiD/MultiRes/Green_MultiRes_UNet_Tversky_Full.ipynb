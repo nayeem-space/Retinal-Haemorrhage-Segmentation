{
 "cells": [
  {
   "cell_type": "code",
   "execution_count": 1,
   "id": "0e8d7f51",
   "metadata": {},
   "outputs": [],
   "source": [
    "import os\n",
    "import cv2\n",
    "import time\n",
    "import random\n",
    "import numpy as np\n",
    "import matplotlib.pyplot as plt\n",
    "from glob import glob\n",
    "from operator import add\n",
    "from tqdm import tqdm\n",
    "\n",
    "import torch\n",
    "import torch.nn as nn\n",
    "import torch.nn.functional as F\n",
    "from torch.utils.data import Dataset, DataLoader, random_split, Subset\n",
    "from sklearn.metrics import accuracy_score, f1_score, jaccard_score, precision_score, recall_score"
   ]
  },
  {
   "cell_type": "code",
   "execution_count": null,
   "id": "5cdbaaf4",
   "metadata": {},
   "outputs": [],
   "source": [
    "# Utility Functions\n",
    "def seeding(seed):\n",
    "    random.seed(seed)\n",
    "    os.environ[\"PYTHONHASHSEED\"] = str(seed)\n",
    "    np.random.seed(seed)\n",
    "    torch.manual_seed(seed)\n",
    "    torch.cuda.manual_seed(seed)\n",
    "    torch.backends.cudnn.deterministic = True\n",
    "\n",
    "def create_directory(path):\n",
    "    if not os.path.exists(path):\n",
    "        os.makedirs(path)\n",
    "\n",
    "def epoch_time(start_time, end_time):\n",
    "    elapsed_time = end_time - start_time\n",
    "    elapsed_mins = int(elapsed_time / 60)\n",
    "    elapsed_secs = int(elapsed_time - (elapsed_mins * 60))\n",
    "    return elapsed_mins, elapsed_secs"
   ]
  },
  {
   "cell_type": "code",
   "execution_count": null,
   "id": "1e7eb778",
   "metadata": {},
   "outputs": [],
   "source": [
    "# Dataset \n",
    "class RetinalDataset(Dataset):\n",
    "    def __init__(self, images_path, masks_path):\n",
    "        self.images_path = images_path\n",
    "        self.masks_path = masks_path\n",
    "        self.n_samples = len(images_path)\n",
    "\n",
    "    def __getitem__(self, index):\n",
    "        img_path = self.images_path[index]\n",
    "        mask_path = self.masks_path[index]\n",
    "\n",
    "        # Load image in BGR format\n",
    "        image = cv2.imread(img_path, cv2.IMREAD_COLOR)\n",
    "\n",
    "        # Extract only the green channel\n",
    "        green = image[:, :, 1]  # Index 1 = green channel in BGR\n",
    "\n",
    "        # Normalize and convert to tensor\n",
    "        green = green / 255.0\n",
    "        green = np.expand_dims(green, axis=0).astype(np.float32)  # Shape: [1, H, W]\n",
    "        image = torch.from_numpy(green)\n",
    "\n",
    "        # Load and process the mask\n",
    "        mask = cv2.imread(mask_path, cv2.IMREAD_GRAYSCALE)\n",
    "        mask = mask / 255.0\n",
    "        mask = np.expand_dims(mask, axis=0).astype(np.float32)\n",
    "        mask = torch.from_numpy(mask)\n",
    "\n",
    "        # Get the filename\n",
    "        filename = os.path.basename(img_path)\n",
    "\n",
    "        return image, mask, filename\n",
    "    def __len__(self):\n",
    "            return self.n_samples"
   ]
  },
  {
   "cell_type": "code",
   "execution_count": 4,
   "id": "acbded60",
   "metadata": {},
   "outputs": [],
   "source": [
    "class TverskyLoss(nn.Module):\n",
    "    def __init__(self, alpha=0.3, beta=0.7, smooth=1e-6):\n",
    "        super().__init__()\n",
    "        self.alpha = alpha\n",
    "        self.beta = beta\n",
    "        self.smooth = smooth\n",
    "\n",
    "    def forward(self, logits, targets):\n",
    "        probs = torch.sigmoid(logits).view(logits.size(0), -1)\n",
    "        targets = targets.view(targets.size(0), -1)\n",
    "\n",
    "        TP = (probs * targets).sum(dim=1)\n",
    "        FP = (probs * (1 - targets)).sum(dim=1)\n",
    "        FN = ((1 - probs) * targets).sum(dim=1)\n",
    "\n",
    "        tversky = (TP + self.smooth) / (TP + self.alpha * FP + self.beta * FN + self.smooth)\n",
    "        return (1 - tversky).mean()\n",
    "\n"
   ]
  },
  {
   "cell_type": "code",
   "execution_count": 5,
   "id": "6698c92a",
   "metadata": {},
   "outputs": [],
   "source": [
    "class conv_block(nn.Module):\n",
    "    def __init__(self, in_c, out_c, kernel_size=3, padding=1, act=True):\n",
    "        super().__init__()\n",
    "\n",
    "        layers = [\n",
    "            nn.Conv2d(in_c, out_c, kernel_size=kernel_size, padding=padding, bias=False),\n",
    "            nn.BatchNorm2d(out_c)\n",
    "        ]\n",
    "        if act == True:\n",
    "            layers.append(nn.ReLU(inplace=True))\n",
    "\n",
    "        self.conv = nn.Sequential(*layers)\n",
    "\n",
    "    def forward(self, x):\n",
    "        return self.conv(x)\n",
    "\n",
    "class multires_block(nn.Module):\n",
    "    def __init__(self, in_c, out_c, alpha=1.67):\n",
    "        super().__init__()\n",
    "\n",
    "        W = out_c * alpha\n",
    "        self.c1 = conv_block(in_c, int(W*0.167))\n",
    "        self.c2 = conv_block(int(W*0.167), int(W*0.333))\n",
    "        self.c3 = conv_block(int(W*0.333), int(W*0.5))\n",
    "\n",
    "        nf = int(W*0.167) + int(W*0.333) + int(W*0.5)\n",
    "        self.b1 = nn.BatchNorm2d(nf)\n",
    "        self.c4 = conv_block(in_c, nf)\n",
    "        self.relu = nn.ReLU(inplace=True)\n",
    "        self.b2 = nn.BatchNorm2d(nf)\n",
    "\n",
    "    def forward(self, x):\n",
    "        x0 = x\n",
    "        x1 = self.c1(x0)\n",
    "        x2 = self.c2(x1)\n",
    "        x3 = self.c3(x2)\n",
    "        xc = torch.cat([x1, x2, x3], dim=1)\n",
    "        xc = self.b1(xc)\n",
    "\n",
    "        sc = self.c4(x0)\n",
    "        x = self.relu(xc + sc)\n",
    "        x = self.b2(x)\n",
    "        return x\n",
    "\n",
    "class res_path_block(nn.Module):\n",
    "    def __init__(self, in_c, out_c):\n",
    "        super().__init__()\n",
    "\n",
    "        self.c1 = conv_block(in_c, out_c, act=False)\n",
    "        self.s1 = conv_block(in_c, out_c, kernel_size=1, padding=0, act=False)\n",
    "        self.relu = nn.ReLU(inplace=True)\n",
    "        self.bn = nn.BatchNorm2d(out_c)\n",
    "\n",
    "    def forward(self, x):\n",
    "        x1 = self.c1(x)\n",
    "        s1 = self.s1(x)\n",
    "        x = self.relu(x1 + s1)\n",
    "        x = self.bn(x)\n",
    "        return x\n",
    "\n",
    "class res_path(nn.Module):\n",
    "    def __init__(self, in_c, out_c, length):\n",
    "        super().__init__()\n",
    "\n",
    "        layers = []\n",
    "        for i in range(length):\n",
    "            layers.append(res_path_block(in_c, out_c))\n",
    "            in_c = out_c\n",
    "\n",
    "        self.conv = nn.Sequential(*layers)\n",
    "\n",
    "    def forward(self, x):\n",
    "        return self.conv(x)\n",
    "\n",
    "def cal_nf(ch, alpha=1.67):\n",
    "    W = ch * alpha\n",
    "    return int(W*0.167) + int(W*0.333) + int(W*0.5)\n",
    "\n",
    "class encoder_block(nn.Module):\n",
    "    def __init__(self, in_c, out_c, length):\n",
    "        super().__init__()\n",
    "\n",
    "        self.c1 = multires_block(in_c, out_c)\n",
    "        nf = cal_nf(out_c)\n",
    "        self.s1 = res_path(nf, out_c, length)\n",
    "        self.pool = nn.MaxPool2d((2, 2))\n",
    "\n",
    "    def forward(self, x):\n",
    "        x = self.c1(x)\n",
    "        s = self.s1(x)\n",
    "        p = self.pool(x)\n",
    "        return s, p\n",
    "\n",
    "class decoder_block(nn.Module):\n",
    "    def __init__(self, in_c, out_c):\n",
    "        super().__init__()\n",
    "\n",
    "        self.c1 = nn.ConvTranspose2d(in_c[0], out_c, kernel_size=2, stride=2, padding=0)\n",
    "        self.c2 = multires_block(out_c+in_c[1], out_c)\n",
    "\n",
    "    def forward(self, x, s):\n",
    "        x = self.c1(x)\n",
    "        x = torch.cat([x, s], dim=1)\n",
    "        x = self.c2(x)\n",
    "        return x\n",
    "\n",
    "class UNet(nn.Module):\n",
    "    def __init__(self):\n",
    "        super().__init__()\n",
    "\n",
    "        \"\"\" Encoder \"\"\"\n",
    "        self.e1 = encoder_block(1, 32, 4)\n",
    "        self.e2 = encoder_block(cal_nf(32), 64, 3)\n",
    "        self.e3 = encoder_block(cal_nf(64), 128, 2)\n",
    "        self.e4 = encoder_block(cal_nf(128), 256, 1)\n",
    "\n",
    "        \"\"\" Bridge \"\"\"\n",
    "        self.b1 = multires_block(cal_nf(256), 512)\n",
    "\n",
    "        \"\"\" Decoder \"\"\"\n",
    "        self.d1 = decoder_block([cal_nf(512), 256], 256)\n",
    "        self.d2 = decoder_block([cal_nf(256), 128], 128)\n",
    "        self.d3 = decoder_block([cal_nf(128), 64], 64)\n",
    "        self.d4 = decoder_block([cal_nf(64), 32], 32)\n",
    "\n",
    "        \"\"\" Output \"\"\"\n",
    "        self.output = nn.Conv2d(cal_nf(32), 1, kernel_size=1, padding=0)\n",
    "\n",
    "    def forward(self, x):\n",
    "        s1, p1 = self.e1(x)\n",
    "        s2, p2 = self.e2(p1)\n",
    "        s3, p3 = self.e3(p2)\n",
    "        s4, p4 = self.e4(p3)\n",
    "\n",
    "        b1 = self.b1(p4)\n",
    "\n",
    "        d1 = self.d1(b1, s4)\n",
    "        d2 = self.d2(d1, s3)\n",
    "        d3 = self.d3(d2, s2)\n",
    "        d4 = self.d4(d3, s1)\n",
    "\n",
    "        output = self.output(d4)\n",
    "        return output\n",
    "\n"
   ]
  },
  {
   "cell_type": "code",
   "execution_count": null,
   "id": "50891b35",
   "metadata": {},
   "outputs": [],
   "source": [
    "# Training and Evaluation \n",
    "def train(model, loader, optimizer, loss_fn, device):\n",
    "    model.train()\n",
    "    total_loss = 0\n",
    "    for x, y, _ in tqdm(loader, desc=\"Training\", leave=False):\n",
    "        x, y = x.to(device), y.to(device)\n",
    "        optimizer.zero_grad()\n",
    "        y_pred = model(x)\n",
    "        loss = loss_fn(y_pred, y)\n",
    "        loss.backward()\n",
    "        optimizer.step()\n",
    "        total_loss += loss.item()\n",
    "    return total_loss / len(loader)\n",
    "\n",
    "def evaluate(model, loader, loss_fn, device):\n",
    "    model.eval()\n",
    "    total_loss = 0\n",
    "    with torch.no_grad():\n",
    "        for x, y, _ in tqdm(loader, desc=\"Validating\", leave=False):\n",
    "            x, y = x.to(device), y.to(device)\n",
    "            y_pred = model(x)\n",
    "            loss = loss_fn(y_pred, y)\n",
    "            total_loss += loss.item()\n",
    "    return total_loss / len(loader)\n",
    "\n",
    "def calculate_metrics(y_true, y_pred):\n",
    "    y_true = y_true.cpu().numpy() > 0.5\n",
    "    y_pred = torch.sigmoid(y_pred).cpu().numpy() > 0.5\n",
    "    y_true = y_true.astype(np.uint8).reshape(-1)\n",
    "    y_pred = y_pred.astype(np.uint8).reshape(-1)\n",
    "\n",
    "    return [\n",
    "        jaccard_score(y_true, y_pred, zero_division=0),\n",
    "        f1_score(y_true, y_pred, zero_division=0),\n",
    "        recall_score(y_true, y_pred, zero_division=0),\n",
    "        precision_score(y_true, y_pred, zero_division=0),\n",
    "        accuracy_score(y_true, y_pred)\n",
    "    ]\n",
    "\n",
    "def mask_parse(mask):\n",
    "    mask = np.expand_dims(mask, axis=-1)\n",
    "    return np.concatenate([mask]*3, axis=-1)"
   ]
  },
  {
   "cell_type": "code",
   "execution_count": 7,
   "id": "88bb673e",
   "metadata": {},
   "outputs": [],
   "source": [
    "seeding(42)\n",
    "MODEL_NAME = \"Green_AMultiRes_UNet_Tversky_Full\"\n",
    "MODEL_DIRECTORY = \"Green_Model_MultiRes_UNet_Tversky_Full\"\n",
    "create_directory(MODEL_DIRECTORY)\n",
    "RESULT_DIRECTORY = \"Green_Results_MultiRes_UNet_Tversky_Full\"\n",
    "create_directory(RESULT_DIRECTORY)"
   ]
  },
  {
   "cell_type": "code",
   "execution_count": null,
   "id": "752cce2b",
   "metadata": {},
   "outputs": [
    {
     "name": "stderr",
     "output_type": "stream",
     "text": [
      "C:\\Users\\Nayeem\\AppData\\Roaming\\Python\\Python312\\site-packages\\torch\\optim\\lr_scheduler.py:62: UserWarning: The verbose parameter is deprecated. Please use get_last_lr() to access the learning rate.\n",
      "  warnings.warn(\n"
     ]
    }
   ],
   "source": [
    "# load full training set \n",
    "train_images = sorted(glob(\"./final_dataset/train/images/*\"))\n",
    "train_masks  = sorted(glob(\"./final_dataset/train/masks/*\"))\n",
    "train_dataset = RetinalDataset(train_images, train_masks)\n",
    "\n",
    "# load test set and split it 50/50 into validation and test \n",
    "test_images = sorted(glob(\"./final_dataset/test/images/*\"))\n",
    "test_masks  = sorted(glob(\"./final_dataset/test/masks/*\"))\n",
    "full_test_dataset = RetinalDataset(test_images, test_masks)\n",
    "n_val = len(full_test_dataset) // 2\n",
    "n_test = len(full_test_dataset) - n_val\n",
    "valid_dataset, test_dataset = random_split(full_test_dataset, [n_val, n_test])\n",
    "\n",
    "device    = torch.device('cuda' if torch.cuda.is_available() else 'cpu')\n",
    "model     = UNet().to(device)\n",
    "optimizer = torch.optim.Adam(model.parameters(), lr=1e-4)\n",
    "scheduler = torch.optim.lr_scheduler.ReduceLROnPlateau(optimizer, 'min', patience=5, verbose=True)\n",
    "loss_fn   = TverskyLoss()\n",
    "\n",
    "train_loader = DataLoader(train_dataset, batch_size=1, shuffle=True, num_workers=0)\n",
    "valid_loader = DataLoader(valid_dataset, batch_size=1, shuffle=False, num_workers=0)\n",
    "\n",
    "best_valid_loss = float(\"inf\")"
   ]
  },
  {
   "cell_type": "code",
   "execution_count": 9,
   "id": "d1812f38",
   "metadata": {},
   "outputs": [
    {
     "name": "stderr",
     "output_type": "stream",
     "text": [
      "                                                                    \r"
     ]
    },
    {
     "name": "stdout",
     "output_type": "stream",
     "text": [
      "Epoch 01 | Time: 1m 22s\n",
      "\tTrain Loss: 0.9161 | Valid Loss: 0.8832\n",
      "\tAccuracy: 0.7986 | F1: 0.1088 | Dice: 0.1341 | Recall: 0.8586 | Precision: 0.0727 | Jaccard: 0.0662\n",
      "Best Green_AMultiRes_UNet_Tversky_Full Saved\n"
     ]
    },
    {
     "name": "stderr",
     "output_type": "stream",
     "text": [
      "                                                                    \r"
     ]
    },
    {
     "name": "stdout",
     "output_type": "stream",
     "text": [
      "Epoch 02 | Time: 1m 20s\n",
      "\tTrain Loss: 0.8620 | Valid Loss: 0.8409\n",
      "\tAccuracy: 0.8969 | F1: 0.1516 | Dice: 0.1783 | Recall: 0.8561 | Precision: 0.0995 | Jaccard: 0.0924\n",
      "Best Green_AMultiRes_UNet_Tversky_Full Saved\n"
     ]
    },
    {
     "name": "stderr",
     "output_type": "stream",
     "text": [
      "                                                                    \r"
     ]
    },
    {
     "name": "stdout",
     "output_type": "stream",
     "text": [
      "Epoch 03 | Time: 1m 20s\n",
      "\tTrain Loss: 0.8004 | Valid Loss: 0.7777\n",
      "\tAccuracy: 0.9425 | F1: 0.2070 | Dice: 0.2383 | Recall: 0.7927 | Precision: 0.1402 | Jaccard: 0.1268\n",
      "Best Green_AMultiRes_UNet_Tversky_Full Saved\n"
     ]
    },
    {
     "name": "stderr",
     "output_type": "stream",
     "text": [
      "                                                                    \r"
     ]
    },
    {
     "name": "stdout",
     "output_type": "stream",
     "text": [
      "Epoch 04 | Time: 1m 20s\n",
      "\tTrain Loss: 0.7192 | Valid Loss: 0.7022\n",
      "\tAccuracy: 0.9648 | F1: 0.2950 | Dice: 0.3315 | Recall: 0.7625 | Precision: 0.2118 | Jaccard: 0.1944\n",
      "Best Green_AMultiRes_UNet_Tversky_Full Saved\n"
     ]
    },
    {
     "name": "stderr",
     "output_type": "stream",
     "text": [
      "                                                                    \r"
     ]
    },
    {
     "name": "stdout",
     "output_type": "stream",
     "text": [
      "Epoch 05 | Time: 1m 17s\n",
      "\tTrain Loss: 0.6310 | Valid Loss: 0.6788\n",
      "\tAccuracy: 0.9750 | F1: 0.3032 | Dice: 0.3382 | Recall: 0.5792 | Precision: 0.2388 | Jaccard: 0.1934\n",
      "Best Green_AMultiRes_UNet_Tversky_Full Saved\n"
     ]
    },
    {
     "name": "stderr",
     "output_type": "stream",
     "text": [
      "                                                                    \r"
     ]
    },
    {
     "name": "stdout",
     "output_type": "stream",
     "text": [
      "Epoch 06 | Time: 1m 17s\n",
      "\tTrain Loss: 0.5535 | Valid Loss: 0.6344\n",
      "\tAccuracy: 0.9826 | F1: 0.3640 | Dice: 0.4106 | Recall: 0.4917 | Precision: 0.3524 | Jaccard: 0.2515\n",
      "Best Green_AMultiRes_UNet_Tversky_Full Saved\n"
     ]
    },
    {
     "name": "stderr",
     "output_type": "stream",
     "text": [
      "                                                                    \r"
     ]
    },
    {
     "name": "stdout",
     "output_type": "stream",
     "text": [
      "Epoch 07 | Time: 1m 17s\n",
      "\tTrain Loss: 0.4967 | Valid Loss: 0.6238\n",
      "\tAccuracy: 0.9831 | F1: 0.3630 | Dice: 0.4078 | Recall: 0.4852 | Precision: 0.3516 | Jaccard: 0.2485\n",
      "Best Green_AMultiRes_UNet_Tversky_Full Saved\n"
     ]
    },
    {
     "name": "stderr",
     "output_type": "stream",
     "text": [
      "                                                                    \r"
     ]
    },
    {
     "name": "stdout",
     "output_type": "stream",
     "text": [
      "Epoch 08 | Time: 1m 18s\n",
      "\tTrain Loss: 0.4425 | Valid Loss: 0.6198\n",
      "\tAccuracy: 0.9840 | F1: 0.3721 | Dice: 0.4187 | Recall: 0.4603 | Precision: 0.3839 | Jaccard: 0.2585\n",
      "Best Green_AMultiRes_UNet_Tversky_Full Saved\n"
     ]
    },
    {
     "name": "stderr",
     "output_type": "stream",
     "text": [
      "                                                                    \r"
     ]
    },
    {
     "name": "stdout",
     "output_type": "stream",
     "text": [
      "Epoch 09 | Time: 1m 17s\n",
      "\tTrain Loss: 0.4141 | Valid Loss: 0.6523\n",
      "\tAccuracy: 0.9854 | F1: 0.3583 | Dice: 0.3985 | Recall: 0.3660 | Precision: 0.4375 | Jaccard: 0.2477\n"
     ]
    },
    {
     "name": "stderr",
     "output_type": "stream",
     "text": [
      "                                                                    \r"
     ]
    },
    {
     "name": "stdout",
     "output_type": "stream",
     "text": [
      "Epoch 10 | Time: 1m 17s\n",
      "\tTrain Loss: 0.3720 | Valid Loss: 0.5751\n",
      "\tAccuracy: 0.9857 | F1: 0.4126 | Dice: 0.4425 | Recall: 0.4869 | Precision: 0.4055 | Jaccard: 0.2896\n",
      "Best Green_AMultiRes_UNet_Tversky_Full Saved\n"
     ]
    },
    {
     "name": "stderr",
     "output_type": "stream",
     "text": [
      "                                                                    \r"
     ]
    },
    {
     "name": "stdout",
     "output_type": "stream",
     "text": [
      "Epoch 11 | Time: 1m 17s\n",
      "\tTrain Loss: 0.3520 | Valid Loss: 0.6099\n",
      "\tAccuracy: 0.9849 | F1: 0.3886 | Dice: 0.4341 | Recall: 0.4359 | Precision: 0.4322 | Jaccard: 0.2692\n"
     ]
    },
    {
     "name": "stderr",
     "output_type": "stream",
     "text": [
      "                                                                    \r"
     ]
    },
    {
     "name": "stdout",
     "output_type": "stream",
     "text": [
      "Epoch 12 | Time: 1m 17s\n",
      "\tTrain Loss: 0.3360 | Valid Loss: 0.5993\n",
      "\tAccuracy: 0.9844 | F1: 0.3849 | Dice: 0.4240 | Recall: 0.4703 | Precision: 0.3860 | Jaccard: 0.2619\n"
     ]
    },
    {
     "name": "stderr",
     "output_type": "stream",
     "text": [
      "                                                                    \r"
     ]
    },
    {
     "name": "stdout",
     "output_type": "stream",
     "text": [
      "Epoch 13 | Time: 1m 17s\n",
      "\tTrain Loss: 0.3069 | Valid Loss: 0.5960\n",
      "\tAccuracy: 0.9864 | F1: 0.4079 | Dice: 0.4372 | Recall: 0.4249 | Precision: 0.4504 | Jaccard: 0.2907\n"
     ]
    },
    {
     "name": "stderr",
     "output_type": "stream",
     "text": [
      "                                                                    \r"
     ]
    },
    {
     "name": "stdout",
     "output_type": "stream",
     "text": [
      "Epoch 14 | Time: 1m 17s\n",
      "\tTrain Loss: 0.2889 | Valid Loss: 0.6300\n",
      "\tAccuracy: 0.9864 | F1: 0.3868 | Dice: 0.4182 | Recall: 0.3672 | Precision: 0.4856 | Jaccard: 0.2710\n"
     ]
    },
    {
     "name": "stderr",
     "output_type": "stream",
     "text": [
      "                                                                    \r"
     ]
    },
    {
     "name": "stdout",
     "output_type": "stream",
     "text": [
      "Epoch 15 | Time: 1m 17s\n",
      "\tTrain Loss: 0.2768 | Valid Loss: 0.5573\n",
      "\tAccuracy: 0.9806 | F1: 0.3926 | Dice: 0.4289 | Recall: 0.6408 | Precision: 0.3223 | Jaccard: 0.2734\n",
      "Best Green_AMultiRes_UNet_Tversky_Full Saved\n"
     ]
    },
    {
     "name": "stderr",
     "output_type": "stream",
     "text": [
      "                                                                    \r"
     ]
    },
    {
     "name": "stdout",
     "output_type": "stream",
     "text": [
      "Epoch 16 | Time: 1m 17s\n",
      "\tTrain Loss: 0.2733 | Valid Loss: 0.5978\n",
      "\tAccuracy: 0.9858 | F1: 0.4095 | Dice: 0.4373 | Recall: 0.4094 | Precision: 0.4692 | Jaccard: 0.2828\n"
     ]
    },
    {
     "name": "stderr",
     "output_type": "stream",
     "text": [
      "                                                                    \r"
     ]
    },
    {
     "name": "stdout",
     "output_type": "stream",
     "text": [
      "Epoch 17 | Time: 1m 18s\n",
      "\tTrain Loss: 0.2564 | Valid Loss: 0.6223\n",
      "\tAccuracy: 0.9852 | F1: 0.3802 | Dice: 0.4127 | Recall: 0.3944 | Precision: 0.4328 | Jaccard: 0.2654\n"
     ]
    },
    {
     "name": "stderr",
     "output_type": "stream",
     "text": [
      "                                                                    \r"
     ]
    },
    {
     "name": "stdout",
     "output_type": "stream",
     "text": [
      "Epoch 18 | Time: 1m 17s\n",
      "\tTrain Loss: 0.2436 | Valid Loss: 0.6021\n",
      "\tAccuracy: 0.9861 | F1: 0.4002 | Dice: 0.4305 | Recall: 0.4172 | Precision: 0.4447 | Jaccard: 0.2812\n"
     ]
    },
    {
     "name": "stderr",
     "output_type": "stream",
     "text": [
      "                                                                    \r"
     ]
    },
    {
     "name": "stdout",
     "output_type": "stream",
     "text": [
      "Epoch 19 | Time: 1m 17s\n",
      "\tTrain Loss: 0.2410 | Valid Loss: 0.5506\n",
      "\tAccuracy: 0.9865 | F1: 0.4385 | Dice: 0.4607 | Recall: 0.4857 | Precision: 0.4381 | Jaccard: 0.3078\n",
      "Best Green_AMultiRes_UNet_Tversky_Full Saved\n"
     ]
    },
    {
     "name": "stderr",
     "output_type": "stream",
     "text": [
      "                                                                    \r"
     ]
    },
    {
     "name": "stdout",
     "output_type": "stream",
     "text": [
      "Epoch 20 | Time: 1m 17s\n",
      "\tTrain Loss: 0.2236 | Valid Loss: 0.6217\n",
      "\tAccuracy: 0.9864 | F1: 0.3927 | Dice: 0.4198 | Recall: 0.3706 | Precision: 0.4839 | Jaccard: 0.2746\n"
     ]
    },
    {
     "name": "stderr",
     "output_type": "stream",
     "text": [
      "                                                                    \r"
     ]
    },
    {
     "name": "stdout",
     "output_type": "stream",
     "text": [
      "Epoch 21 | Time: 1m 17s\n",
      "\tTrain Loss: 0.2158 | Valid Loss: 0.6325\n",
      "\tAccuracy: 0.9861 | F1: 0.3876 | Dice: 0.4152 | Recall: 0.3552 | Precision: 0.4996 | Jaccard: 0.2683\n"
     ]
    },
    {
     "name": "stderr",
     "output_type": "stream",
     "text": [
      "                                                                    \r"
     ]
    },
    {
     "name": "stdout",
     "output_type": "stream",
     "text": [
      "Epoch 22 | Time: 1m 20s\n",
      "\tTrain Loss: 0.2165 | Valid Loss: 0.5206\n",
      "\tAccuracy: 0.9845 | F1: 0.4480 | Dice: 0.4760 | Recall: 0.5756 | Precision: 0.4059 | Jaccard: 0.3159\n",
      "Best Green_AMultiRes_UNet_Tversky_Full Saved\n"
     ]
    },
    {
     "name": "stderr",
     "output_type": "stream",
     "text": [
      "                                                                    \r"
     ]
    },
    {
     "name": "stdout",
     "output_type": "stream",
     "text": [
      "Epoch 23 | Time: 1m 21s\n",
      "\tTrain Loss: 0.2170 | Valid Loss: 0.5875\n",
      "\tAccuracy: 0.9865 | F1: 0.4194 | Dice: 0.4583 | Recall: 0.4303 | Precision: 0.4902 | Jaccard: 0.3001\n"
     ]
    },
    {
     "name": "stderr",
     "output_type": "stream",
     "text": [
      "                                                                    \r"
     ]
    },
    {
     "name": "stdout",
     "output_type": "stream",
     "text": [
      "Epoch 24 | Time: 1m 20s\n",
      "\tTrain Loss: 0.2130 | Valid Loss: 0.5479\n",
      "\tAccuracy: 0.9850 | F1: 0.4373 | Dice: 0.4700 | Recall: 0.5040 | Precision: 0.4403 | Jaccard: 0.3038\n"
     ]
    },
    {
     "name": "stderr",
     "output_type": "stream",
     "text": [
      "                                                                    \r"
     ]
    },
    {
     "name": "stdout",
     "output_type": "stream",
     "text": [
      "Epoch 25 | Time: 1m 20s\n",
      "\tTrain Loss: 0.2036 | Valid Loss: 0.5375\n",
      "\tAccuracy: 0.9859 | F1: 0.4580 | Dice: 0.4891 | Recall: 0.4963 | Precision: 0.4820 | Jaccard: 0.3202\n"
     ]
    },
    {
     "name": "stderr",
     "output_type": "stream",
     "text": [
      "                                                                    \r"
     ]
    },
    {
     "name": "stdout",
     "output_type": "stream",
     "text": [
      "Epoch 26 | Time: 1m 21s\n",
      "\tTrain Loss: 0.2037 | Valid Loss: 0.5807\n",
      "\tAccuracy: 0.9857 | F1: 0.4076 | Dice: 0.4384 | Recall: 0.4699 | Precision: 0.4109 | Jaccard: 0.2891\n"
     ]
    },
    {
     "name": "stderr",
     "output_type": "stream",
     "text": [
      "                                                                    \r"
     ]
    },
    {
     "name": "stdout",
     "output_type": "stream",
     "text": [
      "Epoch 27 | Time: 1m 20s\n",
      "\tTrain Loss: 0.1918 | Valid Loss: 0.5785\n",
      "\tAccuracy: 0.9868 | F1: 0.4299 | Dice: 0.4547 | Recall: 0.4284 | Precision: 0.4844 | Jaccard: 0.3009\n"
     ]
    },
    {
     "name": "stderr",
     "output_type": "stream",
     "text": [
      "                                                                    \r"
     ]
    },
    {
     "name": "stdout",
     "output_type": "stream",
     "text": [
      "Epoch 28 | Time: 1m 21s\n",
      "\tTrain Loss: 0.1895 | Valid Loss: 0.5797\n",
      "\tAccuracy: 0.9867 | F1: 0.4252 | Dice: 0.4517 | Recall: 0.4298 | Precision: 0.4759 | Jaccard: 0.3031\n"
     ]
    },
    {
     "name": "stderr",
     "output_type": "stream",
     "text": [
      "                                                                    \r"
     ]
    },
    {
     "name": "stdout",
     "output_type": "stream",
     "text": [
      "Epoch 29 | Time: 1m 20s\n",
      "\tTrain Loss: 0.1699 | Valid Loss: 0.5886\n",
      "\tAccuracy: 0.9866 | F1: 0.4192 | Dice: 0.4430 | Recall: 0.4139 | Precision: 0.4765 | Jaccard: 0.2983\n"
     ]
    },
    {
     "name": "stderr",
     "output_type": "stream",
     "text": [
      "                                                                    \r"
     ]
    },
    {
     "name": "stdout",
     "output_type": "stream",
     "text": [
      "Epoch 30 | Time: 1m 19s\n",
      "\tTrain Loss: 0.1634 | Valid Loss: 0.6065\n",
      "\tAccuracy: 0.9866 | F1: 0.4049 | Dice: 0.4286 | Recall: 0.3903 | Precision: 0.4752 | Jaccard: 0.2876\n"
     ]
    },
    {
     "name": "stderr",
     "output_type": "stream",
     "text": [
      "                                                                    \r"
     ]
    },
    {
     "name": "stdout",
     "output_type": "stream",
     "text": [
      "Epoch 31 | Time: 1m 19s\n",
      "\tTrain Loss: 0.1595 | Valid Loss: 0.5937\n",
      "\tAccuracy: 0.9866 | F1: 0.4157 | Dice: 0.4406 | Recall: 0.4071 | Precision: 0.4800 | Jaccard: 0.2960\n"
     ]
    },
    {
     "name": "stderr",
     "output_type": "stream",
     "text": [
      "                                                                    \r"
     ]
    },
    {
     "name": "stdout",
     "output_type": "stream",
     "text": [
      "Epoch 32 | Time: 1m 17s\n",
      "\tTrain Loss: 0.1569 | Valid Loss: 0.5784\n",
      "\tAccuracy: 0.9867 | F1: 0.4373 | Dice: 0.4798 | Recall: 0.4177 | Precision: 0.5637 | Jaccard: 0.3086\n"
     ]
    },
    {
     "name": "stderr",
     "output_type": "stream",
     "text": [
      "                                                                    \r"
     ]
    },
    {
     "name": "stdout",
     "output_type": "stream",
     "text": [
      "Epoch 33 | Time: 1m 18s\n",
      "\tTrain Loss: 0.1547 | Valid Loss: 0.5956\n",
      "\tAccuracy: 0.9867 | F1: 0.4144 | Dice: 0.4409 | Recall: 0.4038 | Precision: 0.4855 | Jaccard: 0.2951\n"
     ]
    },
    {
     "name": "stderr",
     "output_type": "stream",
     "text": [
      "                                                                    \r"
     ]
    },
    {
     "name": "stdout",
     "output_type": "stream",
     "text": [
      "Epoch 34 | Time: 1m 17s\n",
      "\tTrain Loss: 0.1521 | Valid Loss: 0.5917\n",
      "\tAccuracy: 0.9865 | F1: 0.4200 | Dice: 0.4533 | Recall: 0.4078 | Precision: 0.5101 | Jaccard: 0.2976\n"
     ]
    },
    {
     "name": "stderr",
     "output_type": "stream",
     "text": [
      "                                                                    \r"
     ]
    },
    {
     "name": "stdout",
     "output_type": "stream",
     "text": [
      "Epoch 35 | Time: 1m 17s\n",
      "\tTrain Loss: 0.1503 | Valid Loss: 0.6264\n",
      "\tAccuracy: 0.9867 | F1: 0.3995 | Dice: 0.4245 | Recall: 0.3500 | Precision: 0.5395 | Jaccard: 0.2810\n"
     ]
    },
    {
     "name": "stderr",
     "output_type": "stream",
     "text": [
      "                                                                    \r"
     ]
    },
    {
     "name": "stdout",
     "output_type": "stream",
     "text": [
      "Epoch 36 | Time: 1m 18s\n",
      "\tTrain Loss: 0.1491 | Valid Loss: 0.6103\n",
      "\tAccuracy: 0.9868 | F1: 0.4083 | Dice: 0.4327 | Recall: 0.3748 | Precision: 0.5118 | Jaccard: 0.2896\n"
     ]
    },
    {
     "name": "stderr",
     "output_type": "stream",
     "text": [
      "                                                                    \r"
     ]
    },
    {
     "name": "stdout",
     "output_type": "stream",
     "text": [
      "Epoch 37 | Time: 1m 17s\n",
      "\tTrain Loss: 0.1484 | Valid Loss: 0.6323\n",
      "\tAccuracy: 0.9867 | F1: 0.3952 | Dice: 0.4191 | Recall: 0.3405 | Precision: 0.5448 | Jaccard: 0.2773\n"
     ]
    },
    {
     "name": "stderr",
     "output_type": "stream",
     "text": [
      "                                                                    \r"
     ]
    },
    {
     "name": "stdout",
     "output_type": "stream",
     "text": [
      "Epoch 38 | Time: 1m 18s\n",
      "\tTrain Loss: 0.1478 | Valid Loss: 0.6181\n",
      "\tAccuracy: 0.9866 | F1: 0.4061 | Dice: 0.4515 | Recall: 0.3596 | Precision: 0.6067 | Jaccard: 0.2861\n"
     ]
    },
    {
     "name": "stderr",
     "output_type": "stream",
     "text": [
      "                                                                    \r"
     ]
    },
    {
     "name": "stdout",
     "output_type": "stream",
     "text": [
      "Epoch 39 | Time: 1m 23s\n",
      "\tTrain Loss: 0.1473 | Valid Loss: 0.6133\n",
      "\tAccuracy: 0.9867 | F1: 0.4045 | Dice: 0.4283 | Recall: 0.3741 | Precision: 0.5008 | Jaccard: 0.2859\n"
     ]
    },
    {
     "name": "stderr",
     "output_type": "stream",
     "text": [
      "                                                                    \r"
     ]
    },
    {
     "name": "stdout",
     "output_type": "stream",
     "text": [
      "Epoch 40 | Time: 1m 23s\n",
      "\tTrain Loss: 0.1468 | Valid Loss: 0.5943\n",
      "\tAccuracy: 0.9867 | F1: 0.4153 | Dice: 0.4400 | Recall: 0.4063 | Precision: 0.4798 | Jaccard: 0.2963\n"
     ]
    },
    {
     "name": "stderr",
     "output_type": "stream",
     "text": [
      "                                                                    \r"
     ]
    },
    {
     "name": "stdout",
     "output_type": "stream",
     "text": [
      "Epoch 41 | Time: 1m 23s\n",
      "\tTrain Loss: 0.1464 | Valid Loss: 0.6299\n",
      "\tAccuracy: 0.9866 | F1: 0.3948 | Dice: 0.4177 | Recall: 0.3470 | Precision: 0.5245 | Jaccard: 0.2776\n"
     ]
    },
    {
     "name": "stderr",
     "output_type": "stream",
     "text": [
      "                                                                    \r"
     ]
    },
    {
     "name": "stdout",
     "output_type": "stream",
     "text": [
      "Epoch 42 | Time: 1m 22s\n",
      "\tTrain Loss: 0.1463 | Valid Loss: 0.6184\n",
      "\tAccuracy: 0.9867 | F1: 0.3983 | Dice: 0.4231 | Recall: 0.3730 | Precision: 0.4886 | Jaccard: 0.2811\n"
     ]
    },
    {
     "name": "stderr",
     "output_type": "stream",
     "text": [
      "                                                                    \r"
     ]
    },
    {
     "name": "stdout",
     "output_type": "stream",
     "text": [
      "Epoch 43 | Time: 1m 18s\n",
      "\tTrain Loss: 0.1462 | Valid Loss: 0.6065\n",
      "\tAccuracy: 0.9867 | F1: 0.4094 | Dice: 0.4333 | Recall: 0.3832 | Precision: 0.4985 | Jaccard: 0.2907\n"
     ]
    },
    {
     "name": "stderr",
     "output_type": "stream",
     "text": [
      "                                                                    \r"
     ]
    },
    {
     "name": "stdout",
     "output_type": "stream",
     "text": [
      "Epoch 44 | Time: 1m 19s\n",
      "\tTrain Loss: 0.1462 | Valid Loss: 0.6168\n",
      "\tAccuracy: 0.9867 | F1: 0.4044 | Dice: 0.4285 | Recall: 0.3642 | Precision: 0.5203 | Jaccard: 0.2860\n"
     ]
    },
    {
     "name": "stderr",
     "output_type": "stream",
     "text": [
      "                                                                    \r"
     ]
    },
    {
     "name": "stdout",
     "output_type": "stream",
     "text": [
      "Epoch 45 | Time: 1m 19s\n",
      "\tTrain Loss: 0.1461 | Valid Loss: 0.6308\n",
      "\tAccuracy: 0.9866 | F1: 0.3928 | Dice: 0.4161 | Recall: 0.3473 | Precision: 0.5190 | Jaccard: 0.2759\n"
     ]
    },
    {
     "name": "stderr",
     "output_type": "stream",
     "text": [
      "                                                                    \r"
     ]
    },
    {
     "name": "stdout",
     "output_type": "stream",
     "text": [
      "Epoch 46 | Time: 1m 19s\n",
      "\tTrain Loss: 0.1461 | Valid Loss: 0.5948\n",
      "\tAccuracy: 0.9867 | F1: 0.4157 | Dice: 0.4410 | Recall: 0.4036 | Precision: 0.4859 | Jaccard: 0.2961\n"
     ]
    },
    {
     "name": "stderr",
     "output_type": "stream",
     "text": [
      "                                                                    \r"
     ]
    },
    {
     "name": "stdout",
     "output_type": "stream",
     "text": [
      "Epoch 47 | Time: 1m 19s\n",
      "\tTrain Loss: 0.1460 | Valid Loss: 0.6157\n",
      "\tAccuracy: 0.9868 | F1: 0.4058 | Dice: 0.4299 | Recall: 0.3650 | Precision: 0.5229 | Jaccard: 0.2872\n"
     ]
    },
    {
     "name": "stderr",
     "output_type": "stream",
     "text": [
      "                                                                    \r"
     ]
    },
    {
     "name": "stdout",
     "output_type": "stream",
     "text": [
      "Epoch 48 | Time: 1m 18s\n",
      "\tTrain Loss: 0.1460 | Valid Loss: 0.6240\n",
      "\tAccuracy: 0.9867 | F1: 0.3998 | Dice: 0.4221 | Recall: 0.3538 | Precision: 0.5230 | Jaccard: 0.2816\n"
     ]
    },
    {
     "name": "stderr",
     "output_type": "stream",
     "text": [
      "                                                                    \r"
     ]
    },
    {
     "name": "stdout",
     "output_type": "stream",
     "text": [
      "Epoch 49 | Time: 1m 18s\n",
      "\tTrain Loss: 0.1460 | Valid Loss: 0.6063\n",
      "\tAccuracy: 0.9866 | F1: 0.4055 | Dice: 0.4305 | Recall: 0.3887 | Precision: 0.4824 | Jaccard: 0.2884\n"
     ]
    },
    {
     "name": "stderr",
     "output_type": "stream",
     "text": [
      "                                                                    "
     ]
    },
    {
     "name": "stdout",
     "output_type": "stream",
     "text": [
      "Epoch 50 | Time: 1m 19s\n",
      "\tTrain Loss: 0.1460 | Valid Loss: 0.6281\n",
      "\tAccuracy: 0.9867 | F1: 0.3968 | Dice: 0.4193 | Recall: 0.3492 | Precision: 0.5246 | Jaccard: 0.2784\n"
     ]
    },
    {
     "name": "stderr",
     "output_type": "stream",
     "text": [
      "\r"
     ]
    }
   ],
   "source": [
    "for epoch in range(50):\n",
    "    start = time.time()\n",
    "    train_loss = train(model, train_loader, optimizer, loss_fn, device)\n",
    "    valid_loss = evaluate(model, valid_loader, loss_fn, device)\n",
    "    scheduler.step(valid_loss)\n",
    "\n",
    "    model.eval()\n",
    "    valid_metrics = [0.0] * 5\n",
    "    with torch.no_grad():\n",
    "        for x_val, y_val, _ in tqdm(valid_loader, desc=\"Calculating Metrics\", leave=False):\n",
    "            x_val, y_val = x_val.to(device), y_val.to(device)\n",
    "            y_pred = model(x_val)\n",
    "            valid_metrics = list(map(add, valid_metrics, calculate_metrics(y_val, y_pred)))\n",
    "\n",
    "    metrics_avg = [m / len(valid_loader) for m in valid_metrics]\n",
    "    jaccard, f1, recall, precision, accuracy = metrics_avg\n",
    "    dice = (2 * precision * recall) / (precision + recall + 1e-7)\n",
    "\n",
    "    mins, secs = epoch_time(start, time.time())\n",
    "    print(f\"Epoch {epoch+1:02} | Time: {mins}m {secs}s\")\n",
    "    print(f\"\\tTrain Loss: {train_loss:.4f} | Valid Loss: {valid_loss:.4f}\")\n",
    "    print(f\"\\tAccuracy: {accuracy:.4f} | F1: {f1:.4f} | Dice: {dice:.4f} | Recall: {recall:.4f} | Precision: {precision:.4f} | Jaccard: {jaccard:.4f}\")\n",
    "    \n",
    "    if valid_loss < best_valid_loss:\n",
    "        best_valid_loss = valid_loss  \n",
    "        torch.save(model.state_dict(), f\"{MODEL_DIRECTORY}/{MODEL_NAME}.pth\")\n",
    "        print(f\"Best {MODEL_NAME} Saved\")"
   ]
  },
  {
   "cell_type": "code",
   "execution_count": 10,
   "id": "66af66c0",
   "metadata": {},
   "outputs": [
    {
     "name": "stderr",
     "output_type": "stream",
     "text": [
      "Testing: 100%|██████████| 14/14 [00:05<00:00,  2.76it/s]"
     ]
    },
    {
     "name": "stdout",
     "output_type": "stream",
     "text": [
      "Jaccard: 0.3281, F1: 0.4840, Recall: 0.6992, Precision: 0.3934, Accuracy: 0.9861\n",
      "FPS: 95.58469023826073\n"
     ]
    },
    {
     "name": "stderr",
     "output_type": "stream",
     "text": [
      "\n"
     ]
    }
   ],
   "source": [
    "# Load the best model\n",
    "model.load_state_dict(torch.load(f\"{MODEL_DIRECTORY}/{MODEL_NAME}.pth\", map_location=device))\n",
    "model.eval()\n",
    "\n",
    "# Evaluate on the held-out half of the test set\n",
    "test_loader = DataLoader(test_dataset, batch_size=1, shuffle=False, num_workers=0)\n",
    "metrics_score = [0.0] * 5\n",
    "time_taken = []\n",
    "\n",
    "for x, y, fname in tqdm(test_loader, desc=\"Testing\", total=len(test_loader)):\n",
    "    with torch.no_grad():\n",
    "        x, y = x.to(device), y.to(device)\n",
    "        start = time.time()\n",
    "        pred_y = model(x)\n",
    "        time_taken.append(time.time() - start)\n",
    "        metrics_score = list(map(add, metrics_score, calculate_metrics(y, pred_y)))\n",
    "\n",
    "    # Use green-channel image directly (grayscale)\n",
    "    green_img = (x.cpu().numpy()[0, 0] * 255).astype(np.uint8)  # Shape: [H, W]\n",
    "\n",
    "    # Process ground truth and prediction\n",
    "    mask = (y.cpu().numpy()[0, 0] * 255).astype(np.uint8)\n",
    "    pred = (torch.sigmoid(pred_y).cpu().numpy()[0, 0] > 0.5).astype(np.uint8) * 255\n",
    "\n",
    "    # Convert masks to RGB overlays\n",
    "    mask_img = mask_parse(mask)\n",
    "    pred_img = mask_parse(pred)\n",
    "\n",
    "    # Resize masks to match green image if needed\n",
    "    h, w = green_img.shape\n",
    "    mask_img = cv2.resize(mask_img, (w, h))\n",
    "    pred_img = cv2.resize(pred_img, (w, h))\n",
    "\n",
    "    # Create vertical separator\n",
    "    line = np.ones((h, 10, 3), dtype=np.uint8) * 128\n",
    "\n",
    "    # Convert green image to 3-channel grayscale for compatibility\n",
    "    green_rgb = np.stack([green_img]*3, axis=-1)\n",
    "\n",
    "    # Concatenate images: green | line | mask | line | prediction\n",
    "    result_uint8 = np.concatenate([green_rgb, line, mask_img, line, pred_img], axis=1)\n",
    "\n",
    "    # Safe filename\n",
    "    if isinstance(fname, (list, tuple)):\n",
    "        fname = fname[0]\n",
    "    save_name = os.path.splitext(fname)[0] + \".png\"\n",
    "\n",
    "    # Save image\n",
    "    plt.imsave(f\"{RESULT_DIRECTORY}/{save_name}\", result_uint8)\n",
    "\n",
    "# Final metrics\n",
    "j, f1, r, p, a = [m / len(test_loader) for m in metrics_score]\n",
    "print(f\"Jaccard: {j:.4f}, F1: {f1:.4f}, Recall: {r:.4f}, Precision: {p:.4f}, Accuracy: {a:.4f}\")\n",
    "print(\"FPS:\", 1 / np.mean(time_taken))\n"
   ]
  }
 ],
 "metadata": {
  "kernelspec": {
   "display_name": "Python 3",
   "language": "python",
   "name": "python3"
  },
  "language_info": {
   "codemirror_mode": {
    "name": "ipython",
    "version": 3
   },
   "file_extension": ".py",
   "mimetype": "text/x-python",
   "name": "python",
   "nbconvert_exporter": "python",
   "pygments_lexer": "ipython3",
   "version": "3.12.6"
  }
 },
 "nbformat": 4,
 "nbformat_minor": 5
}
