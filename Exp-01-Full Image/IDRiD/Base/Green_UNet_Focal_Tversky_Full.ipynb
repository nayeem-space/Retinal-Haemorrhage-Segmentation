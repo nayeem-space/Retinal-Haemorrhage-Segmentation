{
 "cells": [
  {
   "cell_type": "code",
   "execution_count": 2,
   "id": "0e8d7f51",
   "metadata": {},
   "outputs": [],
   "source": [
    "import os\n",
    "import cv2\n",
    "import time\n",
    "import random\n",
    "import numpy as np\n",
    "import matplotlib.pyplot as plt\n",
    "from glob import glob\n",
    "from operator import add\n",
    "from tqdm import tqdm\n",
    "\n",
    "import torch\n",
    "import torch.nn as nn\n",
    "import torch.nn.functional as F\n",
    "from torch.utils.data import Dataset, DataLoader, random_split, Subset\n",
    "from sklearn.metrics import accuracy_score, f1_score, jaccard_score, precision_score, recall_score"
   ]
  },
  {
   "cell_type": "code",
   "execution_count": null,
   "id": "5cdbaaf4",
   "metadata": {},
   "outputs": [],
   "source": [
    "# Utility Functions \n",
    "def seeding(seed):\n",
    "    random.seed(seed)\n",
    "    os.environ[\"PYTHONHASHSEED\"] = str(seed)\n",
    "    np.random.seed(seed)\n",
    "    torch.manual_seed(seed)\n",
    "    torch.cuda.manual_seed(seed)\n",
    "    torch.backends.cudnn.deterministic = True\n",
    "\n",
    "def create_directory(path):\n",
    "    if not os.path.exists(path):\n",
    "        os.makedirs(path)\n",
    "\n",
    "def epoch_time(start_time, end_time):\n",
    "    elapsed_time = end_time - start_time\n",
    "    elapsed_mins = int(elapsed_time / 60)\n",
    "    elapsed_secs = int(elapsed_time - (elapsed_mins * 60))\n",
    "    return elapsed_mins, elapsed_secs"
   ]
  },
  {
   "cell_type": "code",
   "execution_count": null,
   "id": "1e7eb778",
   "metadata": {},
   "outputs": [],
   "source": [
    "# Dataset \n",
    "class RetinalDataset(Dataset):\n",
    "    def __init__(self, images_path, masks_path):\n",
    "        self.images_path = images_path\n",
    "        self.masks_path = masks_path\n",
    "        self.n_samples = len(images_path)\n",
    "\n",
    "    def __getitem__(self, index):\n",
    "        img_path = self.images_path[index]\n",
    "        mask_path = self.masks_path[index]\n",
    "\n",
    "        # Load image in BGR format\n",
    "        image = cv2.imread(img_path, cv2.IMREAD_COLOR)\n",
    "\n",
    "        # Extract only the green channel\n",
    "        green = image[:, :, 1]  # Index 1 = green channel in BGR\n",
    "\n",
    "        # Normalize and convert to tensor\n",
    "        green = green / 255.0\n",
    "        green = np.expand_dims(green, axis=0).astype(np.float32)  # Shape: [1, H, W]\n",
    "        image = torch.from_numpy(green)\n",
    "\n",
    "        # Load and process the mask\n",
    "        mask = cv2.imread(mask_path, cv2.IMREAD_GRAYSCALE)\n",
    "        mask = mask / 255.0\n",
    "        mask = np.expand_dims(mask, axis=0).astype(np.float32)\n",
    "        mask = torch.from_numpy(mask)\n",
    "\n",
    "        # Get the filename\n",
    "        filename = os.path.basename(img_path)\n",
    "\n",
    "        return image, mask, filename\n",
    "    def __len__(self):\n",
    "            return self.n_samples\n"
   ]
  },
  {
   "cell_type": "code",
   "execution_count": 5,
   "id": "acbded60",
   "metadata": {},
   "outputs": [],
   "source": [
    "class Focal_Tversky(nn.Module):\n",
    "    def __init__(self, alpha=0.3, beta=0.7, gamma=1.5, smooth=1e-6):\n",
    "        super().__init__()\n",
    "        self.alpha = alpha\n",
    "        self.beta  = beta\n",
    "        self.gamma = gamma\n",
    "        self.smooth = smooth\n",
    "\n",
    "    def forward(self, logits, targets):\n",
    "        # logits, targets: (N, 1, H, W) or (N, H, W)\n",
    "        probs = torch.sigmoid(logits)\n",
    "        N = targets.size(0)\n",
    "\n",
    "        # flatten per sample\n",
    "        probs  = probs.view(N, -1)\n",
    "        targets = targets.view(N, -1)\n",
    "\n",
    "        TP = (probs * targets).sum(dim=1)\n",
    "        FP = (probs * (1 - targets)).sum(dim=1)\n",
    "        FN = ((1 - probs) * targets).sum(dim=1)\n",
    "\n",
    "        smooth = torch.tensor(self.smooth, device=probs.device, dtype=probs.dtype)\n",
    "        tversky = (TP + smooth) / (TP + self.alpha * FP + self.beta * FN + smooth)\n",
    "\n",
    "        # focal modulation\n",
    "        loss = (1 - tversky) ** self.gamma\n",
    "\n",
    "        return loss.mean()\n"
   ]
  },
  {
   "cell_type": "code",
   "execution_count": null,
   "id": "6698c92a",
   "metadata": {},
   "outputs": [],
   "source": [
    "# Model Architecture \n",
    "class ConvBlock(nn.Module):\n",
    "    def __init__(self, in_c, out_c):\n",
    "        super().__init__()\n",
    "        self.conv1 = nn.Conv2d(in_c, out_c, kernel_size=3, padding=1)\n",
    "        self.bn1 = nn.BatchNorm2d(out_c)\n",
    "        self.conv2 = nn.Conv2d(out_c, out_c, kernel_size=3, padding=1)\n",
    "        self.bn2 = nn.BatchNorm2d(out_c)\n",
    "        self.relu = nn.ReLU()\n",
    "\n",
    "    def forward(self, x):\n",
    "        x = self.relu(self.bn1(self.conv1(x)))\n",
    "        x = self.relu(self.bn2(self.conv2(x)))\n",
    "        return x\n",
    "\n",
    "class EncoderBlock(nn.Module):\n",
    "    def __init__(self, in_c, out_c):\n",
    "        super().__init__()\n",
    "        self.conv = ConvBlock(in_c, out_c)\n",
    "        self.pool = nn.MaxPool2d((2, 2))\n",
    "\n",
    "    def forward(self, x):\n",
    "        x = self.conv(x)\n",
    "        p = self.pool(x)\n",
    "        return x, p\n",
    "\n",
    "class DecoderBlock(nn.Module):\n",
    "    def __init__(self, in_c, out_c):\n",
    "        super().__init__()\n",
    "        self.up = nn.ConvTranspose2d(in_c, out_c, kernel_size=2, stride=2)\n",
    "        self.conv = ConvBlock(out_c * 2, out_c)\n",
    "\n",
    "    def forward(self, x, skip):\n",
    "        x = self.up(x)\n",
    "        x = nn.functional.interpolate(x, size=skip.size()[2:], mode='bilinear', align_corners=False)\n",
    "        x = torch.cat([x, skip], axis=1)\n",
    "        return self.conv(x)\n",
    "\n",
    "class UNet(nn.Module):\n",
    "    def __init__(self):\n",
    "        super().__init__()\n",
    "        self.e1 = EncoderBlock(1, 64)\n",
    "        self.e2 = EncoderBlock(64, 128)\n",
    "        self.e3 = EncoderBlock(128, 256)\n",
    "        self.e4 = EncoderBlock(256, 512)\n",
    "        self.b = ConvBlock(512, 1024)\n",
    "        self.d1 = DecoderBlock(1024, 512)\n",
    "        self.d2 = DecoderBlock(512, 256)\n",
    "        self.d3 = DecoderBlock(256, 128)\n",
    "        self.d4 = DecoderBlock(128, 64)\n",
    "        self.outputs = nn.Conv2d(64, 1, kernel_size=1)\n",
    "\n",
    "    def forward(self, x):\n",
    "        s1, p1 = self.e1(x)\n",
    "        s2, p2 = self.e2(p1)\n",
    "        s3, p3 = self.e3(p2)\n",
    "        s4, p4 = self.e4(p3)\n",
    "        b = self.b(p4)\n",
    "        d1 = self.d1(b, s4)\n",
    "        d2 = self.d2(d1, s3)\n",
    "        d3 = self.d3(d2, s2)\n",
    "        d4 = self.d4(d3, s1)\n",
    "        return self.outputs(d4)\n"
   ]
  },
  {
   "cell_type": "code",
   "execution_count": null,
   "id": "50891b35",
   "metadata": {},
   "outputs": [],
   "source": [
    "# Training and Evaluation \n",
    "def train(model, loader, optimizer, loss_fn, device):\n",
    "    model.train()\n",
    "    total_loss = 0\n",
    "    for x, y, _ in tqdm(loader, desc=\"Training\", leave=False):\n",
    "        x, y = x.to(device), y.to(device)\n",
    "        optimizer.zero_grad()\n",
    "        y_pred = model(x)\n",
    "        loss = loss_fn(y_pred, y)\n",
    "        loss.backward()\n",
    "        optimizer.step()\n",
    "        total_loss += loss.item()\n",
    "    return total_loss / len(loader)\n",
    "\n",
    "def evaluate(model, loader, loss_fn, device):\n",
    "    model.eval()\n",
    "    total_loss = 0\n",
    "    with torch.no_grad():\n",
    "        for x, y, _ in tqdm(loader, desc=\"Validating\", leave=False):\n",
    "            x, y = x.to(device), y.to(device)\n",
    "            y_pred = model(x)\n",
    "            loss = loss_fn(y_pred, y)\n",
    "            total_loss += loss.item()\n",
    "    return total_loss / len(loader)\n",
    "\n",
    "def calculate_metrics(y_true, y_pred):\n",
    "    y_true = y_true.cpu().numpy() > 0.5\n",
    "    y_pred = torch.sigmoid(y_pred).cpu().numpy() > 0.5\n",
    "    y_true = y_true.astype(np.uint8).reshape(-1)\n",
    "    y_pred = y_pred.astype(np.uint8).reshape(-1)\n",
    "\n",
    "    return [\n",
    "        jaccard_score(y_true, y_pred, zero_division=0),\n",
    "        f1_score(y_true, y_pred, zero_division=0),\n",
    "        recall_score(y_true, y_pred, zero_division=0),\n",
    "        precision_score(y_true, y_pred, zero_division=0),\n",
    "        accuracy_score(y_true, y_pred)\n",
    "    ]\n",
    "\n",
    "def mask_parse(mask):\n",
    "    mask = np.expand_dims(mask, axis=-1)\n",
    "    return np.concatenate([mask]*3, axis=-1)"
   ]
  },
  {
   "cell_type": "code",
   "execution_count": 8,
   "id": "88bb673e",
   "metadata": {},
   "outputs": [],
   "source": [
    "seeding(42)\n",
    "MODEL_NAME = \"Green_UNet_Focal_Tversky_Full\"\n",
    "MODEL_DIRECTORY = \"Green_Model_UNet_Focal_Tversky_Full\"\n",
    "create_directory(MODEL_DIRECTORY)\n",
    "RESULT_DIRECTORY = \"Green_Results_UNet_Focal_Tversky_Full\"\n",
    "create_directory(RESULT_DIRECTORY)"
   ]
  },
  {
   "cell_type": "code",
   "execution_count": null,
   "id": "752cce2b",
   "metadata": {},
   "outputs": [
    {
     "name": "stderr",
     "output_type": "stream",
     "text": [
      "C:\\Users\\Nayeem\\AppData\\Roaming\\Python\\Python312\\site-packages\\torch\\optim\\lr_scheduler.py:62: UserWarning: The verbose parameter is deprecated. Please use get_last_lr() to access the learning rate.\n",
      "  warnings.warn(\n"
     ]
    }
   ],
   "source": [
    "# load full training set \n",
    "train_images = sorted(glob(\"./final_dataset/train/images/*\"))\n",
    "train_masks  = sorted(glob(\"./final_dataset/train/masks/*\"))\n",
    "train_dataset = RetinalDataset(train_images, train_masks)\n",
    "\n",
    "# load test set and split it 50/50 into validation and test\n",
    "test_images = sorted(glob(\"./final_dataset/test/images/*\"))\n",
    "test_masks  = sorted(glob(\"./final_dataset/test/masks/*\"))\n",
    "full_test_dataset = RetinalDataset(test_images, test_masks)\n",
    "n_val = len(full_test_dataset) // 2\n",
    "n_test = len(full_test_dataset) - n_val\n",
    "valid_dataset, test_dataset = random_split(full_test_dataset, [n_val, n_test])\n",
    "\n",
    "device    = torch.device('cuda' if torch.cuda.is_available() else 'cpu')\n",
    "model     = UNet().to(device)\n",
    "optimizer = torch.optim.Adam(model.parameters(), lr=1e-4)\n",
    "scheduler = torch.optim.lr_scheduler.ReduceLROnPlateau(optimizer, 'min', patience=5, verbose=True)\n",
    "loss_fn   = Focal_Tversky()\n",
    "\n",
    "train_loader = DataLoader(train_dataset, batch_size=2, shuffle=True, num_workers=0)\n",
    "valid_loader = DataLoader(valid_dataset, batch_size=2, shuffle=False, num_workers=0)\n",
    "\n",
    "best_valid_loss = float(\"inf\")"
   ]
  },
  {
   "cell_type": "code",
   "execution_count": 10,
   "id": "d1812f38",
   "metadata": {},
   "outputs": [
    {
     "name": "stderr",
     "output_type": "stream",
     "text": [
      "                                                                  \r"
     ]
    },
    {
     "name": "stdout",
     "output_type": "stream",
     "text": [
      "Epoch 01 | Time: 1m 8s\n",
      "\tTrain Loss: 0.8802 | Valid Loss: 0.8554\n",
      "\tAccuracy: 0.9239 | F1: 0.1820 | Dice: 0.2188 | Recall: 0.7921 | Precision: 0.1269 | Jaccard: 0.1096\n",
      "Best Green_UNet_Focal_Tversky_Full Saved\n"
     ]
    },
    {
     "name": "stderr",
     "output_type": "stream",
     "text": [
      "                                                                  \r"
     ]
    },
    {
     "name": "stdout",
     "output_type": "stream",
     "text": [
      "Epoch 02 | Time: 1m 10s\n",
      "\tTrain Loss: 0.8292 | Valid Loss: 0.8232\n",
      "\tAccuracy: 0.9182 | F1: 0.1721 | Dice: 0.1984 | Recall: 0.8554 | Precision: 0.1122 | Jaccard: 0.1028\n",
      "Best Green_UNet_Focal_Tversky_Full Saved\n"
     ]
    },
    {
     "name": "stderr",
     "output_type": "stream",
     "text": [
      "                                                                  \r"
     ]
    },
    {
     "name": "stdout",
     "output_type": "stream",
     "text": [
      "Epoch 03 | Time: 1m 7s\n",
      "\tTrain Loss: 0.7599 | Valid Loss: 0.7716\n",
      "\tAccuracy: 0.9569 | F1: 0.2418 | Dice: 0.2818 | Recall: 0.7282 | Precision: 0.1747 | Jaccard: 0.1508\n",
      "Best Green_UNet_Focal_Tversky_Full Saved\n"
     ]
    },
    {
     "name": "stderr",
     "output_type": "stream",
     "text": [
      "                                                                  \r"
     ]
    },
    {
     "name": "stdout",
     "output_type": "stream",
     "text": [
      "Epoch 04 | Time: 1m 7s\n",
      "\tTrain Loss: 0.6648 | Valid Loss: 0.7083\n",
      "\tAccuracy: 0.9850 | F1: 0.3746 | Dice: 0.4089 | Recall: 0.4501 | Precision: 0.3746 | Jaccard: 0.2416\n",
      "Best Green_UNet_Focal_Tversky_Full Saved\n"
     ]
    },
    {
     "name": "stderr",
     "output_type": "stream",
     "text": [
      "                                                                  \r"
     ]
    },
    {
     "name": "stdout",
     "output_type": "stream",
     "text": [
      "Epoch 05 | Time: 1m 7s\n",
      "\tTrain Loss: 0.5597 | Valid Loss: 0.6137\n",
      "\tAccuracy: 0.9804 | F1: 0.3368 | Dice: 0.3809 | Recall: 0.5584 | Precision: 0.2890 | Jaccard: 0.2194\n",
      "Best Green_UNet_Focal_Tversky_Full Saved\n"
     ]
    },
    {
     "name": "stderr",
     "output_type": "stream",
     "text": [
      "                                                                  \r"
     ]
    },
    {
     "name": "stdout",
     "output_type": "stream",
     "text": [
      "Epoch 06 | Time: 1m 7s\n",
      "\tTrain Loss: 0.4542 | Valid Loss: 0.5531\n",
      "\tAccuracy: 0.9829 | F1: 0.3716 | Dice: 0.4019 | Recall: 0.5268 | Precision: 0.3249 | Jaccard: 0.2460\n",
      "Best Green_UNet_Focal_Tversky_Full Saved\n"
     ]
    },
    {
     "name": "stderr",
     "output_type": "stream",
     "text": [
      "                                                                  \r"
     ]
    },
    {
     "name": "stdout",
     "output_type": "stream",
     "text": [
      "Epoch 07 | Time: 1m 6s\n",
      "\tTrain Loss: 0.3932 | Valid Loss: 0.5155\n",
      "\tAccuracy: 0.9801 | F1: 0.3669 | Dice: 0.4043 | Recall: 0.6704 | Precision: 0.2895 | Jaccard: 0.2381\n",
      "Best Green_UNet_Focal_Tversky_Full Saved\n"
     ]
    },
    {
     "name": "stderr",
     "output_type": "stream",
     "text": [
      "                                                                  \r"
     ]
    },
    {
     "name": "stdout",
     "output_type": "stream",
     "text": [
      "Epoch 08 | Time: 1m 6s\n",
      "\tTrain Loss: 0.3384 | Valid Loss: 0.5060\n",
      "\tAccuracy: 0.9826 | F1: 0.3740 | Dice: 0.4080 | Recall: 0.5588 | Precision: 0.3213 | Jaccard: 0.2426\n",
      "Best Green_UNet_Focal_Tversky_Full Saved\n"
     ]
    },
    {
     "name": "stderr",
     "output_type": "stream",
     "text": [
      "                                                                  \r"
     ]
    },
    {
     "name": "stdout",
     "output_type": "stream",
     "text": [
      "Epoch 09 | Time: 1m 6s\n",
      "\tTrain Loss: 0.2821 | Valid Loss: 0.4780\n",
      "\tAccuracy: 0.9881 | F1: 0.4345 | Dice: 0.4511 | Recall: 0.4316 | Precision: 0.4723 | Jaccard: 0.3010\n",
      "Best Green_UNet_Focal_Tversky_Full Saved\n"
     ]
    },
    {
     "name": "stderr",
     "output_type": "stream",
     "text": [
      "                                                                  \r"
     ]
    },
    {
     "name": "stdout",
     "output_type": "stream",
     "text": [
      "Epoch 10 | Time: 1m 5s\n",
      "\tTrain Loss: 0.2562 | Valid Loss: 0.4502\n",
      "\tAccuracy: 0.9878 | F1: 0.4334 | Dice: 0.4478 | Recall: 0.4499 | Precision: 0.4457 | Jaccard: 0.3011\n",
      "Best Green_UNet_Focal_Tversky_Full Saved\n"
     ]
    },
    {
     "name": "stderr",
     "output_type": "stream",
     "text": [
      "                                                                  \r"
     ]
    },
    {
     "name": "stdout",
     "output_type": "stream",
     "text": [
      "Epoch 11 | Time: 1m 5s\n",
      "\tTrain Loss: 0.2393 | Valid Loss: 0.5067\n",
      "\tAccuracy: 0.9866 | F1: 0.3913 | Dice: 0.4015 | Recall: 0.3813 | Precision: 0.4239 | Jaccard: 0.2645\n"
     ]
    },
    {
     "name": "stderr",
     "output_type": "stream",
     "text": [
      "                                                                  \r"
     ]
    },
    {
     "name": "stdout",
     "output_type": "stream",
     "text": [
      "Epoch 12 | Time: 1m 5s\n",
      "\tTrain Loss: 0.2015 | Valid Loss: 0.4673\n",
      "\tAccuracy: 0.9878 | F1: 0.4217 | Dice: 0.4366 | Recall: 0.4158 | Precision: 0.4596 | Jaccard: 0.2879\n"
     ]
    },
    {
     "name": "stderr",
     "output_type": "stream",
     "text": [
      "                                                                  \r"
     ]
    },
    {
     "name": "stdout",
     "output_type": "stream",
     "text": [
      "Epoch 13 | Time: 1m 5s\n",
      "\tTrain Loss: 0.1682 | Valid Loss: 0.5033\n",
      "\tAccuracy: 0.9871 | F1: 0.3905 | Dice: 0.4030 | Recall: 0.3746 | Precision: 0.4360 | Jaccard: 0.2641\n"
     ]
    },
    {
     "name": "stderr",
     "output_type": "stream",
     "text": [
      "                                                                  \r"
     ]
    },
    {
     "name": "stdout",
     "output_type": "stream",
     "text": [
      "Epoch 14 | Time: 1m 5s\n",
      "\tTrain Loss: 0.1617 | Valid Loss: 0.4342\n",
      "\tAccuracy: 0.9874 | F1: 0.4498 | Dice: 0.4678 | Recall: 0.4977 | Precision: 0.4412 | Jaccard: 0.3104\n",
      "Best Green_UNet_Focal_Tversky_Full Saved\n"
     ]
    },
    {
     "name": "stderr",
     "output_type": "stream",
     "text": [
      "                                                                  \r"
     ]
    },
    {
     "name": "stdout",
     "output_type": "stream",
     "text": [
      "Epoch 15 | Time: 1m 5s\n",
      "\tTrain Loss: 0.1539 | Valid Loss: 0.4432\n",
      "\tAccuracy: 0.9885 | F1: 0.4449 | Dice: 0.4549 | Recall: 0.4550 | Precision: 0.4549 | Jaccard: 0.3150\n"
     ]
    },
    {
     "name": "stderr",
     "output_type": "stream",
     "text": [
      "                                                                  \r"
     ]
    },
    {
     "name": "stdout",
     "output_type": "stream",
     "text": [
      "Epoch 16 | Time: 1m 5s\n",
      "\tTrain Loss: 0.1337 | Valid Loss: 0.3840\n",
      "\tAccuracy: 0.9875 | F1: 0.4721 | Dice: 0.4946 | Recall: 0.5591 | Precision: 0.4434 | Jaccard: 0.3293\n",
      "Best Green_UNet_Focal_Tversky_Full Saved\n"
     ]
    },
    {
     "name": "stderr",
     "output_type": "stream",
     "text": [
      "                                                                  \r"
     ]
    },
    {
     "name": "stdout",
     "output_type": "stream",
     "text": [
      "Epoch 17 | Time: 1m 5s\n",
      "\tTrain Loss: 0.1363 | Valid Loss: 0.4647\n",
      "\tAccuracy: 0.9880 | F1: 0.4249 | Dice: 0.4384 | Recall: 0.4066 | Precision: 0.4756 | Jaccard: 0.2892\n"
     ]
    },
    {
     "name": "stderr",
     "output_type": "stream",
     "text": [
      "                                                                  \r"
     ]
    },
    {
     "name": "stdout",
     "output_type": "stream",
     "text": [
      "Epoch 18 | Time: 1m 5s\n",
      "\tTrain Loss: 0.1465 | Valid Loss: 0.4530\n",
      "\tAccuracy: 0.9880 | F1: 0.4248 | Dice: 0.4369 | Recall: 0.4414 | Precision: 0.4325 | Jaccard: 0.2961\n"
     ]
    },
    {
     "name": "stderr",
     "output_type": "stream",
     "text": [
      "                                                                  \r"
     ]
    },
    {
     "name": "stdout",
     "output_type": "stream",
     "text": [
      "Epoch 19 | Time: 1m 5s\n",
      "\tTrain Loss: 0.1402 | Valid Loss: 0.4225\n",
      "\tAccuracy: 0.9877 | F1: 0.4505 | Dice: 0.4717 | Recall: 0.4998 | Precision: 0.4465 | Jaccard: 0.3082\n"
     ]
    },
    {
     "name": "stderr",
     "output_type": "stream",
     "text": [
      "                                                                  \r"
     ]
    },
    {
     "name": "stdout",
     "output_type": "stream",
     "text": [
      "Epoch 20 | Time: 1m 5s\n",
      "\tTrain Loss: 0.1283 | Valid Loss: 0.4278\n",
      "\tAccuracy: 0.9875 | F1: 0.4447 | Dice: 0.4706 | Recall: 0.5139 | Precision: 0.4340 | Jaccard: 0.3050\n"
     ]
    },
    {
     "name": "stderr",
     "output_type": "stream",
     "text": [
      "                                                                  \r"
     ]
    },
    {
     "name": "stdout",
     "output_type": "stream",
     "text": [
      "Epoch 21 | Time: 1m 5s\n",
      "\tTrain Loss: 0.1534 | Valid Loss: 0.4345\n",
      "\tAccuracy: 0.9869 | F1: 0.4382 | Dice: 0.4494 | Recall: 0.5032 | Precision: 0.4060 | Jaccard: 0.3031\n"
     ]
    },
    {
     "name": "stderr",
     "output_type": "stream",
     "text": [
      "                                                                  \r"
     ]
    },
    {
     "name": "stdout",
     "output_type": "stream",
     "text": [
      "Epoch 22 | Time: 1m 5s\n",
      "\tTrain Loss: 0.1117 | Valid Loss: 0.4043\n",
      "\tAccuracy: 0.9882 | F1: 0.4770 | Dice: 0.4974 | Recall: 0.5299 | Precision: 0.4687 | Jaccard: 0.3303\n"
     ]
    },
    {
     "name": "stderr",
     "output_type": "stream",
     "text": [
      "                                                                  \r"
     ]
    },
    {
     "name": "stdout",
     "output_type": "stream",
     "text": [
      "Epoch 23 | Time: 1m 5s\n",
      "\tTrain Loss: 0.0997 | Valid Loss: 0.3951\n",
      "\tAccuracy: 0.9879 | F1: 0.4794 | Dice: 0.4979 | Recall: 0.5396 | Precision: 0.4623 | Jaccard: 0.3315\n"
     ]
    },
    {
     "name": "stderr",
     "output_type": "stream",
     "text": [
      "                                                                  \r"
     ]
    },
    {
     "name": "stdout",
     "output_type": "stream",
     "text": [
      "Epoch 24 | Time: 1m 5s\n",
      "\tTrain Loss: 0.0922 | Valid Loss: 0.3946\n",
      "\tAccuracy: 0.9882 | F1: 0.4805 | Dice: 0.4961 | Recall: 0.5123 | Precision: 0.4809 | Jaccard: 0.3312\n"
     ]
    },
    {
     "name": "stderr",
     "output_type": "stream",
     "text": [
      "                                                                  \r"
     ]
    },
    {
     "name": "stdout",
     "output_type": "stream",
     "text": [
      "Epoch 25 | Time: 1m 5s\n",
      "\tTrain Loss: 0.0887 | Valid Loss: 0.3970\n",
      "\tAccuracy: 0.9883 | F1: 0.4804 | Dice: 0.4972 | Recall: 0.4989 | Precision: 0.4954 | Jaccard: 0.3293\n"
     ]
    },
    {
     "name": "stderr",
     "output_type": "stream",
     "text": [
      "                                                                  \r"
     ]
    },
    {
     "name": "stdout",
     "output_type": "stream",
     "text": [
      "Epoch 26 | Time: 1m 5s\n",
      "\tTrain Loss: 0.0868 | Valid Loss: 0.3932\n",
      "\tAccuracy: 0.9881 | F1: 0.4816 | Dice: 0.4999 | Recall: 0.5066 | Precision: 0.4934 | Jaccard: 0.3302\n"
     ]
    },
    {
     "name": "stderr",
     "output_type": "stream",
     "text": [
      "                                                                  \r"
     ]
    },
    {
     "name": "stdout",
     "output_type": "stream",
     "text": [
      "Epoch 27 | Time: 1m 5s\n",
      "\tTrain Loss: 0.0851 | Valid Loss: 0.4039\n",
      "\tAccuracy: 0.9879 | F1: 0.4689 | Dice: 0.4874 | Recall: 0.4889 | Precision: 0.4858 | Jaccard: 0.3185\n"
     ]
    },
    {
     "name": "stderr",
     "output_type": "stream",
     "text": [
      "                                                                  \r"
     ]
    },
    {
     "name": "stdout",
     "output_type": "stream",
     "text": [
      "Epoch 28 | Time: 1m 5s\n",
      "\tTrain Loss: 0.0829 | Valid Loss: 0.4021\n",
      "\tAccuracy: 0.9882 | F1: 0.4774 | Dice: 0.4962 | Recall: 0.4997 | Precision: 0.4927 | Jaccard: 0.3276\n"
     ]
    },
    {
     "name": "stderr",
     "output_type": "stream",
     "text": [
      "                                                                  \r"
     ]
    },
    {
     "name": "stdout",
     "output_type": "stream",
     "text": [
      "Epoch 29 | Time: 1m 5s\n",
      "\tTrain Loss: 0.0810 | Valid Loss: 0.4057\n",
      "\tAccuracy: 0.9880 | F1: 0.4719 | Dice: 0.4909 | Recall: 0.4885 | Precision: 0.4932 | Jaccard: 0.3212\n"
     ]
    },
    {
     "name": "stderr",
     "output_type": "stream",
     "text": [
      "                                                                  \r"
     ]
    },
    {
     "name": "stdout",
     "output_type": "stream",
     "text": [
      "Epoch 30 | Time: 1m 5s\n",
      "\tTrain Loss: 0.0811 | Valid Loss: 0.4044\n",
      "\tAccuracy: 0.9881 | F1: 0.4724 | Dice: 0.4902 | Recall: 0.4798 | Precision: 0.5010 | Jaccard: 0.3216\n"
     ]
    },
    {
     "name": "stderr",
     "output_type": "stream",
     "text": [
      "                                                                  \r"
     ]
    },
    {
     "name": "stdout",
     "output_type": "stream",
     "text": [
      "Epoch 31 | Time: 1m 5s\n",
      "\tTrain Loss: 0.0810 | Valid Loss: 0.4018\n",
      "\tAccuracy: 0.9882 | F1: 0.4776 | Dice: 0.4962 | Recall: 0.4974 | Precision: 0.4950 | Jaccard: 0.3273\n"
     ]
    },
    {
     "name": "stderr",
     "output_type": "stream",
     "text": [
      "                                                                  \r"
     ]
    },
    {
     "name": "stdout",
     "output_type": "stream",
     "text": [
      "Epoch 32 | Time: 1m 5s\n",
      "\tTrain Loss: 0.0806 | Valid Loss: 0.4044\n",
      "\tAccuracy: 0.9881 | F1: 0.4741 | Dice: 0.4929 | Recall: 0.4839 | Precision: 0.5021 | Jaccard: 0.3229\n"
     ]
    },
    {
     "name": "stderr",
     "output_type": "stream",
     "text": [
      "                                                                  \r"
     ]
    },
    {
     "name": "stdout",
     "output_type": "stream",
     "text": [
      "Epoch 33 | Time: 1m 5s\n",
      "\tTrain Loss: 0.0799 | Valid Loss: 0.3962\n",
      "\tAccuracy: 0.9880 | F1: 0.4824 | Dice: 0.5016 | Recall: 0.5158 | Precision: 0.4882 | Jaccard: 0.3314\n"
     ]
    },
    {
     "name": "stderr",
     "output_type": "stream",
     "text": [
      "                                                                  \r"
     ]
    },
    {
     "name": "stdout",
     "output_type": "stream",
     "text": [
      "Epoch 34 | Time: 1m 5s\n",
      "\tTrain Loss: 0.0799 | Valid Loss: 0.4047\n",
      "\tAccuracy: 0.9881 | F1: 0.4732 | Dice: 0.4921 | Recall: 0.4849 | Precision: 0.4996 | Jaccard: 0.3227\n"
     ]
    },
    {
     "name": "stderr",
     "output_type": "stream",
     "text": [
      "                                                                  \r"
     ]
    },
    {
     "name": "stdout",
     "output_type": "stream",
     "text": [
      "Epoch 35 | Time: 1m 5s\n",
      "\tTrain Loss: 0.0798 | Valid Loss: 0.4033\n",
      "\tAccuracy: 0.9880 | F1: 0.4757 | Dice: 0.4955 | Recall: 0.4989 | Precision: 0.4921 | Jaccard: 0.3251\n"
     ]
    },
    {
     "name": "stderr",
     "output_type": "stream",
     "text": [
      "                                                                  \r"
     ]
    },
    {
     "name": "stdout",
     "output_type": "stream",
     "text": [
      "Epoch 36 | Time: 1m 5s\n",
      "\tTrain Loss: 0.0793 | Valid Loss: 0.4043\n",
      "\tAccuracy: 0.9879 | F1: 0.4729 | Dice: 0.4921 | Recall: 0.4933 | Precision: 0.4909 | Jaccard: 0.3222\n"
     ]
    },
    {
     "name": "stderr",
     "output_type": "stream",
     "text": [
      "                                                                  \r"
     ]
    },
    {
     "name": "stdout",
     "output_type": "stream",
     "text": [
      "Epoch 37 | Time: 1m 5s\n",
      "\tTrain Loss: 0.0804 | Valid Loss: 0.4027\n",
      "\tAccuracy: 0.9883 | F1: 0.4777 | Dice: 0.4966 | Recall: 0.4939 | Precision: 0.4992 | Jaccard: 0.3274\n"
     ]
    },
    {
     "name": "stderr",
     "output_type": "stream",
     "text": [
      "                                                                  \r"
     ]
    },
    {
     "name": "stdout",
     "output_type": "stream",
     "text": [
      "Epoch 38 | Time: 1m 5s\n",
      "\tTrain Loss: 0.0797 | Valid Loss: 0.4053\n",
      "\tAccuracy: 0.9881 | F1: 0.4719 | Dice: 0.4899 | Recall: 0.4834 | Precision: 0.4965 | Jaccard: 0.3214\n"
     ]
    },
    {
     "name": "stderr",
     "output_type": "stream",
     "text": [
      "                                                                  \r"
     ]
    },
    {
     "name": "stdout",
     "output_type": "stream",
     "text": [
      "Epoch 39 | Time: 1m 5s\n",
      "\tTrain Loss: 0.0790 | Valid Loss: 0.4019\n",
      "\tAccuracy: 0.9881 | F1: 0.4766 | Dice: 0.4958 | Recall: 0.5003 | Precision: 0.4914 | Jaccard: 0.3263\n"
     ]
    },
    {
     "name": "stderr",
     "output_type": "stream",
     "text": [
      "                                                                  \r"
     ]
    },
    {
     "name": "stdout",
     "output_type": "stream",
     "text": [
      "Epoch 40 | Time: 1m 5s\n",
      "\tTrain Loss: 0.0798 | Valid Loss: 0.4038\n",
      "\tAccuracy: 0.9882 | F1: 0.4749 | Dice: 0.4943 | Recall: 0.4901 | Precision: 0.4986 | Jaccard: 0.3243\n"
     ]
    },
    {
     "name": "stderr",
     "output_type": "stream",
     "text": [
      "                                                                  \r"
     ]
    },
    {
     "name": "stdout",
     "output_type": "stream",
     "text": [
      "Epoch 41 | Time: 1m 5s\n",
      "\tTrain Loss: 0.0794 | Valid Loss: 0.4030\n",
      "\tAccuracy: 0.9880 | F1: 0.4769 | Dice: 0.4960 | Recall: 0.5051 | Precision: 0.4872 | Jaccard: 0.3268\n"
     ]
    },
    {
     "name": "stderr",
     "output_type": "stream",
     "text": [
      "                                                                  \r"
     ]
    },
    {
     "name": "stdout",
     "output_type": "stream",
     "text": [
      "Epoch 42 | Time: 1m 5s\n",
      "\tTrain Loss: 0.0788 | Valid Loss: 0.4003\n",
      "\tAccuracy: 0.9881 | F1: 0.4797 | Dice: 0.4995 | Recall: 0.5047 | Precision: 0.4943 | Jaccard: 0.3290\n"
     ]
    },
    {
     "name": "stderr",
     "output_type": "stream",
     "text": [
      "                                                                  \r"
     ]
    },
    {
     "name": "stdout",
     "output_type": "stream",
     "text": [
      "Epoch 43 | Time: 1m 5s\n",
      "\tTrain Loss: 0.0794 | Valid Loss: 0.4032\n",
      "\tAccuracy: 0.9881 | F1: 0.4749 | Dice: 0.4939 | Recall: 0.4976 | Precision: 0.4902 | Jaccard: 0.3249\n"
     ]
    },
    {
     "name": "stderr",
     "output_type": "stream",
     "text": [
      "                                                                  \r"
     ]
    },
    {
     "name": "stdout",
     "output_type": "stream",
     "text": [
      "Epoch 44 | Time: 1m 5s\n",
      "\tTrain Loss: 0.0789 | Valid Loss: 0.4054\n",
      "\tAccuracy: 0.9881 | F1: 0.4732 | Dice: 0.4922 | Recall: 0.4830 | Precision: 0.5017 | Jaccard: 0.3224\n"
     ]
    },
    {
     "name": "stderr",
     "output_type": "stream",
     "text": [
      "                                                                  "
     ]
    },
    {
     "name": "stdout",
     "output_type": "stream",
     "text": [
      "Epoch 45 | Time: 1m 5s\n",
      "\tTrain Loss: 0.0798 | Valid Loss: 0.4069\n",
      "\tAccuracy: 0.9881 | F1: 0.4722 | Dice: 0.4914 | Recall: 0.4801 | Precision: 0.5031 | Jaccard: 0.3210\n"
     ]
    },
    {
     "name": "stderr",
     "output_type": "stream",
     "text": [
      "\r"
     ]
    }
   ],
   "source": [
    "for epoch in range(45):\n",
    "    start = time.time()\n",
    "    train_loss = train(model, train_loader, optimizer, loss_fn, device)\n",
    "    valid_loss = evaluate(model, valid_loader, loss_fn, device)\n",
    "    scheduler.step(valid_loss)\n",
    "\n",
    "    model.eval()\n",
    "    valid_metrics = [0.0] * 5\n",
    "    with torch.no_grad():\n",
    "        for x_val, y_val, _ in tqdm(valid_loader, desc=\"Calculating Metrics\", leave=False):\n",
    "            x_val, y_val = x_val.to(device), y_val.to(device)\n",
    "            y_pred = model(x_val)\n",
    "            valid_metrics = list(map(add, valid_metrics, calculate_metrics(y_val, y_pred)))\n",
    "\n",
    "    metrics_avg = [m / len(valid_loader) for m in valid_metrics]\n",
    "    jaccard, f1, recall, precision, accuracy = metrics_avg\n",
    "    dice = (2 * precision * recall) / (precision + recall + 1e-7)\n",
    "\n",
    "    mins, secs = epoch_time(start, time.time())\n",
    "    print(f\"Epoch {epoch+1:02} | Time: {mins}m {secs}s\")\n",
    "    print(f\"\\tTrain Loss: {train_loss:.4f} | Valid Loss: {valid_loss:.4f}\")\n",
    "    print(f\"\\tAccuracy: {accuracy:.4f} | F1: {f1:.4f} | Dice: {dice:.4f} | Recall: {recall:.4f} | Precision: {precision:.4f} | Jaccard: {jaccard:.4f}\")\n",
    "    \n",
    "    if valid_loss < best_valid_loss:\n",
    "        best_valid_loss = valid_loss  \n",
    "        torch.save(model.state_dict(), f\"{MODEL_DIRECTORY}/{MODEL_NAME}.pth\")\n",
    "        print(f\"Best {MODEL_NAME} Saved\")"
   ]
  },
  {
   "cell_type": "code",
   "execution_count": 11,
   "id": "66af66c0",
   "metadata": {},
   "outputs": [
    {
     "name": "stderr",
     "output_type": "stream",
     "text": [
      "Testing: 100%|██████████| 14/14 [00:05<00:00,  2.66it/s]"
     ]
    },
    {
     "name": "stdout",
     "output_type": "stream",
     "text": [
      "Jaccard: 0.4182, F1: 0.5812, Recall: 0.7133, Precision: 0.5065, Accuracy: 0.9904\n",
      "FPS: 241.41665570319694\n"
     ]
    },
    {
     "name": "stderr",
     "output_type": "stream",
     "text": [
      "\n"
     ]
    }
   ],
   "source": [
    "# Load the best model\n",
    "model.load_state_dict(torch.load(f\"{MODEL_DIRECTORY}/{MODEL_NAME}.pth\", map_location=device))\n",
    "model.eval()\n",
    "\n",
    "# Evaluate on the held-out half of the test set\n",
    "test_loader = DataLoader(test_dataset, batch_size=1, shuffle=False, num_workers=0)\n",
    "metrics_score = [0.0] * 5\n",
    "time_taken = []\n",
    "\n",
    "for x, y, fname in tqdm(test_loader, desc=\"Testing\", total=len(test_loader)):\n",
    "    with torch.no_grad():\n",
    "        x, y = x.to(device), y.to(device)\n",
    "        start = time.time()\n",
    "        pred_y = model(x)\n",
    "        time_taken.append(time.time() - start)\n",
    "        metrics_score = list(map(add, metrics_score, calculate_metrics(y, pred_y)))\n",
    "\n",
    "    # Use green-channel image directly (grayscale)\n",
    "    green_img = (x.cpu().numpy()[0, 0] * 255).astype(np.uint8)  # Shape: [H, W]\n",
    "\n",
    "    # Process ground truth and prediction\n",
    "    mask = (y.cpu().numpy()[0, 0] * 255).astype(np.uint8)\n",
    "    pred = (torch.sigmoid(pred_y).cpu().numpy()[0, 0] > 0.5).astype(np.uint8) * 255\n",
    "\n",
    "    # Convert masks to RGB overlays\n",
    "    mask_img = mask_parse(mask)\n",
    "    pred_img = mask_parse(pred)\n",
    "\n",
    "    # Resize masks to match green image if needed\n",
    "    h, w = green_img.shape\n",
    "    mask_img = cv2.resize(mask_img, (w, h))\n",
    "    pred_img = cv2.resize(pred_img, (w, h))\n",
    "\n",
    "    # Create vertical separator\n",
    "    line = np.ones((h, 10, 3), dtype=np.uint8) * 128\n",
    "\n",
    "    # Convert green image to 3-channel grayscale for compatibility\n",
    "    green_rgb = np.stack([green_img]*3, axis=-1)\n",
    "\n",
    "    # Concatenate images: green | line | mask | line | prediction\n",
    "    result_uint8 = np.concatenate([green_rgb, line, mask_img, line, pred_img], axis=1)\n",
    "\n",
    "    # Safe filename\n",
    "    if isinstance(fname, (list, tuple)):\n",
    "        fname = fname[0]\n",
    "    save_name = os.path.splitext(fname)[0] + \".png\"\n",
    "\n",
    "    # Save image\n",
    "    plt.imsave(f\"{RESULT_DIRECTORY}/{save_name}\", result_uint8)\n",
    "\n",
    "# Final metrics\n",
    "j, f1, r, p, a = [m / len(test_loader) for m in metrics_score]\n",
    "print(f\"Jaccard: {j:.4f}, F1: {f1:.4f}, Recall: {r:.4f}, Precision: {p:.4f}, Accuracy: {a:.4f}\")\n",
    "print(\"FPS:\", 1 / np.mean(time_taken))\n"
   ]
  }
 ],
 "metadata": {
  "kernelspec": {
   "display_name": "Python 3",
   "language": "python",
   "name": "python3"
  },
  "language_info": {
   "codemirror_mode": {
    "name": "ipython",
    "version": 3
   },
   "file_extension": ".py",
   "mimetype": "text/x-python",
   "name": "python",
   "nbconvert_exporter": "python",
   "pygments_lexer": "ipython3",
   "version": "3.12.6"
  }
 },
 "nbformat": 4,
 "nbformat_minor": 5
}
